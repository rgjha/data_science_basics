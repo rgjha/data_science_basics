{
 "cells": [
  {
   "cell_type": "code",
   "execution_count": 3,
   "metadata": {
    "colab": {
     "base_uri": "https://localhost:8080/"
    },
    "id": "8yXqah8E_1JV",
    "outputId": "11ef713f-d300-4002-9201-cb0500bca47b"
   },
   "outputs": [
    {
     "name": "stderr",
     "output_type": "stream",
     "text": [
      "100%|██████████| 29/29 [00:01<00:00, 26.22it/s]\n"
     ]
    },
    {
     "name": "stdout",
     "output_type": "stream",
     "text": [
      "                               Accuracy  Balanced Accuracy  ROC AUC  F1 Score  \\\n",
      "Model                                                                           \n",
      "LinearSVC                          0.99               0.99     0.99      0.99   \n",
      "Perceptron                         0.99               0.98     0.98      0.99   \n",
      "LogisticRegression                 0.99               0.98     0.98      0.99   \n",
      "XGBClassifier                      0.98               0.98     0.98      0.98   \n",
      "SVC                                0.98               0.98     0.98      0.98   \n",
      "LabelPropagation                   0.98               0.97     0.97      0.98   \n",
      "LabelSpreading                     0.98               0.97     0.97      0.98   \n",
      "BaggingClassifier                  0.97               0.97     0.97      0.97   \n",
      "PassiveAggressiveClassifier        0.98               0.97     0.97      0.98   \n",
      "SGDClassifier                      0.98               0.97     0.97      0.98   \n",
      "RandomForestClassifier             0.97               0.97     0.97      0.97   \n",
      "CalibratedClassifierCV             0.98               0.97     0.97      0.98   \n",
      "QuadraticDiscriminantAnalysis      0.96               0.97     0.97      0.97   \n",
      "ExtraTreesClassifier               0.97               0.96     0.96      0.97   \n",
      "RidgeClassifierCV                  0.97               0.96     0.96      0.97   \n",
      "LGBMClassifier                     0.96               0.96     0.96      0.96   \n",
      "RidgeClassifier                    0.97               0.96     0.96      0.97   \n",
      "AdaBoostClassifier                 0.96               0.96     0.96      0.96   \n",
      "KNeighborsClassifier               0.96               0.96     0.96      0.96   \n",
      "BernoulliNB                        0.95               0.95     0.95      0.95   \n",
      "LinearDiscriminantAnalysis         0.96               0.95     0.95      0.96   \n",
      "GaussianNB                         0.95               0.95     0.95      0.95   \n",
      "NuSVC                              0.95               0.94     0.94      0.95   \n",
      "ExtraTreeClassifier                0.94               0.93     0.93      0.94   \n",
      "NearestCentroid                    0.95               0.93     0.93      0.95   \n",
      "DecisionTreeClassifier             0.93               0.93     0.93      0.93   \n",
      "DummyClassifier                    0.64               0.50     0.50      0.50   \n",
      "\n",
      "                               Time Taken  \n",
      "Model                                      \n",
      "LinearSVC                            0.02  \n",
      "Perceptron                           0.01  \n",
      "LogisticRegression                   0.02  \n",
      "XGBClassifier                        0.10  \n",
      "SVC                                  0.02  \n",
      "LabelPropagation                     0.03  \n",
      "LabelSpreading                       0.02  \n",
      "BaggingClassifier                    0.05  \n",
      "PassiveAggressiveClassifier          0.02  \n",
      "SGDClassifier                        0.02  \n",
      "RandomForestClassifier               0.19  \n",
      "CalibratedClassifierCV               0.03  \n",
      "QuadraticDiscriminantAnalysis        0.01  \n",
      "ExtraTreesClassifier                 0.13  \n",
      "RidgeClassifierCV                    0.01  \n",
      "LGBMClassifier                       0.08  \n",
      "RidgeClassifier                      0.01  \n",
      "AdaBoostClassifier                   0.14  \n",
      "KNeighborsClassifier                 0.02  \n",
      "BernoulliNB                          0.01  \n",
      "LinearDiscriminantAnalysis           0.02  \n",
      "GaussianNB                           0.01  \n",
      "NuSVC                                0.05  \n",
      "ExtraTreeClassifier                  0.01  \n",
      "NearestCentroid                      0.01  \n",
      "DecisionTreeClassifier               0.02  \n",
      "DummyClassifier                      0.01  \n"
     ]
    },
    {
     "name": "stderr",
     "output_type": "stream",
     "text": [
      " 17%|█▋        | 7/42 [00:00<00:01, 33.69it/s]"
     ]
    },
    {
     "name": "stdout",
     "output_type": "stream",
     "text": [
      "ElasticNetCV model failed to execute\n",
      "Gram matrix passed in via 'precompute' parameter did not pass validation when a single element was checked - please check that it was computed properly. For element (6,7) we computed -297.88409423828125 but the user-supplied value was -297.8840026855469.\n"
     ]
    },
    {
     "name": "stderr",
     "output_type": "stream",
     "text": [
      " 55%|█████▍    | 23/42 [00:01<00:00, 20.95it/s]"
     ]
    },
    {
     "name": "stdout",
     "output_type": "stream",
     "text": [
      "LassoCV model failed to execute\n",
      "Gram matrix passed in via 'precompute' parameter did not pass validation when a single element was checked - please check that it was computed properly. For element (6,7) we computed -297.88409423828125 but the user-supplied value was -297.8840026855469.\n"
     ]
    },
    {
     "name": "stderr",
     "output_type": "stream",
     "text": [
      "100%|██████████| 42/42 [00:06<00:00,  6.22it/s]\n"
     ]
    },
    {
     "name": "stdout",
     "output_type": "stream",
     "text": [
      "[18:11:32] WARNING: /workspace/src/objective/regression_obj.cu:152: reg:linear is now deprecated in favor of reg:squarederror.\n",
      "                               Adjusted R-Squared  R-Squared  RMSE  Time Taken\n",
      "Model                                                                         \n",
      "SVR                                          0.83       0.88  2.62        0.04\n",
      "BaggingRegressor                             0.83       0.88  2.63        0.04\n",
      "XGBRegressor                                 0.83       0.87  2.67        0.09\n",
      "NuSVR                                        0.82       0.86  2.76        0.04\n",
      "RandomForestRegressor                        0.81       0.86  2.78        0.52\n",
      "GradientBoostingRegressor                    0.81       0.86  2.84        0.21\n",
      "ExtraTreesRegressor                          0.79       0.84  2.98        0.20\n",
      "AdaBoostRegressor                            0.78       0.83  3.04        0.11\n",
      "HistGradientBoostingRegressor                0.77       0.83  3.06        0.22\n",
      "PoissonRegressor                             0.77       0.83  3.11        0.02\n",
      "LGBMRegressor                                0.77       0.83  3.11        0.10\n",
      "KNeighborsRegressor                          0.77       0.83  3.12        0.01\n",
      "DecisionTreeRegressor                        0.65       0.74  3.79        0.01\n",
      "MLPRegressor                                 0.65       0.74  3.80        0.63\n",
      "HuberRegressor                               0.64       0.74  3.84        0.02\n",
      "GammaRegressor                               0.64       0.73  3.88        0.01\n",
      "LinearSVR                                    0.62       0.72  3.96        0.01\n",
      "RidgeCV                                      0.62       0.72  3.97        0.01\n",
      "BayesianRidge                                0.62       0.72  3.97        0.01\n",
      "Ridge                                        0.62       0.72  3.97        0.01\n",
      "LinearRegression                             0.62       0.72  3.97        0.01\n",
      "TransformedTargetRegressor                   0.62       0.72  3.97        0.01\n",
      "LassoLarsIC                                  0.62       0.72  3.98        0.03\n",
      "LassoLarsCV                                  0.62       0.72  3.98        0.02\n",
      "Lars                                         0.61       0.72  3.99        0.04\n",
      "LarsCV                                       0.61       0.71  4.02        0.08\n",
      "SGDRegressor                                 0.60       0.70  4.07        0.01\n",
      "TweedieRegressor                             0.59       0.70  4.12        0.01\n",
      "ElasticNet                                   0.58       0.69  4.16        0.01\n",
      "Lasso                                        0.54       0.66  4.35        0.01\n",
      "RANSACRegressor                              0.53       0.65  4.41        0.16\n",
      "OrthogonalMatchingPursuitCV                  0.45       0.59  4.78        0.02\n",
      "PassiveAggressiveRegressor                   0.37       0.54  5.09        0.01\n",
      "GaussianProcessRegressor                     0.23       0.43  5.65        0.04\n",
      "OrthogonalMatchingPursuit                    0.16       0.38  5.89        0.01\n",
      "ExtraTreeRegressor                           0.08       0.32  6.17        0.01\n",
      "QuantileRegressor                           -0.35      -0.00  7.49        3.78\n",
      "DummyRegressor                              -0.38      -0.02  7.56        0.01\n",
      "LassoLars                                   -0.38      -0.02  7.56        0.01\n",
      "KernelRidge                                -11.50      -8.25 22.74        0.03\n"
     ]
    }
   ],
   "source": [
    "#pip install lazypredict \n",
    "from lazypredict.Supervised import LazyClassifier\n",
    "from lazypredict.Supervised import LazyRegressor\n",
    "from sklearn.datasets import load_breast_cancer\n",
    "from sklearn.model_selection import train_test_split\n",
    "from sklearn import datasets\n",
    "from sklearn.utils import shuffle\n",
    "import numpy as np\n",
    "\n",
    "# Classification\n",
    "\n",
    "data = load_breast_cancer()\n",
    "X = data.data\n",
    "y= data.target\n",
    "\n",
    "X_train, X_test, y_train, y_test = train_test_split(X, y,test_size=.5,random_state =123)\n",
    "\n",
    "clf = LazyClassifier(verbose=0,ignore_warnings=True, custom_metric=None)\n",
    "models,predictions = clf.fit(X_train, X_test, y_train, y_test)\n",
    "\n",
    "print(models)\n",
    "\n",
    "\n",
    "# Regression \n",
    "boston = datasets.load_boston()\n",
    "X, y = shuffle(boston.data, boston.target, random_state=13)\n",
    "X = X.astype(np.float32)\n",
    "\n",
    "offset = int(X.shape[0] * 0.9)\n",
    "\n",
    "X_train, y_train = X[:offset], y[:offset]\n",
    "X_test, y_test = X[offset:], y[offset:]\n",
    "\n",
    "reg = LazyRegressor(verbose=0, ignore_warnings=False, custom_metric=None)\n",
    "models, predictions = reg.fit(X_train, X_test, y_train, y_test)\n",
    "\n",
    "print(models)"
   ]
  }
 ],
 "metadata": {
  "colab": {
   "provenance": []
  },
  "kernelspec": {
   "display_name": "Python 3 (ipykernel)",
   "language": "python",
   "name": "python3"
  },
  "language_info": {
   "codemirror_mode": {
    "name": "ipython",
    "version": 3
   },
   "file_extension": ".py",
   "mimetype": "text/x-python",
   "name": "python",
   "nbconvert_exporter": "python",
   "pygments_lexer": "ipython3",
   "version": "3.9.13"
  }
 },
 "nbformat": 4,
 "nbformat_minor": 1
}
