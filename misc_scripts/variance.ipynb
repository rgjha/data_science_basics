{
 "cells": [
  {
   "cell_type": "code",
   "execution_count": 88,
   "id": "805d3aa9",
   "metadata": {},
   "outputs": [
    {
     "name": "stdout",
     "output_type": "stream",
     "text": [
      "5.7\n",
      "5.7\n",
      "4.5600000000000005\n"
     ]
    }
   ],
   "source": [
    "import numpy as np\n",
    "import random \n",
    "import math \n",
    "\n",
    "data = random.sample(range(1, 10), 5)\n",
    "\n",
    "def mean(x):\n",
    "    return sum(x)/len(x)\n",
    "\n",
    "def dem(x):\n",
    "    a = []\n",
    "    x_bar = mean(x)\n",
    "    return [x_i - x_bar for x_i in x]\n",
    "\n",
    "def ss(x):\n",
    "    return sum(i*i for i in x)\n",
    "\n",
    "def variance(x):\n",
    "    n = len(x)\n",
    "    return ss(dem(x))/(n-1)\n",
    "\n",
    "\n",
    "print (variance(data))\n",
    "print(np.var(data,ddof=1))\n",
    "print(np.var(data,ddof=0))\n",
    "\n",
    "\n",
    "\n"
   ]
  },
  {
   "cell_type": "code",
   "execution_count": null,
   "id": "ef376af0",
   "metadata": {},
   "outputs": [],
   "source": []
  }
 ],
 "metadata": {
  "kernelspec": {
   "display_name": "Python 3 (ipykernel)",
   "language": "python",
   "name": "python3"
  },
  "language_info": {
   "codemirror_mode": {
    "name": "ipython",
    "version": 3
   },
   "file_extension": ".py",
   "mimetype": "text/x-python",
   "name": "python",
   "nbconvert_exporter": "python",
   "pygments_lexer": "ipython3",
   "version": "3.9.13"
  }
 },
 "nbformat": 4,
 "nbformat_minor": 5
}
