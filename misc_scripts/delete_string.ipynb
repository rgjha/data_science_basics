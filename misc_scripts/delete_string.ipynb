{
 "cells": [
  {
   "cell_type": "code",
   "execution_count": 1,
   "id": "898500a4",
   "metadata": {},
   "outputs": [
    {
     "name": "stdout",
     "output_type": "stream",
     "text": [
      "Cost is 3\n"
     ]
    }
   ],
   "source": [
    "import sys \n",
    "\n",
    "S = \"abccbd\"\n",
    "C = [0,1,2,3,4,5]\n",
    "\n",
    "S = \"aabbcc\"\n",
    "C = [1,2,1,2,1,2] # Ans: 3\n",
    "\n",
    "S = \"aaabbb\"\n",
    "C = [1, 2, 3, 4, 5, 6] #Ans:12\n",
    "\n",
    "S = \"xxyyx\"\n",
    "C = [2, 3, 10, 4, 6] #Ans:6\n",
    "\n",
    "S = \"abaac\"\n",
    "C = [1,2,3,4,5] # Ans: 3 \n",
    "\n",
    "\n",
    "#S = \"aabbccaa\"\n",
    "#C = [4,2,4,2,4,2,1,1] #Ans:7\n",
    "\n",
    "#S = \"aaaaba\"\n",
    "#C = [3,2,1,1, 5, 6] # Ans:4\n",
    "\n",
    "#S = \"ababa\"\n",
    "#C = [10,5,10,5,10] # Ans: 02\n",
    "\n",
    "\n",
    "\n",
    "def solution(S, C):\n",
    "\n",
    "    answer = 0\n",
    "\n",
    "    for i in range (0, len(S)-1):\n",
    "\n",
    "      if S[i] != S[i+1]:\n",
    "        pass\n",
    "        \n",
    "      else:\n",
    "        add = min(C[i],C[i+1])\n",
    "        answer += add\n",
    "    \n",
    "    return answer\n",
    "\n",
    "print (\"Cost is\", solution(S,C))"
   ]
  },
  {
   "cell_type": "code",
   "execution_count": null,
   "id": "5e963c00",
   "metadata": {},
   "outputs": [],
   "source": []
  }
 ],
 "metadata": {
  "kernelspec": {
   "display_name": "Python 3 (ipykernel)",
   "language": "python",
   "name": "python3"
  },
  "language_info": {
   "codemirror_mode": {
    "name": "ipython",
    "version": 3
   },
   "file_extension": ".py",
   "mimetype": "text/x-python",
   "name": "python",
   "nbconvert_exporter": "python",
   "pygments_lexer": "ipython3",
   "version": "3.9.13"
  }
 },
 "nbformat": 4,
 "nbformat_minor": 5
}
