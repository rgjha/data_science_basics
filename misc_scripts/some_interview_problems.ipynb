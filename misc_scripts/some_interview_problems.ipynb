{
 "cells": [
  {
   "cell_type": "code",
   "execution_count": 4,
   "metadata": {},
   "outputs": [
    {
     "name": "stdout",
     "output_type": "stream",
     "text": [
      "2\n"
     ]
    }
   ],
   "source": [
    "# Check: https://github.com/theartificialguy/Data-Structures-and-Algorithms-Interview-Questions-for-Practice\n",
    "\n",
    "arr1 = [-1,5,10,20,28,3]\n",
    "arr2 = [26,134,135,15,17]\n",
    "\n",
    "class Solution:\n",
    "   def solve(self, L1, L2):\n",
    "      L1.sort()\n",
    "      L2.sort()\n",
    "      ans = float(\"inf\")\n",
    "      i = j = 0\n",
    "      while i < len(L1) and j < len(L2):\n",
    "         ans = min(ans, abs(L1[i] - L2[j]))\n",
    "         if L1[i] < L2[j]:\n",
    "            i += 1\n",
    "         else:\n",
    "            j += 1\n",
    "      return ans\n",
    "ob = Solution()\n",
    "print(ob.solve(arr1, arr2))\n"
   ]
  },
  {
   "cell_type": "code",
   "execution_count": 6,
   "id": "d655ec08",
   "metadata": {},
   "outputs": [
    {
     "name": "stdout",
     "output_type": "stream",
     "text": [
      "4\n"
     ]
    }
   ],
   "source": [
    "# Function to find the length of the longest common subsequence of\n",
    "# two array X and Y.\n",
    "\n",
    "\n",
    "s1 = \"abcfdae\"\n",
    "s2 = \"acdef\"\n",
    "\n",
    "def LCSLength(X, Y, m, n):\n",
    " \n",
    "    # return if the end of either sequence is reached\n",
    "    if m == 0 or n == 0:\n",
    "        return 0\n",
    " \n",
    "    # if the last character of `X` and `Y` matches\n",
    "    if X[m - 1] == Y[n - 1]:\n",
    "        return LCSLength(X, Y, m - 1, n - 1) + 1\n",
    " \n",
    "    # otherwise, if the last character of `X` and `Y` don't match\n",
    "    return max(LCSLength(X, Y, m, n - 1), LCSLength(X, Y, m - 1, n))\n",
    "\n",
    "print(LCSLength(s1,s2,len(s1),len(s2)))"
   ]
  },
  {
   "cell_type": "code",
   "execution_count": 7,
   "id": "0b681bd3",
   "metadata": {},
   "outputs": [],
   "source": [
    "#Alt: # Slow. # Leet Code doesn;t accept\n",
    "\n",
    "class Solution:\n",
    "        def longestCommonSubsequence(self, s1: str, s2: str):\n",
    "            return self.helper(s1, s2, len(s1), len(s2))\n",
    "            \n",
    "        def helper(self, s1, s2, i, j):\n",
    "            if i == 0 or j == 0:\n",
    "                return 0\n",
    "            if s1[i-1] == s2[j-1]:\n",
    "                return 1 + self.helper(s1, s2, i - 1, j - 1)\n",
    "            else:\n",
    "                return max(self.helper(s1, s2, i-1, j), self.helper(s1, s2, i, j - 1))"
   ]
  },
  {
   "cell_type": "code",
   "execution_count": 19,
   "id": "499400c9",
   "metadata": {},
   "outputs": [
    {
     "data": {
      "text/plain": [
       "3"
      ]
     },
     "execution_count": 19,
     "metadata": {},
     "output_type": "execute_result"
    }
   ],
   "source": [
    "# Alt:\n",
    "import numpy as np\n",
    "s1 = \"abcfeg\"\n",
    "s2 = \"acdef\"\n",
    "\n",
    "class Solution:\n",
    "    def longestCommonSub(self, s1: str, s2: str) -> int:\n",
    "        m, n = len(s1), len(s2)\n",
    "        dp = [[0] * (n+1) for _ in range(m+1)] # n*1 by m*1 \n",
    "        for i in range(1, m+1):\n",
    "            for j in range(1, n+1):\n",
    "                if s1[i-1] == s2[j-1]:\n",
    "                    dp[i][j] = dp[i-1][j-1] + 1\n",
    "                else:\n",
    "                    dp[i][j] = max(dp[i][j-1], dp[i-1][j])\n",
    "        return dp[m][n]\n",
    "    \n",
    "\n",
    "Solution().longestCommonSub(s1,s2)"
   ]
  }
 ],
 "metadata": {
  "kernelspec": {
   "display_name": "base",
   "language": "python",
   "name": "python3"
  },
  "language_info": {
   "codemirror_mode": {
    "name": "ipython",
    "version": 3
   },
   "file_extension": ".py",
   "mimetype": "text/x-python",
   "name": "python",
   "nbconvert_exporter": "python",
   "pygments_lexer": "ipython3",
   "version": "3.9.13"
  }
 },
 "nbformat": 4,
 "nbformat_minor": 5
}
