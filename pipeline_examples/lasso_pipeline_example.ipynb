{
 "cells": [
  {
   "cell_type": "code",
   "execution_count": 1,
   "id": "19d8ea6a",
   "metadata": {},
   "outputs": [],
   "source": [
    "import numpy as np \n",
    "import pandas as pd\n",
    "import matplotlib.pyplot as plt\n",
    "import seaborn as sns\n",
    "\n",
    "import warnings\n",
    "warnings.filterwarnings('ignore')"
   ]
  },
  {
   "cell_type": "code",
   "execution_count": 3,
   "id": "134ee450",
   "metadata": {},
   "outputs": [
    {
     "data": {
      "text/html": [
       "<div>\n",
       "<style scoped>\n",
       "    .dataframe tbody tr th:only-of-type {\n",
       "        vertical-align: middle;\n",
       "    }\n",
       "\n",
       "    .dataframe tbody tr th {\n",
       "        vertical-align: top;\n",
       "    }\n",
       "\n",
       "    .dataframe thead th {\n",
       "        text-align: right;\n",
       "    }\n",
       "</style>\n",
       "<table border=\"1\" class=\"dataframe\">\n",
       "  <thead>\n",
       "    <tr style=\"text-align: right;\">\n",
       "      <th></th>\n",
       "      <th>PoolQC</th>\n",
       "      <th>Fence</th>\n",
       "      <th>MiscFeature</th>\n",
       "      <th>MiscVal</th>\n",
       "      <th>MoSold</th>\n",
       "      <th>YrSold</th>\n",
       "      <th>SaleType</th>\n",
       "      <th>SaleCondition</th>\n",
       "      <th>SalePrice</th>\n",
       "    </tr>\n",
       "  </thead>\n",
       "  <tbody>\n",
       "    <tr>\n",
       "      <th>0</th>\n",
       "      <td>NaN</td>\n",
       "      <td>NaN</td>\n",
       "      <td>NaN</td>\n",
       "      <td>0</td>\n",
       "      <td>2</td>\n",
       "      <td>2008</td>\n",
       "      <td>WD</td>\n",
       "      <td>Normal</td>\n",
       "      <td>208500</td>\n",
       "    </tr>\n",
       "    <tr>\n",
       "      <th>1</th>\n",
       "      <td>NaN</td>\n",
       "      <td>NaN</td>\n",
       "      <td>NaN</td>\n",
       "      <td>0</td>\n",
       "      <td>5</td>\n",
       "      <td>2007</td>\n",
       "      <td>WD</td>\n",
       "      <td>Normal</td>\n",
       "      <td>181500</td>\n",
       "    </tr>\n",
       "    <tr>\n",
       "      <th>2</th>\n",
       "      <td>NaN</td>\n",
       "      <td>NaN</td>\n",
       "      <td>NaN</td>\n",
       "      <td>0</td>\n",
       "      <td>9</td>\n",
       "      <td>2008</td>\n",
       "      <td>WD</td>\n",
       "      <td>Normal</td>\n",
       "      <td>223500</td>\n",
       "    </tr>\n",
       "    <tr>\n",
       "      <th>3</th>\n",
       "      <td>NaN</td>\n",
       "      <td>NaN</td>\n",
       "      <td>NaN</td>\n",
       "      <td>0</td>\n",
       "      <td>2</td>\n",
       "      <td>2006</td>\n",
       "      <td>WD</td>\n",
       "      <td>Abnorml</td>\n",
       "      <td>140000</td>\n",
       "    </tr>\n",
       "    <tr>\n",
       "      <th>4</th>\n",
       "      <td>NaN</td>\n",
       "      <td>NaN</td>\n",
       "      <td>NaN</td>\n",
       "      <td>0</td>\n",
       "      <td>12</td>\n",
       "      <td>2008</td>\n",
       "      <td>WD</td>\n",
       "      <td>Normal</td>\n",
       "      <td>250000</td>\n",
       "    </tr>\n",
       "    <tr>\n",
       "      <th>...</th>\n",
       "      <td>...</td>\n",
       "      <td>...</td>\n",
       "      <td>...</td>\n",
       "      <td>...</td>\n",
       "      <td>...</td>\n",
       "      <td>...</td>\n",
       "      <td>...</td>\n",
       "      <td>...</td>\n",
       "      <td>...</td>\n",
       "    </tr>\n",
       "    <tr>\n",
       "      <th>1455</th>\n",
       "      <td>NaN</td>\n",
       "      <td>NaN</td>\n",
       "      <td>NaN</td>\n",
       "      <td>0</td>\n",
       "      <td>8</td>\n",
       "      <td>2007</td>\n",
       "      <td>WD</td>\n",
       "      <td>Normal</td>\n",
       "      <td>175000</td>\n",
       "    </tr>\n",
       "    <tr>\n",
       "      <th>1456</th>\n",
       "      <td>NaN</td>\n",
       "      <td>MnPrv</td>\n",
       "      <td>NaN</td>\n",
       "      <td>0</td>\n",
       "      <td>2</td>\n",
       "      <td>2010</td>\n",
       "      <td>WD</td>\n",
       "      <td>Normal</td>\n",
       "      <td>210000</td>\n",
       "    </tr>\n",
       "    <tr>\n",
       "      <th>1457</th>\n",
       "      <td>NaN</td>\n",
       "      <td>GdPrv</td>\n",
       "      <td>Shed</td>\n",
       "      <td>2500</td>\n",
       "      <td>5</td>\n",
       "      <td>2010</td>\n",
       "      <td>WD</td>\n",
       "      <td>Normal</td>\n",
       "      <td>266500</td>\n",
       "    </tr>\n",
       "    <tr>\n",
       "      <th>1458</th>\n",
       "      <td>NaN</td>\n",
       "      <td>NaN</td>\n",
       "      <td>NaN</td>\n",
       "      <td>0</td>\n",
       "      <td>4</td>\n",
       "      <td>2010</td>\n",
       "      <td>WD</td>\n",
       "      <td>Normal</td>\n",
       "      <td>142125</td>\n",
       "    </tr>\n",
       "    <tr>\n",
       "      <th>1459</th>\n",
       "      <td>NaN</td>\n",
       "      <td>NaN</td>\n",
       "      <td>NaN</td>\n",
       "      <td>0</td>\n",
       "      <td>6</td>\n",
       "      <td>2008</td>\n",
       "      <td>WD</td>\n",
       "      <td>Normal</td>\n",
       "      <td>147500</td>\n",
       "    </tr>\n",
       "  </tbody>\n",
       "</table>\n",
       "<p>1460 rows × 9 columns</p>\n",
       "</div>"
      ],
      "text/plain": [
       "     PoolQC  Fence MiscFeature  MiscVal  MoSold  YrSold SaleType  \\\n",
       "0       NaN    NaN         NaN        0       2    2008       WD   \n",
       "1       NaN    NaN         NaN        0       5    2007       WD   \n",
       "2       NaN    NaN         NaN        0       9    2008       WD   \n",
       "3       NaN    NaN         NaN        0       2    2006       WD   \n",
       "4       NaN    NaN         NaN        0      12    2008       WD   \n",
       "...     ...    ...         ...      ...     ...     ...      ...   \n",
       "1455    NaN    NaN         NaN        0       8    2007       WD   \n",
       "1456    NaN  MnPrv         NaN        0       2    2010       WD   \n",
       "1457    NaN  GdPrv        Shed     2500       5    2010       WD   \n",
       "1458    NaN    NaN         NaN        0       4    2010       WD   \n",
       "1459    NaN    NaN         NaN        0       6    2008       WD   \n",
       "\n",
       "     SaleCondition  SalePrice  \n",
       "0           Normal     208500  \n",
       "1           Normal     181500  \n",
       "2           Normal     223500  \n",
       "3          Abnorml     140000  \n",
       "4           Normal     250000  \n",
       "...            ...        ...  \n",
       "1455        Normal     175000  \n",
       "1456        Normal     210000  \n",
       "1457        Normal     266500  \n",
       "1458        Normal     142125  \n",
       "1459        Normal     147500  \n",
       "\n",
       "[1460 rows x 9 columns]"
      ]
     },
     "execution_count": 3,
     "metadata": {},
     "output_type": "execute_result"
    }
   ],
   "source": [
    "train = pd.read_csv('train.csv')\n",
    "X_test = pd.read_csv('test.csv')\n",
    "\n",
    "train.iloc[:, 72:] # Total 81 columns "
   ]
  },
  {
   "cell_type": "code",
   "execution_count": 4,
   "id": "f1db2e69",
   "metadata": {},
   "outputs": [],
   "source": [
    "from sklearn.model_selection import train_test_split\n",
    "\n",
    "X = train.drop('SalePrice', axis=1)\n",
    "y = train.SalePrice\n",
    "\n",
    "X_train, X_valid, y_train, y_valid = train_test_split(X, y, test_size=.25, random_state=1121)"
   ]
  },
  {
   "cell_type": "code",
   "execution_count": 5,
   "id": "3cd8a7bd",
   "metadata": {},
   "outputs": [],
   "source": [
    "# All categorical columns\n",
    "object_cols = [col for col in X_train.columns if X_train[col].dtype == \"object\"]\n",
    "\n",
    "# Columns that can be safely label encoded\n",
    "good_label_cols = [col for col in object_cols if set(X_train[col]) == set(X_valid[col])]\n",
    "        \n",
    "# Problematic columns that will be dropped from the dataset\n",
    "bad_label_cols = list(set(object_cols)-set(good_label_cols))\n",
    "\n",
    "# Drop categorical columns that will not be encoded\n",
    "X_train = X_train.drop(bad_label_cols, axis=1)\n",
    "X_valid = X_valid.drop(bad_label_cols, axis=1)"
   ]
  },
  {
   "cell_type": "code",
   "execution_count": 7,
   "id": "33e9c3d8",
   "metadata": {},
   "outputs": [
    {
     "data": {
      "text/html": [
       "<div>\n",
       "<style scoped>\n",
       "    .dataframe tbody tr th:only-of-type {\n",
       "        vertical-align: middle;\n",
       "    }\n",
       "\n",
       "    .dataframe tbody tr th {\n",
       "        vertical-align: top;\n",
       "    }\n",
       "\n",
       "    .dataframe thead th {\n",
       "        text-align: right;\n",
       "    }\n",
       "</style>\n",
       "<table border=\"1\" class=\"dataframe\">\n",
       "  <thead>\n",
       "    <tr style=\"text-align: right;\">\n",
       "      <th></th>\n",
       "      <th>count</th>\n",
       "      <th>mean</th>\n",
       "      <th>std</th>\n",
       "      <th>min</th>\n",
       "      <th>25%</th>\n",
       "      <th>50%</th>\n",
       "      <th>75%</th>\n",
       "      <th>max</th>\n",
       "    </tr>\n",
       "  </thead>\n",
       "  <tbody>\n",
       "    <tr>\n",
       "      <th>Id</th>\n",
       "      <td>1095.0</td>\n",
       "      <td>739.581735</td>\n",
       "      <td>412.416975</td>\n",
       "      <td>1.0</td>\n",
       "      <td>392.5</td>\n",
       "      <td>739.0</td>\n",
       "      <td>1094.5</td>\n",
       "      <td>1460.0</td>\n",
       "    </tr>\n",
       "    <tr>\n",
       "      <th>MSSubClass</th>\n",
       "      <td>1095.0</td>\n",
       "      <td>56.630137</td>\n",
       "      <td>42.147725</td>\n",
       "      <td>20.0</td>\n",
       "      <td>20.0</td>\n",
       "      <td>50.0</td>\n",
       "      <td>70.0</td>\n",
       "      <td>190.0</td>\n",
       "    </tr>\n",
       "    <tr>\n",
       "      <th>LotFrontage</th>\n",
       "      <td>906.0</td>\n",
       "      <td>70.100442</td>\n",
       "      <td>24.104099</td>\n",
       "      <td>21.0</td>\n",
       "      <td>59.0</td>\n",
       "      <td>70.0</td>\n",
       "      <td>80.0</td>\n",
       "      <td>313.0</td>\n",
       "    </tr>\n",
       "    <tr>\n",
       "      <th>LotArea</th>\n",
       "      <td>1095.0</td>\n",
       "      <td>10574.406393</td>\n",
       "      <td>10951.131951</td>\n",
       "      <td>1300.0</td>\n",
       "      <td>7447.5</td>\n",
       "      <td>9452.0</td>\n",
       "      <td>11489.0</td>\n",
       "      <td>215245.0</td>\n",
       "    </tr>\n",
       "    <tr>\n",
       "      <th>OverallQual</th>\n",
       "      <td>1095.0</td>\n",
       "      <td>6.085845</td>\n",
       "      <td>1.364853</td>\n",
       "      <td>1.0</td>\n",
       "      <td>5.0</td>\n",
       "      <td>6.0</td>\n",
       "      <td>7.0</td>\n",
       "      <td>10.0</td>\n",
       "    </tr>\n",
       "    <tr>\n",
       "      <th>OverallCond</th>\n",
       "      <td>1095.0</td>\n",
       "      <td>5.578082</td>\n",
       "      <td>1.123569</td>\n",
       "      <td>1.0</td>\n",
       "      <td>5.0</td>\n",
       "      <td>5.0</td>\n",
       "      <td>6.0</td>\n",
       "      <td>9.0</td>\n",
       "    </tr>\n",
       "    <tr>\n",
       "      <th>YearBuilt</th>\n",
       "      <td>1095.0</td>\n",
       "      <td>1971.548858</td>\n",
       "      <td>30.163163</td>\n",
       "      <td>1872.0</td>\n",
       "      <td>1954.0</td>\n",
       "      <td>1973.0</td>\n",
       "      <td>2001.0</td>\n",
       "      <td>2010.0</td>\n",
       "    </tr>\n",
       "    <tr>\n",
       "      <th>YearRemodAdd</th>\n",
       "      <td>1095.0</td>\n",
       "      <td>1985.078539</td>\n",
       "      <td>20.459244</td>\n",
       "      <td>1950.0</td>\n",
       "      <td>1967.0</td>\n",
       "      <td>1994.0</td>\n",
       "      <td>2004.0</td>\n",
       "      <td>2010.0</td>\n",
       "    </tr>\n",
       "    <tr>\n",
       "      <th>MasVnrArea</th>\n",
       "      <td>1087.0</td>\n",
       "      <td>101.528059</td>\n",
       "      <td>174.826509</td>\n",
       "      <td>0.0</td>\n",
       "      <td>0.0</td>\n",
       "      <td>0.0</td>\n",
       "      <td>163.0</td>\n",
       "      <td>1378.0</td>\n",
       "    </tr>\n",
       "    <tr>\n",
       "      <th>BsmtFinSF1</th>\n",
       "      <td>1095.0</td>\n",
       "      <td>430.004566</td>\n",
       "      <td>428.544331</td>\n",
       "      <td>0.0</td>\n",
       "      <td>0.0</td>\n",
       "      <td>378.0</td>\n",
       "      <td>694.5</td>\n",
       "      <td>2260.0</td>\n",
       "    </tr>\n",
       "    <tr>\n",
       "      <th>BsmtFinSF2</th>\n",
       "      <td>1095.0</td>\n",
       "      <td>51.206393</td>\n",
       "      <td>168.719631</td>\n",
       "      <td>0.0</td>\n",
       "      <td>0.0</td>\n",
       "      <td>0.0</td>\n",
       "      <td>0.0</td>\n",
       "      <td>1127.0</td>\n",
       "    </tr>\n",
       "  </tbody>\n",
       "</table>\n",
       "</div>"
      ],
      "text/plain": [
       "               count          mean           std     min     25%     50%  \\\n",
       "Id            1095.0    739.581735    412.416975     1.0   392.5   739.0   \n",
       "MSSubClass    1095.0     56.630137     42.147725    20.0    20.0    50.0   \n",
       "LotFrontage    906.0     70.100442     24.104099    21.0    59.0    70.0   \n",
       "LotArea       1095.0  10574.406393  10951.131951  1300.0  7447.5  9452.0   \n",
       "OverallQual   1095.0      6.085845      1.364853     1.0     5.0     6.0   \n",
       "OverallCond   1095.0      5.578082      1.123569     1.0     5.0     5.0   \n",
       "YearBuilt     1095.0   1971.548858     30.163163  1872.0  1954.0  1973.0   \n",
       "YearRemodAdd  1095.0   1985.078539     20.459244  1950.0  1967.0  1994.0   \n",
       "MasVnrArea    1087.0    101.528059    174.826509     0.0     0.0     0.0   \n",
       "BsmtFinSF1    1095.0    430.004566    428.544331     0.0     0.0   378.0   \n",
       "BsmtFinSF2    1095.0     51.206393    168.719631     0.0     0.0     0.0   \n",
       "\n",
       "                  75%       max  \n",
       "Id             1094.5    1460.0  \n",
       "MSSubClass       70.0     190.0  \n",
       "LotFrontage      80.0     313.0  \n",
       "LotArea       11489.0  215245.0  \n",
       "OverallQual       7.0      10.0  \n",
       "OverallCond       6.0       9.0  \n",
       "YearBuilt      2001.0    2010.0  \n",
       "YearRemodAdd   2004.0    2010.0  \n",
       "MasVnrArea      163.0    1378.0  \n",
       "BsmtFinSF1      694.5    2260.0  \n",
       "BsmtFinSF2        0.0    1127.0  "
      ]
     },
     "execution_count": 7,
     "metadata": {},
     "output_type": "execute_result"
    }
   ],
   "source": [
    "X_train.describe().T.iloc[:11]"
   ]
  },
  {
   "cell_type": "code",
   "execution_count": 9,
   "id": "6557e2e6",
   "metadata": {},
   "outputs": [],
   "source": [
    "missing = X_train.isnull().sum() > 0"
   ]
  },
  {
   "cell_type": "code",
   "execution_count": 10,
   "id": "ed636d3f",
   "metadata": {},
   "outputs": [
    {
     "data": {
      "text/plain": [
       "LotFrontage      189\n",
       "Alley           1037\n",
       "MasVnrArea         8\n",
       "BsmtQual          28\n",
       "BsmtExposure      29\n",
       "BsmtFinType1      28\n",
       "BsmtFinType2      29\n",
       "FireplaceQu      517\n",
       "GarageType        56\n",
       "GarageYrBlt       56\n",
       "GarageFinish      56\n",
       "Fence            884\n",
       "dtype: int64"
      ]
     },
     "execution_count": 10,
     "metadata": {},
     "output_type": "execute_result"
    }
   ],
   "source": [
    "X_train.isnull().sum()[missing]"
   ]
  },
  {
   "cell_type": "code",
   "execution_count": 14,
   "id": "dfd76a66",
   "metadata": {},
   "outputs": [
    {
     "name": "stdout",
     "output_type": "stream",
     "text": [
      "['LotFrontage', 'Alley', 'MasVnrArea', 'BsmtQual', 'BsmtExposure', 'BsmtFinType1', 'BsmtFinType2', 'FireplaceQu', 'GarageType', 'GarageYrBlt', 'GarageFinish', 'Fence']\n"
     ]
    }
   ],
   "source": [
    "#X_train.isna().any()\n",
    "nan_cols = [i for i in X_train.columns if X_train[i].isnull().any()]\n",
    "print (nan_cols) "
   ]
  },
  {
   "cell_type": "code",
   "execution_count": 15,
   "id": "95d7ea98",
   "metadata": {},
   "outputs": [
    {
     "name": "stdout",
     "output_type": "stream",
     "text": [
      "There are 37 numerical features: \n",
      "\n",
      "['Id', 'MSSubClass', 'LotFrontage', 'LotArea', 'OverallQual', 'OverallCond', 'YearBuilt', 'YearRemodAdd', 'MasVnrArea', 'BsmtFinSF1', 'BsmtFinSF2', 'BsmtUnfSF', 'TotalBsmtSF', '1stFlrSF', '2ndFlrSF', 'LowQualFinSF', 'GrLivArea', 'BsmtFullBath', 'BsmtHalfBath', 'FullBath', 'HalfBath', 'BedroomAbvGr', 'KitchenAbvGr', 'TotRmsAbvGrd', 'Fireplaces', 'GarageYrBlt', 'GarageCars', 'GarageArea', 'WoodDeckSF', 'OpenPorchSF', 'EnclosedPorch', '3SsnPorch', 'ScreenPorch', 'PoolArea', 'MiscVal', 'MoSold', 'YrSold']\n"
     ]
    }
   ],
   "source": [
    "numerical_features = X_train.select_dtypes(include='number').columns.tolist()\n",
    "print(f'There are {len(numerical_features)} numerical features:', '\\n')\n",
    "print(numerical_features)"
   ]
  },
  {
   "cell_type": "code",
   "execution_count": 16,
   "id": "c0d34534",
   "metadata": {},
   "outputs": [
    {
     "name": "stdout",
     "output_type": "stream",
     "text": [
      "There are 24 categorical features: \n",
      "\n",
      "['MSZoning', 'Street', 'Alley', 'LotShape', 'LandContour', 'LotConfig', 'LandSlope', 'Neighborhood', 'BldgType', 'HouseStyle', 'RoofStyle', 'ExterQual', 'Foundation', 'BsmtQual', 'BsmtExposure', 'BsmtFinType1', 'BsmtFinType2', 'CentralAir', 'KitchenQual', 'FireplaceQu', 'GarageType', 'GarageFinish', 'PavedDrive', 'Fence']\n"
     ]
    }
   ],
   "source": [
    "categorical_features = X_train.select_dtypes(exclude='number').columns.tolist()\n",
    "print(f'There are {len(categorical_features)} categorical features:', '\\n')\n",
    "print(categorical_features)"
   ]
  },
  {
   "cell_type": "markdown",
   "id": "fd4d0dc8",
   "metadata": {},
   "source": [
    "Now, on to preprocessing. For numeric columns, we first fill the missing values with SimpleImputer using the mean and feature scale using MinMaxScaler. For categoricals, we will use SimpleImputer to fill the missing values with the mode of each column. Most importantly, we do all of these in a pipeline. Let's import everything:"
   ]
  },
  {
   "cell_type": "code",
   "execution_count": 17,
   "id": "3d91947f",
   "metadata": {},
   "outputs": [],
   "source": [
    "from sklearn.impute import SimpleImputer\n",
    "from sklearn.preprocessing import OneHotEncoder, MinMaxScaler\n",
    "from sklearn.pipeline import Pipeline"
   ]
  },
  {
   "cell_type": "code",
   "execution_count": 18,
   "id": "823e25eb",
   "metadata": {},
   "outputs": [],
   "source": [
    "numeric_pipeline = Pipeline(steps=[\n",
    "    ('impute', SimpleImputer(strategy='mean')),\n",
    "    ('scale', MinMaxScaler())\n",
    "])\n",
    "\n",
    "categorical_pipeline = Pipeline(steps=[\n",
    "    ('impute', SimpleImputer(strategy='most_frequent')),\n",
    "    ('one-hot', OneHotEncoder(handle_unknown='ignore', sparse=False))\n",
    "])"
   ]
  },
  {
   "cell_type": "markdown",
   "id": "4989dfc9",
   "metadata": {},
   "source": [
    "By default, all Pipeline objects have fit and transform methods which can be used to transform the input array like below"
   ]
  },
  {
   "cell_type": "code",
   "execution_count": 19,
   "id": "340b50f4",
   "metadata": {},
   "outputs": [],
   "source": [
    "from sklearn.compose import ColumnTransformer\n",
    "\n",
    "full_processor = ColumnTransformer(transformers=[\n",
    "    ('number', numeric_pipeline, numerical_features),\n",
    "    ('category', categorical_pipeline, categorical_features)\n",
    "])"
   ]
  },
  {
   "cell_type": "code",
   "execution_count": 20,
   "id": "810903e1",
   "metadata": {},
   "outputs": [
    {
     "data": {
      "text/plain": [
       "array([[0.12816998, 0.17647059, 0.13356164, ..., 0.        , 1.        ,\n",
       "        0.        ],\n",
       "       [0.16518163, 0.05882353, 0.06506849, ..., 0.        , 1.        ,\n",
       "        0.        ],\n",
       "       [0.45579164, 0.23529412, 0.29109589, ..., 0.        , 1.        ,\n",
       "        0.        ],\n",
       "       ...,\n",
       "       [0.36257711, 0.        , 0.1681522 , ..., 0.        , 1.        ,\n",
       "        0.        ],\n",
       "       [0.42015079, 0.        , 0.16780822, ..., 0.        , 1.        ,\n",
       "        0.        ],\n",
       "       [0.51953393, 0.82352941, 0.01027397, ..., 0.        , 1.        ,\n",
       "        0.        ]])"
      ]
     },
     "execution_count": 20,
     "metadata": {},
     "output_type": "execute_result"
    }
   ],
   "source": [
    "full_processor.fit_transform(X_train)"
   ]
  },
  {
   "cell_type": "markdown",
   "id": "02064b52",
   "metadata": {},
   "source": [
    "Combine preprocessing and modeling (estimator). Order is crucial! "
   ]
  },
  {
   "cell_type": "code",
   "execution_count": 22,
   "id": "ba825300",
   "metadata": {},
   "outputs": [],
   "source": [
    "from sklearn.linear_model import Lasso\n",
    "from sklearn.metrics import mean_absolute_error\n",
    "\n",
    "lasso = Lasso(alpha=0.1)\n",
    "\n",
    "lasso_pipeline = Pipeline(steps=[\n",
    "    ('preprocess', full_processor),\n",
    "    ('model', lasso)\n",
    "])"
   ]
  },
  {
   "cell_type": "code",
   "execution_count": 37,
   "id": "84d9967e",
   "metadata": {},
   "outputs": [],
   "source": [
    "_ = lasso_pipeline.fit(X_train, y_train)"
   ]
  },
  {
   "cell_type": "code",
   "execution_count": 24,
   "id": "9206df4b",
   "metadata": {},
   "outputs": [
    {
     "data": {
      "text/plain": [
       "19775.341796114233"
      ]
     },
     "execution_count": 24,
     "metadata": {},
     "output_type": "execute_result"
    }
   ],
   "source": [
    "preds = lasso_pipeline.predict(X_valid)\n",
    "mean_absolute_error(y_valid, preds)"
   ]
  },
  {
   "cell_type": "code",
   "execution_count": 26,
   "id": "84443a3d",
   "metadata": {},
   "outputs": [
    {
     "data": {
      "text/plain": [
       "0.79485193538996"
      ]
     },
     "execution_count": 26,
     "metadata": {},
     "output_type": "execute_result"
    }
   ],
   "source": [
    "lasso_pipeline.score(X_valid, y_valid)"
   ]
  },
  {
   "cell_type": "markdown",
   "id": "b1a3818a",
   "metadata": {},
   "source": [
    "We will now do grid search. The main hyperparameter for Lasso is \\alpha. We will do range search \n",
    "restricting between [0,1] steps of 0.05. We will also use cv=10 which specifies the number of folds in a (Stratified) KFold. Default is 5. "
   ]
  },
  {
   "cell_type": "code",
   "execution_count": 27,
   "id": "61d58495",
   "metadata": {},
   "outputs": [],
   "source": [
    "from sklearn.model_selection import GridSearchCV\n",
    "\n",
    "param_dict = {'model__alpha': np.arange(0, 1, 0.05)}\n",
    "\n",
    "search = GridSearchCV(lasso_pipeline, param_dict, \n",
    "                      cv=10, \n",
    "                      scoring='neg_mean_absolute_error')\n",
    "\n",
    "_ = search.fit(X_train, y_train)"
   ]
  },
  {
   "cell_type": "code",
   "execution_count": 28,
   "id": "72d77a22",
   "metadata": {},
   "outputs": [
    {
     "name": "stdout",
     "output_type": "stream",
     "text": [
      "Best score: 18124.680421519995\n"
     ]
    }
   ],
   "source": [
    "print('Best score:', abs(search.best_score_))"
   ]
  },
  {
   "cell_type": "code",
   "execution_count": 29,
   "id": "47ee2718",
   "metadata": {},
   "outputs": [
    {
     "name": "stdout",
     "output_type": "stream",
     "text": [
      "Best alpha: {'model__alpha': 0.9500000000000001}\n"
     ]
    }
   ],
   "source": [
    "print('Best alpha:', search.best_params_)"
   ]
  },
  {
   "cell_type": "markdown",
   "id": "cd55e956",
   "metadata": {},
   "source": [
    "The best \\alpha is cutting close to the end of the interval, we will now redefine the interval \n",
    "to be [1, 201] in steps of 5 "
   ]
  },
  {
   "cell_type": "code",
   "execution_count": 33,
   "id": "b4a3144c",
   "metadata": {},
   "outputs": [],
   "source": [
    "param_dict = {'model__alpha': np.arange(1, 201, 5)}\n",
    "\n",
    "search = GridSearchCV(lasso_pipeline, param_dict, \n",
    "                      cv=10, \n",
    "                      scoring='neg_mean_absolute_error')\n",
    "\n",
    "_ = search.fit(X_train, y_train)"
   ]
  },
  {
   "cell_type": "code",
   "execution_count": 35,
   "id": "19be1961",
   "metadata": {},
   "outputs": [
    {
     "name": "stdout",
     "output_type": "stream",
     "text": [
      "Best score: 17143.590547138254\n"
     ]
    }
   ],
   "source": [
    "print('Best score:', abs(search.best_score_))"
   ]
  },
  {
   "cell_type": "code",
   "execution_count": 36,
   "id": "11dd9479",
   "metadata": {},
   "outputs": [
    {
     "name": "stdout",
     "output_type": "stream",
     "text": [
      "Best alpha: {'model__alpha': 131}\n"
     ]
    }
   ],
   "source": [
    "print('Best alpha:', search.best_params_)"
   ]
  },
  {
   "cell_type": "code",
   "execution_count": 38,
   "id": "29092009",
   "metadata": {},
   "outputs": [],
   "source": [
    "lasso = Lasso(alpha=131)\n",
    "\n",
    "lasso_pipeline = Pipeline(steps=[\n",
    "    ('preprocess', full_processor),\n",
    "    ('model', lasso)\n",
    "])"
   ]
  },
  {
   "cell_type": "code",
   "execution_count": 41,
   "id": "61f14722",
   "metadata": {},
   "outputs": [
    {
     "data": {
      "text/plain": [
       "18690.487087904432"
      ]
     },
     "execution_count": 41,
     "metadata": {},
     "output_type": "execute_result"
    }
   ],
   "source": [
    "_ = lasso_pipeline.fit(X_train, y_train)\n",
    "preds = lasso_pipeline.predict(X_valid)\n",
    "\n",
    "mean_absolute_error(y_valid, preds)"
   ]
  },
  {
   "cell_type": "code",
   "execution_count": 45,
   "id": "9fd335b4",
   "metadata": {},
   "outputs": [
    {
     "data": {
      "text/plain": [
       "((365,), (365,))"
      ]
     },
     "execution_count": 45,
     "metadata": {},
     "output_type": "execute_result"
    }
   ],
   "source": [
    "y_valid.shape, preds.shape"
   ]
  },
  {
   "cell_type": "code",
   "execution_count": 48,
   "id": "b2a37ca5",
   "metadata": {},
   "outputs": [
    {
     "data": {
      "text/html": [
       "<div>\n",
       "<style scoped>\n",
       "    .dataframe tbody tr th:only-of-type {\n",
       "        vertical-align: middle;\n",
       "    }\n",
       "\n",
       "    .dataframe tbody tr th {\n",
       "        vertical-align: top;\n",
       "    }\n",
       "\n",
       "    .dataframe thead th {\n",
       "        text-align: right;\n",
       "    }\n",
       "</style>\n",
       "<table border=\"1\" class=\"dataframe\">\n",
       "  <thead>\n",
       "    <tr style=\"text-align: right;\">\n",
       "      <th></th>\n",
       "      <th>Y_valid</th>\n",
       "      <th>Predicted</th>\n",
       "    </tr>\n",
       "  </thead>\n",
       "  <tbody>\n",
       "    <tr>\n",
       "      <th>119</th>\n",
       "      <td>163990</td>\n",
       "      <td>177707.822660</td>\n",
       "    </tr>\n",
       "    <tr>\n",
       "      <th>938</th>\n",
       "      <td>239799</td>\n",
       "      <td>233882.295253</td>\n",
       "    </tr>\n",
       "    <tr>\n",
       "      <th>1124</th>\n",
       "      <td>163900</td>\n",
       "      <td>167949.963028</td>\n",
       "    </tr>\n",
       "    <tr>\n",
       "      <th>1255</th>\n",
       "      <td>127500</td>\n",
       "      <td>133213.399031</td>\n",
       "    </tr>\n",
       "    <tr>\n",
       "      <th>748</th>\n",
       "      <td>260400</td>\n",
       "      <td>276708.660981</td>\n",
       "    </tr>\n",
       "    <tr>\n",
       "      <th>...</th>\n",
       "      <td>...</td>\n",
       "      <td>...</td>\n",
       "    </tr>\n",
       "    <tr>\n",
       "      <th>39</th>\n",
       "      <td>82000</td>\n",
       "      <td>63527.777452</td>\n",
       "    </tr>\n",
       "    <tr>\n",
       "      <th>111</th>\n",
       "      <td>180000</td>\n",
       "      <td>170632.159697</td>\n",
       "    </tr>\n",
       "    <tr>\n",
       "      <th>623</th>\n",
       "      <td>168500</td>\n",
       "      <td>179170.100771</td>\n",
       "    </tr>\n",
       "    <tr>\n",
       "      <th>1240</th>\n",
       "      <td>224900</td>\n",
       "      <td>203388.842042</td>\n",
       "    </tr>\n",
       "    <tr>\n",
       "      <th>352</th>\n",
       "      <td>95000</td>\n",
       "      <td>105377.326442</td>\n",
       "    </tr>\n",
       "  </tbody>\n",
       "</table>\n",
       "<p>365 rows × 2 columns</p>\n",
       "</div>"
      ],
      "text/plain": [
       "      Y_valid      Predicted\n",
       "119    163990  177707.822660\n",
       "938    239799  233882.295253\n",
       "1124   163900  167949.963028\n",
       "1255   127500  133213.399031\n",
       "748    260400  276708.660981\n",
       "...       ...            ...\n",
       "39      82000   63527.777452\n",
       "111    180000  170632.159697\n",
       "623    168500  179170.100771\n",
       "1240   224900  203388.842042\n",
       "352     95000  105377.326442\n",
       "\n",
       "[365 rows x 2 columns]"
      ]
     },
     "execution_count": 48,
     "metadata": {},
     "output_type": "execute_result"
    }
   ],
   "source": [
    "d = d = {'Y_valid':y_valid,'Predicted':preds}\n",
    "pd.DataFrame(d)"
   ]
  }
 ],
 "metadata": {
  "kernelspec": {
   "display_name": "Python 3 (ipykernel)",
   "language": "python",
   "name": "python3"
  },
  "language_info": {
   "codemirror_mode": {
    "name": "ipython",
    "version": 3
   },
   "file_extension": ".py",
   "mimetype": "text/x-python",
   "name": "python",
   "nbconvert_exporter": "python",
   "pygments_lexer": "ipython3",
   "version": "3.9.13"
  }
 },
 "nbformat": 4,
 "nbformat_minor": 5
}
