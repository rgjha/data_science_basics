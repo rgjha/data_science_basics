{
 "cells": [
  {
   "cell_type": "markdown",
   "id": "608fcd08",
   "metadata": {},
   "source": [
    "A = W. H\n",
    "\n",
    "Solution consists of two steps. First, we fix W and learn H, given A. Next, we fix H and learn W, given A of size M by N. We repeat this procedure iteratively. Fixing one variable and learning the other is popularly known as alternating least squares (ALS), as the problem is reduced to a least squares problem. However, we want to constraint W and H to be non-negative, we us non-linear LS (NNLS) instead of basic least squares.\n",
    "\n",
    "From answer on SE: https://stackoverflow.com/questions/22767695/python-non-negative-matrix-factorization-that-handles-both-zeros-and-missing-dat\n",
    "\n",
    "Read: https://towardsdatascience.com/prototyping-a-recommender-system-step-by-step-part-2-alternating-least-square-als-matrix-4a76c58714a1\n",
    "\n",
    "\n",
    "Difference between ALS and Funk SVD: \n",
    "\n",
    "1. The objective function in ALS uses L2 norm regularization while Funk uses L1 norm regularization\n",
    "\n",
    "Remember that L(p) norm is defined as: \n",
    "\n",
    "$$\n",
    "|| x ||_p = \\left(\\sum_i |x_i|^p\\right)^{1/p}\n",
    "$$\n",
    "\n",
    "ALS minimizes two loss functions alternatively; It first holds user matrix fixed and runs gradient descent with item matrix; then it holds item matrix fixed and runs gradient descent with user matrix. Its scalability: ALS can run its gradient descent in parallel across multiple partitions of the underlying training data. "
   ]
  },
  {
   "cell_type": "code",
   "execution_count": 55,
   "id": "58f9d969",
   "metadata": {},
   "outputs": [
    {
     "name": "stdout",
     "output_type": "stream",
     "text": [
      "          0         1         2         3         4\n",
      "0  0.374540  0.950714  0.731994  0.598658  0.156019\n",
      "1  0.155995  0.058084  0.866176  0.601115  0.708073\n",
      "2  0.020584  0.969910  0.832443  0.212339  0.181825\n",
      "3  0.183405  0.304242  0.524756  0.431945  0.291229\n",
      "4  0.611853  0.139494  0.292145  0.366362  0.456070\n"
     ]
    }
   ],
   "source": [
    "import numpy as np\n",
    "import pandas as pd\n",
    "\n",
    "M, N = 5, 5\n",
    "np.random.seed(42)\n",
    "A_orig = np.abs(np.random.uniform(low=0.0, high=1.0, size=(M,N)))\n",
    "print (pd.DataFrame(A_orig).head())\n",
    "#A_orig = np.empty((M,N,))\n",
    "#A_orig[:] = np.nan\n",
    "#A_orig[0][1] = 4.5\n",
    "#A_orig[0][2] = 2.\n",
    "#A_orig[1][0] = 2.\n",
    "#A_orig[1][2] = 3.5\n",
    "#A_orig[2][1] = 5.\n",
    "#A_orig[2][3] = 2.\n",
    "#A_orig[3][1] = 3.5\n",
    "#A_orig[3][2] = 4.\n",
    "#A_orig[3][3] = 1."
   ]
  },
  {
   "cell_type": "code",
   "execution_count": 43,
   "id": "57567c39",
   "metadata": {},
   "outputs": [
    {
     "name": "stdout",
     "output_type": "stream",
     "text": [
      "          0         1         2         3         4\n",
      "0       NaN  0.950714  0.731994  0.598658  0.156019\n",
      "1  0.155995  0.058084  0.866176  0.601115  0.708073\n",
      "2  0.020584  0.969910  0.832443       NaN  0.181825\n",
      "3  0.183405       NaN  0.524756  0.431945  0.291229\n",
      "4  0.611853  0.139494  0.292145  0.366362  0.456070\n"
     ]
    }
   ],
   "source": [
    "A = A_orig.copy()\n",
    "A[0, 0] = np.NAN\n",
    "A[3, 1] = np.NAN\n",
    "A[2, 3] = np.NAN\n",
    "\n",
    "A_df = pd.DataFrame(A)\n",
    "print (A_df.head())"
   ]
  },
  {
   "cell_type": "code",
   "execution_count": 44,
   "id": "ef8258c4",
   "metadata": {},
   "outputs": [
    {
     "data": {
      "text/html": [
       "<div>\n",
       "<style scoped>\n",
       "    .dataframe tbody tr th:only-of-type {\n",
       "        vertical-align: middle;\n",
       "    }\n",
       "\n",
       "    .dataframe tbody tr th {\n",
       "        vertical-align: top;\n",
       "    }\n",
       "\n",
       "    .dataframe thead th {\n",
       "        text-align: right;\n",
       "    }\n",
       "</style>\n",
       "<table border=\"1\" class=\"dataframe\">\n",
       "  <thead>\n",
       "    <tr style=\"text-align: right;\">\n",
       "      <th></th>\n",
       "      <th>0</th>\n",
       "      <th>1</th>\n",
       "      <th>2</th>\n",
       "    </tr>\n",
       "  </thead>\n",
       "  <tbody>\n",
       "    <tr>\n",
       "      <th>0</th>\n",
       "      <td>0.271040</td>\n",
       "      <td>0.068927</td>\n",
       "      <td>0.177512</td>\n",
       "    </tr>\n",
       "    <tr>\n",
       "      <th>1</th>\n",
       "      <td>0.204500</td>\n",
       "      <td>0.016035</td>\n",
       "      <td>0.209723</td>\n",
       "    </tr>\n",
       "    <tr>\n",
       "      <th>2</th>\n",
       "      <td>0.058864</td>\n",
       "      <td>0.022456</td>\n",
       "      <td>0.327552</td>\n",
       "    </tr>\n",
       "    <tr>\n",
       "      <th>3</th>\n",
       "      <td>0.333333</td>\n",
       "      <td>0.279056</td>\n",
       "      <td>0.105152</td>\n",
       "    </tr>\n",
       "    <tr>\n",
       "      <th>4</th>\n",
       "      <td>0.033716</td>\n",
       "      <td>0.236195</td>\n",
       "      <td>0.151939</td>\n",
       "    </tr>\n",
       "  </tbody>\n",
       "</table>\n",
       "</div>"
      ],
      "text/plain": [
       "          0         1         2\n",
       "0  0.271040  0.068927  0.177512\n",
       "1  0.204500  0.016035  0.209723\n",
       "2  0.058864  0.022456  0.327552\n",
       "3  0.333333  0.279056  0.105152\n",
       "4  0.033716  0.236195  0.151939"
      ]
     },
     "execution_count": 44,
     "metadata": {},
     "output_type": "execute_result"
    }
   ],
   "source": [
    "K = 3\n",
    "W = np.abs(np.random.uniform(low=0, high=1, size=(M, K)))\n",
    "H = np.abs(np.random.uniform(low=0, high=1, size=(K, N)))\n",
    "W = np.divide(W, K*W.max())\n",
    "H = np.divide(H, K*H.max())\n",
    "\n",
    "pd.DataFrame(W).head()"
   ]
  },
  {
   "cell_type": "code",
   "execution_count": 45,
   "id": "703788c7",
   "metadata": {},
   "outputs": [],
   "source": [
    "#def cost(A, W, H):\n",
    "#    from numpy import linalg\n",
    "#    WH = np.dot(W, H)\n",
    "#    A_WH = A-WH\n",
    "#    return linalg.norm(A_WH, 'fro')"
   ]
  },
  {
   "cell_type": "markdown",
   "id": "c0f9e271",
   "metadata": {},
   "source": [
    "We have to skip NaN values in A, so better use below. "
   ]
  },
  {
   "cell_type": "code",
   "execution_count": 46,
   "id": "bc45a8f5",
   "metadata": {},
   "outputs": [],
   "source": [
    "def cost1(A, W, H):\n",
    "    from numpy import linalg\n",
    "    mask = pd.DataFrame(A).notnull().values\n",
    "    WH = np.dot(W, H)\n",
    "    WH_mask = WH[mask] # WH_mask has MXN - number of NaN values. \n",
    "    A_mask = A[mask]\n",
    "    A_WH_mask = A_mask-WH_mask\n",
    "    # Since now A_WH_mask is a vector, we use L2 instead of Frobenius norm for matrix\n",
    "    return linalg.norm(A_WH_mask, 2)"
   ]
  },
  {
   "cell_type": "code",
   "execution_count": 47,
   "id": "17c9c620",
   "metadata": {},
   "outputs": [
    {
     "data": {
      "text/plain": [
       "2.1857796631331246"
      ]
     },
     "execution_count": 47,
     "metadata": {},
     "output_type": "execute_result"
    }
   ],
   "source": [
    "cost1(A, W, H)"
   ]
  },
  {
   "cell_type": "code",
   "execution_count": 48,
   "id": "e9723e02",
   "metadata": {},
   "outputs": [
    {
     "name": "stdout",
     "output_type": "stream",
     "text": [
      "0 0.9785197553425572\n",
      "100 0.0016018689192724485\n",
      "200 0.001601868919272392\n",
      "300 0.001601868919272395\n",
      "400 0.0016018689192724227\n",
      "500 0.001601868919272443\n",
      "600 0.0016018689192724516\n",
      "700 0.0016018689192724056\n",
      "800 0.0016018689192724349\n",
      "900 0.0016018689192724568\n"
     ]
    }
   ],
   "source": [
    "num_iter = 1000\n",
    "num_display_cost = max(int(num_iter/10), 1)\n",
    "from scipy.optimize import nnls\n",
    "\n",
    "for i in range(num_iter):\n",
    "    if i%2 ==0:\n",
    "        # Learn H, given A and W\n",
    "        for j in range(N):\n",
    "            mask_rows = pd.Series(A[:,j]).notnull()\n",
    "            H[:,j] = nnls(W[mask_rows], A[:,j][mask_rows])[0]\n",
    "    else:\n",
    "        for j in range(M):\n",
    "            mask_rows = pd.Series(A[j,:]).notnull()\n",
    "            W[j,:] = nnls(H.transpose()[mask_rows], A[j,:][mask_rows])[0]\n",
    "    WH = np.dot(W, H)\n",
    "    c = cost1(A, W, H)\n",
    "    if i%num_display_cost==0:\n",
    "        print (i, c)"
   ]
  },
  {
   "cell_type": "code",
   "execution_count": 49,
   "id": "8cf6ffc8",
   "metadata": {},
   "outputs": [
    {
     "data": {
      "text/html": [
       "<div>\n",
       "<style scoped>\n",
       "    .dataframe tbody tr th:only-of-type {\n",
       "        vertical-align: middle;\n",
       "    }\n",
       "\n",
       "    .dataframe tbody tr th {\n",
       "        vertical-align: top;\n",
       "    }\n",
       "\n",
       "    .dataframe thead th {\n",
       "        text-align: right;\n",
       "    }\n",
       "</style>\n",
       "<table border=\"1\" class=\"dataframe\">\n",
       "  <thead>\n",
       "    <tr style=\"text-align: right;\">\n",
       "      <th></th>\n",
       "      <th>0</th>\n",
       "      <th>1</th>\n",
       "      <th>2</th>\n",
       "      <th>3</th>\n",
       "      <th>4</th>\n",
       "    </tr>\n",
       "  </thead>\n",
       "  <tbody>\n",
       "    <tr>\n",
       "      <th>0</th>\n",
       "      <td>0.103401</td>\n",
       "      <td>0.950562</td>\n",
       "      <td>0.731903</td>\n",
       "      <td>0.599071</td>\n",
       "      <td>0.155792</td>\n",
       "    </tr>\n",
       "    <tr>\n",
       "      <th>1</th>\n",
       "      <td>0.155935</td>\n",
       "      <td>0.058062</td>\n",
       "      <td>0.866038</td>\n",
       "      <td>0.601327</td>\n",
       "      <td>0.708077</td>\n",
       "    </tr>\n",
       "    <tr>\n",
       "      <th>2</th>\n",
       "      <td>0.020433</td>\n",
       "      <td>0.970057</td>\n",
       "      <td>0.832207</td>\n",
       "      <td>0.642881</td>\n",
       "      <td>0.182134</td>\n",
       "    </tr>\n",
       "    <tr>\n",
       "      <th>3</th>\n",
       "      <td>0.183797</td>\n",
       "      <td>0.419027</td>\n",
       "      <td>0.525591</td>\n",
       "      <td>0.430919</td>\n",
       "      <td>0.290993</td>\n",
       "    </tr>\n",
       "    <tr>\n",
       "      <th>4</th>\n",
       "      <td>0.611755</td>\n",
       "      <td>0.139520</td>\n",
       "      <td>0.291952</td>\n",
       "      <td>0.366546</td>\n",
       "      <td>0.456168</td>\n",
       "    </tr>\n",
       "  </tbody>\n",
       "</table>\n",
       "</div>"
      ],
      "text/plain": [
       "          0         1         2         3         4\n",
       "0  0.103401  0.950562  0.731903  0.599071  0.155792\n",
       "1  0.155935  0.058062  0.866038  0.601327  0.708077\n",
       "2  0.020433  0.970057  0.832207  0.642881  0.182134\n",
       "3  0.183797  0.419027  0.525591  0.430919  0.290993\n",
       "4  0.611755  0.139520  0.291952  0.366546  0.456168"
      ]
     },
     "execution_count": 49,
     "metadata": {},
     "output_type": "execute_result"
    }
   ],
   "source": [
    "A_pred = pd.DataFrame(np.dot(W, H))\n",
    "A_pred.head()\n",
    "#A_pred.shape"
   ]
  },
  {
   "cell_type": "code",
   "execution_count": 50,
   "id": "951c26b1",
   "metadata": {},
   "outputs": [
    {
     "data": {
      "text/plain": [
       "array([0.10340053, 0.64288115, 0.41902671])"
      ]
     },
     "execution_count": 50,
     "metadata": {},
     "output_type": "execute_result"
    }
   ],
   "source": [
    "A_pred.values[~pd.DataFrame(A).notnull().values]"
   ]
  },
  {
   "cell_type": "code",
   "execution_count": 51,
   "id": "bd4ae2e9",
   "metadata": {},
   "outputs": [
    {
     "data": {
      "text/plain": [
       "array([0.37454012, 0.21233911, 0.30424224])"
      ]
     },
     "execution_count": 51,
     "metadata": {},
     "output_type": "execute_result"
    }
   ],
   "source": [
    "A_orig[~pd.DataFrame(A).notnull().values]"
   ]
  },
  {
   "cell_type": "code",
   "execution_count": 52,
   "id": "d4a5a377",
   "metadata": {},
   "outputs": [
    {
     "data": {
      "text/html": [
       "<div>\n",
       "<style scoped>\n",
       "    .dataframe tbody tr th:only-of-type {\n",
       "        vertical-align: middle;\n",
       "    }\n",
       "\n",
       "    .dataframe tbody tr th {\n",
       "        vertical-align: top;\n",
       "    }\n",
       "\n",
       "    .dataframe thead th {\n",
       "        text-align: right;\n",
       "    }\n",
       "</style>\n",
       "<table border=\"1\" class=\"dataframe\">\n",
       "  <thead>\n",
       "    <tr style=\"text-align: right;\">\n",
       "      <th></th>\n",
       "      <th>0</th>\n",
       "      <th>1</th>\n",
       "      <th>2</th>\n",
       "    </tr>\n",
       "  </thead>\n",
       "  <tbody>\n",
       "    <tr>\n",
       "      <th>0</th>\n",
       "      <td>0.036828</td>\n",
       "      <td>6.490315e-02</td>\n",
       "      <td>0.317083</td>\n",
       "    </tr>\n",
       "    <tr>\n",
       "      <th>1</th>\n",
       "      <td>0.743454</td>\n",
       "      <td>1.215928e-01</td>\n",
       "      <td>0.000019</td>\n",
       "    </tr>\n",
       "    <tr>\n",
       "      <th>2</th>\n",
       "      <td>0.126604</td>\n",
       "      <td>7.865314e-15</td>\n",
       "      <td>0.321262</td>\n",
       "    </tr>\n",
       "    <tr>\n",
       "      <th>3</th>\n",
       "      <td>0.187266</td>\n",
       "      <td>1.366086e-01</td>\n",
       "      <td>0.135312</td>\n",
       "    </tr>\n",
       "    <tr>\n",
       "      <th>4</th>\n",
       "      <td>0.104524</td>\n",
       "      <td>4.748486e-01</td>\n",
       "      <td>0.043953</td>\n",
       "    </tr>\n",
       "  </tbody>\n",
       "</table>\n",
       "</div>"
      ],
      "text/plain": [
       "          0             1         2\n",
       "0  0.036828  6.490315e-02  0.317083\n",
       "1  0.743454  1.215928e-01  0.000019\n",
       "2  0.126604  7.865314e-15  0.321262\n",
       "3  0.187266  1.366086e-01  0.135312\n",
       "4  0.104524  4.748486e-01  0.043953"
      ]
     },
     "execution_count": 52,
     "metadata": {},
     "output_type": "execute_result"
    }
   ],
   "source": [
    "pd.DataFrame(W).head()"
   ]
  },
  {
   "cell_type": "code",
   "execution_count": 53,
   "id": "12bd0700",
   "metadata": {},
   "outputs": [
    {
     "data": {
      "text/html": [
       "<div>\n",
       "<style scoped>\n",
       "    .dataframe tbody tr th:only-of-type {\n",
       "        vertical-align: middle;\n",
       "    }\n",
       "\n",
       "    .dataframe tbody tr th {\n",
       "        vertical-align: top;\n",
       "    }\n",
       "\n",
       "    .dataframe thead th {\n",
       "        text-align: right;\n",
       "    }\n",
       "</style>\n",
       "<table border=\"1\" class=\"dataframe\">\n",
       "  <thead>\n",
       "    <tr style=\"text-align: right;\">\n",
       "      <th></th>\n",
       "      <th>0</th>\n",
       "      <th>1</th>\n",
       "      <th>2</th>\n",
       "      <th>3</th>\n",
       "      <th>4</th>\n",
       "    </tr>\n",
       "  </thead>\n",
       "  <tbody>\n",
       "    <tr>\n",
       "      <th>0</th>\n",
       "      <td>2.792710e-15</td>\n",
       "      <td>7.802363e-02</td>\n",
       "      <td>1.137660</td>\n",
       "      <td>0.734905</td>\n",
       "      <td>0.828767</td>\n",
       "    </tr>\n",
       "    <tr>\n",
       "      <th>1</th>\n",
       "      <td>1.282429e+00</td>\n",
       "      <td>2.184242e-15</td>\n",
       "      <td>0.166134</td>\n",
       "      <td>0.451736</td>\n",
       "      <td>0.755985</td>\n",
       "    </tr>\n",
       "    <tr>\n",
       "      <th>2</th>\n",
       "      <td>6.360111e-02</td>\n",
       "      <td>2.988770e+00</td>\n",
       "      <td>2.142096</td>\n",
       "      <td>1.711496</td>\n",
       "      <td>0.240329</td>\n",
       "    </tr>\n",
       "  </tbody>\n",
       "</table>\n",
       "</div>"
      ],
      "text/plain": [
       "              0             1         2         3         4\n",
       "0  2.792710e-15  7.802363e-02  1.137660  0.734905  0.828767\n",
       "1  1.282429e+00  2.184242e-15  0.166134  0.451736  0.755985\n",
       "2  6.360111e-02  2.988770e+00  2.142096  1.711496  0.240329"
      ]
     },
     "execution_count": 53,
     "metadata": {},
     "output_type": "execute_result"
    }
   ],
   "source": [
    "pd.DataFrame(H).head()"
   ]
  },
  {
   "cell_type": "code",
   "execution_count": null,
   "id": "0def4914",
   "metadata": {},
   "outputs": [],
   "source": []
  }
 ],
 "metadata": {
  "kernelspec": {
   "display_name": "Python 3 (ipykernel)",
   "language": "python",
   "name": "python3"
  },
  "language_info": {
   "codemirror_mode": {
    "name": "ipython",
    "version": 3
   },
   "file_extension": ".py",
   "mimetype": "text/x-python",
   "name": "python",
   "nbconvert_exporter": "python",
   "pygments_lexer": "ipython3",
   "version": "3.9.13"
  }
 },
 "nbformat": 4,
 "nbformat_minor": 5
}
