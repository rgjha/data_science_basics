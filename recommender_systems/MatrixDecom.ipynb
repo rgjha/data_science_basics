{
 "cells": [
  {
   "attachments": {},
   "cell_type": "markdown",
   "id": "608fcd08",
   "metadata": {},
   "source": [
    "A = W. H\n",
    "\n",
    "Solution consists of two steps. First, we fix W and learn H, given A. Next, we fix H and learn W, given A of size M by N. We repeat this procedure iteratively. Fixing one variable and learning the other is popularly known as alternating least squares (ALS), as the problem is reduced to a least squares problem. However, we want to constraint W and H to be non-negative, we us non-linear LS (NNLS) instead of basic least squares.\n",
    "\n",
    "From answer on SE: https://stackoverflow.com/questions/22767695/python-non-negative-matrix-factorization-that-handles-both-zeros-and-missing-dat\n",
    "\n",
    "Read: https://towardsdatascience.com/prototyping-a-recommender-system-step-by-step-part-2-alternating-least-square-als-matrix-4a76c58714a1\n",
    "\n",
    "\n",
    "Difference between ALS and Funk SVD: \n",
    "\n",
    "1. The objective function in ALS uses L2 norm regularization while Funk uses L1 norm regularization\n",
    "\n",
    "Remember that L(p) norm is defined as: \n",
    "\n",
    "$$\n",
    "|| x ||_p = \\left(\\sum_i |x_i|^p\\right)^{1/p}\n",
    "$$\n",
    "\n",
    "ALS minimizes two loss functions alternatively; It first holds user matrix fixed and runs gradient descent with item matrix; then it holds item matrix fixed and runs gradient descent with user matrix. Its scalability: ALS can run its gradient descent in parallel across multiple partitions of the underlying training data. \n",
    "\n",
    "Note that since the user-interaction matrix has missing values, doing a SVD after imputing missing values with 0 is not \n",
    "practical. We have to use SGD to reduce errors or ALS etc. The number of latent factors (features) refer to the \n",
    "the number of singular values we choose. It is called latent probably because the dimensionality \n",
    "is hidden in the input matrix. \n"
   ]
  },
  {
   "cell_type": "code",
   "execution_count": 282,
   "id": "58f9d969",
   "metadata": {},
   "outputs": [
    {
     "name": "stdout",
     "output_type": "stream",
     "text": [
      "          0         1         2         3         4\n",
      "0  0.180270  0.019475  0.463219  0.724934  0.420204\n",
      "1  0.485427  0.012781  0.487372  0.941807  0.850795\n",
      "2  0.729964  0.108736  0.893904  0.857154  0.165087\n",
      "3  0.632334  0.020484  0.116737  0.316367  0.157912\n",
      "4  0.758980  0.818275  0.344624  0.318799  0.111661\n"
     ]
    }
   ],
   "source": [
    "import numpy as np\n",
    "import pandas as pd\n",
    "import scipy as sp\n",
    "from numpy import linalg as LA\n",
    "\n",
    "M, N = 5, 5\n",
    "np.random.seed(11)\n",
    "A_orig = np.abs(np.random.uniform(low=0.0, high=1.0, size=(M,N)))\n",
    "print (pd.DataFrame(A_orig).head())"
   ]
  },
  {
   "cell_type": "code",
   "execution_count": 283,
   "id": "57567c39",
   "metadata": {},
   "outputs": [
    {
     "name": "stdout",
     "output_type": "stream",
     "text": [
      "          0         1         2         3         4\n",
      "0       NaN  0.019475  0.463219  0.724934  0.420204\n",
      "1  0.485427  0.012781  0.487372  0.941807  0.850795\n",
      "2  0.729964  0.108736  0.893904       NaN  0.165087\n",
      "3  0.632334       NaN  0.116737  0.316367  0.157912\n",
      "4  0.758980  0.818275  0.344624  0.318799  0.111661\n"
     ]
    }
   ],
   "source": [
    "A = A_orig.copy()\n",
    "A[0, 0] = np.NAN\n",
    "A[3, 1] = np.NAN\n",
    "A[2, 3] = np.NAN\n",
    "\n",
    "A_df = pd.DataFrame(A)\n",
    "print (A_df.head())"
   ]
  },
  {
   "cell_type": "code",
   "execution_count": 284,
   "id": "ef8258c4",
   "metadata": {},
   "outputs": [
    {
     "data": {
      "text/html": [
       "<div>\n",
       "<style scoped>\n",
       "    .dataframe tbody tr th:only-of-type {\n",
       "        vertical-align: middle;\n",
       "    }\n",
       "\n",
       "    .dataframe tbody tr th {\n",
       "        vertical-align: top;\n",
       "    }\n",
       "\n",
       "    .dataframe thead th {\n",
       "        text-align: right;\n",
       "    }\n",
       "</style>\n",
       "<table border=\"1\" class=\"dataframe\">\n",
       "  <thead>\n",
       "    <tr style=\"text-align: right;\">\n",
       "      <th></th>\n",
       "      <th>0</th>\n",
       "      <th>1</th>\n",
       "      <th>2</th>\n",
       "    </tr>\n",
       "  </thead>\n",
       "  <tbody>\n",
       "    <tr>\n",
       "      <th>0</th>\n",
       "      <td>0.028362</td>\n",
       "      <td>0.240784</td>\n",
       "      <td>0.202547</td>\n",
       "    </tr>\n",
       "    <tr>\n",
       "      <th>1</th>\n",
       "      <td>0.018809</td>\n",
       "      <td>0.162093</td>\n",
       "      <td>0.135701</td>\n",
       "    </tr>\n",
       "    <tr>\n",
       "      <th>2</th>\n",
       "      <td>0.286477</td>\n",
       "      <td>0.242515</td>\n",
       "      <td>0.203399</td>\n",
       "    </tr>\n",
       "    <tr>\n",
       "      <th>3</th>\n",
       "      <td>0.186615</td>\n",
       "      <td>0.320641</td>\n",
       "      <td>0.333333</td>\n",
       "    </tr>\n",
       "    <tr>\n",
       "      <th>4</th>\n",
       "      <td>0.114207</td>\n",
       "      <td>0.081038</td>\n",
       "      <td>0.269064</td>\n",
       "    </tr>\n",
       "  </tbody>\n",
       "</table>\n",
       "</div>"
      ],
      "text/plain": [
       "          0         1         2\n",
       "0  0.028362  0.240784  0.202547\n",
       "1  0.018809  0.162093  0.135701\n",
       "2  0.286477  0.242515  0.203399\n",
       "3  0.186615  0.320641  0.333333\n",
       "4  0.114207  0.081038  0.269064"
      ]
     },
     "execution_count": 284,
     "metadata": {},
     "output_type": "execute_result"
    }
   ],
   "source": [
    "K = 3\n",
    "W = np.abs(np.random.uniform(low=0, high=1, size=(M, K)))\n",
    "H = np.abs(np.random.uniform(low=0, high=1, size=(K, N)))\n",
    "W = np.divide(W, K*W.max())\n",
    "H = np.divide(H, K*H.max())\n",
    "\n",
    "pd.DataFrame(W).head()"
   ]
  },
  {
   "cell_type": "code",
   "execution_count": 285,
   "id": "703788c7",
   "metadata": {},
   "outputs": [],
   "source": [
    "#def cost(A, W, H):\n",
    "#    from numpy import linalg\n",
    "#    WH = np.dot(W, H)\n",
    "#    A_WH = A-WH\n",
    "#    return linalg.norm(A_WH, 'fro')"
   ]
  },
  {
   "cell_type": "markdown",
   "id": "c0f9e271",
   "metadata": {},
   "source": [
    "We have to skip NaN values in A, so better use below. "
   ]
  },
  {
   "cell_type": "code",
   "execution_count": 286,
   "id": "bc45a8f5",
   "metadata": {},
   "outputs": [],
   "source": [
    "def cost1(A, W, H):\n",
    "    from numpy import linalg\n",
    "    mask = pd.DataFrame(A).notnull().values\n",
    "    WH = np.dot(W, H)\n",
    "    WH_mask = WH[mask] # WH_mask has MXN - number of missing values. \n",
    "    A_mask = A[mask]\n",
    "    A_WH_mask = A_mask-WH_mask\n",
    "    # Since now A_WH_mask is a vector, we use L2 instead of Frobenius norm for matrix\n",
    "    return linalg.norm(A_WH_mask, 2)"
   ]
  },
  {
   "cell_type": "code",
   "execution_count": 287,
   "id": "e9723e02",
   "metadata": {},
   "outputs": [],
   "source": [
    "from scipy.optimize import nnls\n",
    "\n",
    "def ALS(A,W,H): \n",
    "\n",
    "    num_iter = 1000\n",
    "    #num_display_cost = max(int(num_iter/10), 1)\n",
    "\n",
    "    N = int(W.shape[0])\n",
    "    M = int(H.shape[0])\n",
    "\n",
    "    for i in range(num_iter):\n",
    "        if i%2 ==0:\n",
    "            # Learn H, given A and W\n",
    "            for j in range(N):\n",
    "                mask_rows = pd.Series(A[:,j]).notnull()\n",
    "                H[:,j] = nnls(W[mask_rows], A[:,j][mask_rows])[0]\n",
    "        else:\n",
    "            for j in range(M):\n",
    "                mask_rows = pd.Series(A[j,:]).notnull()\n",
    "                W[j,:] = nnls(H.transpose()[mask_rows], A[j,:][mask_rows])[0]\n",
    "        WH = np.dot(W, H)\n",
    "        c = cost1(A, W, H)\n",
    "\n",
    "    return W@H"
   ]
  },
  {
   "cell_type": "code",
   "execution_count": 288,
   "id": "8cf6ffc8",
   "metadata": {},
   "outputs": [
    {
     "data": {
      "text/html": [
       "<div>\n",
       "<style scoped>\n",
       "    .dataframe tbody tr th:only-of-type {\n",
       "        vertical-align: middle;\n",
       "    }\n",
       "\n",
       "    .dataframe tbody tr th {\n",
       "        vertical-align: top;\n",
       "    }\n",
       "\n",
       "    .dataframe thead th {\n",
       "        text-align: right;\n",
       "    }\n",
       "</style>\n",
       "<table border=\"1\" class=\"dataframe\">\n",
       "  <thead>\n",
       "    <tr style=\"text-align: right;\">\n",
       "      <th></th>\n",
       "      <th>0</th>\n",
       "      <th>1</th>\n",
       "      <th>2</th>\n",
       "      <th>3</th>\n",
       "      <th>4</th>\n",
       "    </tr>\n",
       "  </thead>\n",
       "  <tbody>\n",
       "    <tr>\n",
       "      <th>0</th>\n",
       "      <td>0.072333</td>\n",
       "      <td>0.100804</td>\n",
       "      <td>0.093581</td>\n",
       "      <td>0.106129</td>\n",
       "      <td>0.105185</td>\n",
       "    </tr>\n",
       "    <tr>\n",
       "      <th>1</th>\n",
       "      <td>0.048539</td>\n",
       "      <td>0.067735</td>\n",
       "      <td>0.062950</td>\n",
       "      <td>0.071307</td>\n",
       "      <td>0.070626</td>\n",
       "    </tr>\n",
       "    <tr>\n",
       "      <th>2</th>\n",
       "      <td>0.078763</td>\n",
       "      <td>0.136069</td>\n",
       "      <td>0.100865</td>\n",
       "      <td>0.137120</td>\n",
       "      <td>0.112462</td>\n",
       "    </tr>\n",
       "    <tr>\n",
       "      <th>3</th>\n",
       "      <td>0.114238</td>\n",
       "      <td>0.162682</td>\n",
       "      <td>0.132408</td>\n",
       "      <td>0.169045</td>\n",
       "      <td>0.161089</td>\n",
       "    </tr>\n",
       "    <tr>\n",
       "      <th>4</th>\n",
       "      <td>0.072360</td>\n",
       "      <td>0.074712</td>\n",
       "      <td>0.046680</td>\n",
       "      <td>0.080290</td>\n",
       "      <td>0.092314</td>\n",
       "    </tr>\n",
       "  </tbody>\n",
       "</table>\n",
       "</div>"
      ],
      "text/plain": [
       "          0         1         2         3         4\n",
       "0  0.072333  0.100804  0.093581  0.106129  0.105185\n",
       "1  0.048539  0.067735  0.062950  0.071307  0.070626\n",
       "2  0.078763  0.136069  0.100865  0.137120  0.112462\n",
       "3  0.114238  0.162682  0.132408  0.169045  0.161089\n",
       "4  0.072360  0.074712  0.046680  0.080290  0.092314"
      ]
     },
     "execution_count": 288,
     "metadata": {},
     "output_type": "execute_result"
    }
   ],
   "source": [
    "A_pred = pd.DataFrame(np.dot(W, H))\n",
    "A_pred.head()\n",
    "#A_pred.shape"
   ]
  },
  {
   "cell_type": "code",
   "execution_count": 289,
   "id": "951c26b1",
   "metadata": {},
   "outputs": [
    {
     "data": {
      "text/plain": [
       "array([0.07233261, 0.13711983, 0.16268151])"
      ]
     },
     "execution_count": 289,
     "metadata": {},
     "output_type": "execute_result"
    }
   ],
   "source": [
    "A_pred.values[~pd.DataFrame(A).notnull().values]"
   ]
  },
  {
   "cell_type": "code",
   "execution_count": 290,
   "id": "bd4ae2e9",
   "metadata": {},
   "outputs": [
    {
     "data": {
      "text/plain": [
       "array([0.18026969, 0.85715425, 0.02048361])"
      ]
     },
     "execution_count": 290,
     "metadata": {},
     "output_type": "execute_result"
    }
   ],
   "source": [
    "A_orig[~pd.DataFrame(A).notnull().values]"
   ]
  },
  {
   "cell_type": "code",
   "execution_count": 291,
   "id": "d4a5a377",
   "metadata": {},
   "outputs": [
    {
     "data": {
      "text/html": [
       "<div>\n",
       "<style scoped>\n",
       "    .dataframe tbody tr th:only-of-type {\n",
       "        vertical-align: middle;\n",
       "    }\n",
       "\n",
       "    .dataframe tbody tr th {\n",
       "        vertical-align: top;\n",
       "    }\n",
       "\n",
       "    .dataframe thead th {\n",
       "        text-align: right;\n",
       "    }\n",
       "</style>\n",
       "<table border=\"1\" class=\"dataframe\">\n",
       "  <thead>\n",
       "    <tr style=\"text-align: right;\">\n",
       "      <th></th>\n",
       "      <th>0</th>\n",
       "      <th>1</th>\n",
       "      <th>2</th>\n",
       "    </tr>\n",
       "  </thead>\n",
       "  <tbody>\n",
       "    <tr>\n",
       "      <th>0</th>\n",
       "      <td>0.028362</td>\n",
       "      <td>0.240784</td>\n",
       "      <td>0.202547</td>\n",
       "    </tr>\n",
       "    <tr>\n",
       "      <th>1</th>\n",
       "      <td>0.018809</td>\n",
       "      <td>0.162093</td>\n",
       "      <td>0.135701</td>\n",
       "    </tr>\n",
       "    <tr>\n",
       "      <th>2</th>\n",
       "      <td>0.286477</td>\n",
       "      <td>0.242515</td>\n",
       "      <td>0.203399</td>\n",
       "    </tr>\n",
       "    <tr>\n",
       "      <th>3</th>\n",
       "      <td>0.186615</td>\n",
       "      <td>0.320641</td>\n",
       "      <td>0.333333</td>\n",
       "    </tr>\n",
       "    <tr>\n",
       "      <th>4</th>\n",
       "      <td>0.114207</td>\n",
       "      <td>0.081038</td>\n",
       "      <td>0.269064</td>\n",
       "    </tr>\n",
       "  </tbody>\n",
       "</table>\n",
       "</div>"
      ],
      "text/plain": [
       "          0         1         2\n",
       "0  0.028362  0.240784  0.202547\n",
       "1  0.018809  0.162093  0.135701\n",
       "2  0.286477  0.242515  0.203399\n",
       "3  0.186615  0.320641  0.333333\n",
       "4  0.114207  0.081038  0.269064"
      ]
     },
     "execution_count": 291,
     "metadata": {},
     "output_type": "execute_result"
    }
   ],
   "source": [
    "pd.DataFrame(W).head()"
   ]
  },
  {
   "cell_type": "code",
   "execution_count": 292,
   "id": "12bd0700",
   "metadata": {},
   "outputs": [
    {
     "data": {
      "text/html": [
       "<div>\n",
       "<style scoped>\n",
       "    .dataframe tbody tr th:only-of-type {\n",
       "        vertical-align: middle;\n",
       "    }\n",
       "\n",
       "    .dataframe tbody tr th {\n",
       "        vertical-align: top;\n",
       "    }\n",
       "\n",
       "    .dataframe thead th {\n",
       "        text-align: right;\n",
       "    }\n",
       "</style>\n",
       "<table border=\"1\" class=\"dataframe\">\n",
       "  <thead>\n",
       "    <tr style=\"text-align: right;\">\n",
       "      <th></th>\n",
       "      <th>0</th>\n",
       "      <th>1</th>\n",
       "      <th>2</th>\n",
       "      <th>3</th>\n",
       "      <th>4</th>\n",
       "    </tr>\n",
       "  </thead>\n",
       "  <tbody>\n",
       "    <tr>\n",
       "      <th>0</th>\n",
       "      <td>0.023447</td>\n",
       "      <td>0.134237</td>\n",
       "      <td>0.025780</td>\n",
       "      <td>0.117579</td>\n",
       "      <td>0.025912</td>\n",
       "    </tr>\n",
       "    <tr>\n",
       "      <th>1</th>\n",
       "      <td>0.106864</td>\n",
       "      <td>0.290885</td>\n",
       "      <td>0.333333</td>\n",
       "      <td>0.291812</td>\n",
       "      <td>0.206840</td>\n",
       "    </tr>\n",
       "    <tr>\n",
       "      <th>2</th>\n",
       "      <td>0.226794</td>\n",
       "      <td>0.133084</td>\n",
       "      <td>0.062152</td>\n",
       "      <td>0.160607</td>\n",
       "      <td>0.269798</td>\n",
       "    </tr>\n",
       "  </tbody>\n",
       "</table>\n",
       "</div>"
      ],
      "text/plain": [
       "          0         1         2         3         4\n",
       "0  0.023447  0.134237  0.025780  0.117579  0.025912\n",
       "1  0.106864  0.290885  0.333333  0.291812  0.206840\n",
       "2  0.226794  0.133084  0.062152  0.160607  0.269798"
      ]
     },
     "execution_count": 292,
     "metadata": {},
     "output_type": "execute_result"
    }
   ],
   "source": [
    "pd.DataFrame(H).head()"
   ]
  },
  {
   "cell_type": "code",
   "execution_count": 293,
   "id": "e75d87ad",
   "metadata": {},
   "outputs": [
    {
     "name": "stdout",
     "output_type": "stream",
     "text": [
      "0.11470134083000605\n"
     ]
    }
   ],
   "source": [
    "from scipy.sparse.linalg import svds\n",
    "\n",
    "M, N = 10, 7\n",
    "B = np.abs(np.random.uniform(low=0.0, high=1.0, size=(M,N)))\n",
    "\n",
    "# SVD function\n",
    "\n",
    "def tensorsvd(input,left,right,D):\n",
    "\n",
    "    T = np.transpose(input,left+right)\n",
    "    left_index_list = []\n",
    "    for i in range(len(left)):\n",
    "        left_index_list.append(T.shape[i])\n",
    "    xsize = np.prod(left_index_list) \n",
    "    right_index_list = []\n",
    "    for i in range(len(left),len(left)+len(right)):\n",
    "        right_index_list.append(T.shape[i])\n",
    "    ysize = np.prod(right_index_list)\n",
    "    T = np.reshape(T,(xsize,ysize))\n",
    "    U, s, V = sp.linalg.svd(T,full_matrices = False)\n",
    "    if D < len(s):\n",
    "        s = np.diag(s[:D])\n",
    "        U = U[:,:D]\n",
    "        V = V[:D,:]\n",
    "    else:\n",
    "        D = len(s)\n",
    "        s = np.diag(s)\n",
    "    U = np.reshape(U,left_index_list+[D])\n",
    "    V = np.reshape(V,[D]+right_index_list)\n",
    "    return U, s, V\n",
    "\n",
    "u1, v1, s1 = tensorsvd(B,[0],[1],6)\n",
    "B1 = (u1@v1)@s1\n",
    "print (LA.norm(B1-B, 'fro'))\n"
   ]
  },
  {
   "attachments": {},
   "cell_type": "markdown",
   "id": "0d5bf5d5",
   "metadata": {},
   "source": [
    "Till now, we have created an ALS procedure to deal with missing enteries. Then we tried SVD\n",
    "on a random matrix and checked how reducing dimensionality affects accuracy measured\n",
    "through the Frobenius norm. "
   ]
  },
  {
   "cell_type": "code",
   "execution_count": 294,
   "id": "16e7778d",
   "metadata": {},
   "outputs": [],
   "source": [
    "def matrix_factorization(R, K, steps=10000, alpha=0.0002, beta=0.02):\n",
    "    '''\n",
    "    R: User-item interaction rating matrix\n",
    "    P: |U| * K (User features matrix)\n",
    "    Q: |D| * K (Item features matrix)\n",
    "    K: latent features\n",
    "    steps: iterations\n",
    "    alpha: learning rate\n",
    "    beta: regularization parameter'''\n",
    "\n",
    "    print (\"YO\")\n",
    "\n",
    "    N = np.shape(R)[0] # Number of User\n",
    "    M = np.shape(R)[1] # M: Number of Movies rated\n",
    "    K = M-1 # Num of Features\n",
    "\n",
    "    P = np.random.rand(N,K)\n",
    "    Q = np.random.rand(K,M)\n",
    "\n",
    "\n",
    "    for step in range(steps):\n",
    "        for i in range(len(R)):\n",
    "            for j in range(len(R[i])):\n",
    "                if R[i][j] > 0:\n",
    "                    # calculate error\n",
    "                    eij = R[i][j] - np.dot(P[i,:],Q[:,j])\n",
    "\n",
    "                    for k in range(K):\n",
    "                        # calculate gradient with a and beta parameter\n",
    "                        P[i][k] = P[i][k] + alpha * (2 * eij * Q[k][j] - beta * P[i][k])\n",
    "                        Q[k][j] = Q[k][j] + alpha * (2 * eij * P[i][k] - beta * Q[k][j])\n",
    "\n",
    "        #eR = np.dot(P,Q)\n",
    "        e = 0\n",
    "\n",
    "        for i in range(len(R)):\n",
    "            for j in range(len(R[i])):\n",
    "\n",
    "                if R[i][j] > 0:\n",
    "                    e += pow(R[i][j] - np.dot(P[i,:],Q[:,j]), 2)\n",
    "\n",
    "                    for k in range(K):\n",
    "                        e += (beta/2) * (P[i][k]**2 + Q[k][j]**2)\n",
    "\n",
    "        if step%500 == 1:\n",
    "            print (\"Error is\", e)\n",
    "\n",
    "    return P, Q.T"
   ]
  },
  {
   "cell_type": "code",
   "execution_count": 295,
   "id": "ff2fecaa",
   "metadata": {},
   "outputs": [
    {
     "name": "stdout",
     "output_type": "stream",
     "text": [
      "YO\n",
      "Error is 91.1080101787653\n",
      "Error is 25.75021982033413\n",
      "Error is 10.465339074066101\n",
      "Error is 2.80391140505128\n",
      "Error is 1.8271238487584216\n",
      "Error is 1.6227895019385452\n",
      "Error is 1.5207030252857259\n",
      "Error is 1.457239799090988\n",
      "Error is 1.4155873393716316\n",
      "Error is 1.3876875735719199\n",
      "Error is 1.3687553118576938\n",
      "Error is 1.3557331713246277\n",
      "Error is 1.3466234152742493\n",
      "Error is 1.3401151007713017\n",
      "Error is 1.3353488111519254\n",
      "Error is 1.3317615250389667\n",
      "Error is 1.3289836318093078\n",
      "Error is 1.3267710715524657\n",
      "Error is 1.3249611015811267\n",
      "Error is 1.323443736998381\n"
     ]
    },
    {
     "data": {
      "text/html": [
       "<div>\n",
       "<style scoped>\n",
       "    .dataframe tbody tr th:only-of-type {\n",
       "        vertical-align: middle;\n",
       "    }\n",
       "\n",
       "    .dataframe tbody tr th {\n",
       "        vertical-align: top;\n",
       "    }\n",
       "\n",
       "    .dataframe thead th {\n",
       "        text-align: right;\n",
       "    }\n",
       "</style>\n",
       "<table border=\"1\" class=\"dataframe\">\n",
       "  <thead>\n",
       "    <tr style=\"text-align: right;\">\n",
       "      <th></th>\n",
       "      <th>0</th>\n",
       "      <th>1</th>\n",
       "      <th>2</th>\n",
       "      <th>3</th>\n",
       "    </tr>\n",
       "  </thead>\n",
       "  <tbody>\n",
       "    <tr>\n",
       "      <th>0</th>\n",
       "      <td>4.983387</td>\n",
       "      <td>2.964069</td>\n",
       "      <td>3.498864</td>\n",
       "      <td>1.003255</td>\n",
       "    </tr>\n",
       "    <tr>\n",
       "      <th>1</th>\n",
       "      <td>3.979942</td>\n",
       "      <td>2.231065</td>\n",
       "      <td>2.963873</td>\n",
       "      <td>1.000534</td>\n",
       "    </tr>\n",
       "    <tr>\n",
       "      <th>2</th>\n",
       "      <td>1.014770</td>\n",
       "      <td>0.971259</td>\n",
       "      <td>5.506440</td>\n",
       "      <td>4.969579</td>\n",
       "    </tr>\n",
       "    <tr>\n",
       "      <th>3</th>\n",
       "      <td>0.999233</td>\n",
       "      <td>0.955060</td>\n",
       "      <td>4.519771</td>\n",
       "      <td>3.982523</td>\n",
       "    </tr>\n",
       "    <tr>\n",
       "      <th>4</th>\n",
       "      <td>2.139175</td>\n",
       "      <td>1.011548</td>\n",
       "      <td>4.978919</td>\n",
       "      <td>3.995674</td>\n",
       "    </tr>\n",
       "  </tbody>\n",
       "</table>\n",
       "</div>"
      ],
      "text/plain": [
       "          0         1         2         3\n",
       "0  4.983387  2.964069  3.498864  1.003255\n",
       "1  3.979942  2.231065  2.963873  1.000534\n",
       "2  1.014770  0.971259  5.506440  4.969579\n",
       "3  0.999233  0.955060  4.519771  3.982523\n",
       "4  2.139175  1.011548  4.978919  3.995674"
      ]
     },
     "execution_count": 295,
     "metadata": {},
     "output_type": "execute_result"
    }
   ],
   "source": [
    "R = [[5,3.,0,1],[4,0,0,1],[1,1,0,5],[1,0,0,4],[0,1,5,4],[2,1,3,0]]\n",
    "R = np.array(R)\n",
    "\n",
    "nP, nQ = matrix_factorization(R, K)\n",
    "nR = pd.DataFrame(nP@nQ.T)\n",
    "\n",
    "nR.head()\n",
    "\n",
    "\n",
    "\n"
   ]
  },
  {
   "attachments": {},
   "cell_type": "markdown",
   "id": "b05c3cb3",
   "metadata": {},
   "source": [
    "In real-world, the rating matrix is very sparse. The error function RMSE is only calculated with the non-null rating. \n",
    "The missing entries in the rating matrix would be replaced by the dot product of the factor matrices. \n",
    "Therefore, we know what to recommend to the users with the unseen movies based on the prediction.\n",
    "\n",
    "Matrix factorization is a collaborative filtering method to find the relationship between \"items\" and \"users\". \n",
    "Latent features, the association between users and movies matrices, are determined to find similarity and make a \n",
    "prediction based on both item and user entities. \n",
    "The matrix factorization of user and item matrices can be generated when the math \n",
    "cost function RMSE is minimized through matrix factorization. \n",
    "Gradient descent is a method to minimize the cost function."
   ]
  },
  {
   "attachments": {},
   "cell_type": "markdown",
   "id": "ba1b5a5b",
   "metadata": {},
   "source": [
    "There is some bug in ALS implementation since it doesn;t match the other method. #TODO\n"
   ]
  },
  {
   "cell_type": "markdown",
   "id": "eb45a4eb",
   "metadata": {},
   "source": []
  }
 ],
 "metadata": {
  "kernelspec": {
   "display_name": "Python 3 (ipykernel)",
   "language": "python",
   "name": "python3"
  },
  "language_info": {
   "codemirror_mode": {
    "name": "ipython",
    "version": 3
   },
   "file_extension": ".py",
   "mimetype": "text/x-python",
   "name": "python",
   "nbconvert_exporter": "python",
   "pygments_lexer": "ipython3",
   "version": "3.9.13"
  }
 },
 "nbformat": 4,
 "nbformat_minor": 5
}
