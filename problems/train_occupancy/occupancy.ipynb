{
 "cells": [
  {
   "cell_type": "code",
   "execution_count": 1,
   "id": "3044a6d5",
   "metadata": {},
   "outputs": [],
   "source": [
    "import pandas as pd\n",
    "import numpy as np\n",
    "\n",
    "import matplotlib.pyplot as plt\n",
    "import seaborn as sns\n",
    "%matplotlib inline"
   ]
  },
  {
   "cell_type": "code",
   "execution_count": 2,
   "id": "bd0efe43",
   "metadata": {},
   "outputs": [],
   "source": [
    "train=pd.read_csv('trains_train.csv')\n",
    "test=pd.read_csv('trains_test.csv')"
   ]
  },
  {
   "cell_type": "code",
   "execution_count": 3,
   "id": "28c7f2d1",
   "metadata": {},
   "outputs": [
    {
     "data": {
      "text/plain": [
       "((2250, 7), (1529, 6))"
      ]
     },
     "execution_count": 3,
     "metadata": {},
     "output_type": "execute_result"
    }
   ],
   "source": [
    "test.head(3)\n",
    "train.shape, test.shape"
   ]
  },
  {
   "cell_type": "code",
   "execution_count": 4,
   "id": "3902fdfa",
   "metadata": {},
   "outputs": [
    {
     "data": {
      "text/plain": [
       "date          0\n",
       "time          0\n",
       "connection    0\n",
       "from          0\n",
       "to            0\n",
       "vehicle       0\n",
       "occupancy     0\n",
       "dtype: int64"
      ]
     },
     "execution_count": 4,
     "metadata": {},
     "output_type": "execute_result"
    }
   ],
   "source": [
    "train.isnull().sum()"
   ]
  },
  {
   "cell_type": "code",
   "execution_count": 5,
   "id": "d8648795",
   "metadata": {},
   "outputs": [
    {
     "data": {
      "text/html": [
       "<div>\n",
       "<style scoped>\n",
       "    .dataframe tbody tr th:only-of-type {\n",
       "        vertical-align: middle;\n",
       "    }\n",
       "\n",
       "    .dataframe tbody tr th {\n",
       "        vertical-align: top;\n",
       "    }\n",
       "\n",
       "    .dataframe thead th {\n",
       "        text-align: right;\n",
       "    }\n",
       "</style>\n",
       "<table border=\"1\" class=\"dataframe\">\n",
       "  <thead>\n",
       "    <tr style=\"text-align: right;\">\n",
       "      <th></th>\n",
       "      <th>date</th>\n",
       "      <th>time</th>\n",
       "      <th>connection</th>\n",
       "      <th>from</th>\n",
       "      <th>to</th>\n",
       "      <th>vehicle</th>\n",
       "    </tr>\n",
       "  </thead>\n",
       "  <tbody>\n",
       "    <tr>\n",
       "      <th>0</th>\n",
       "      <td>2016-10-29</td>\n",
       "      <td>08:55:57 AM</td>\n",
       "      <td>8833209/20161029/IC2929</td>\n",
       "      <td>8833209</td>\n",
       "      <td>8821832</td>\n",
       "      <td>IC2929</td>\n",
       "    </tr>\n",
       "    <tr>\n",
       "      <th>1</th>\n",
       "      <td>2016-10-29</td>\n",
       "      <td>08:56:07 AM</td>\n",
       "      <td>8821600/20161029/IC2929</td>\n",
       "      <td>8821600</td>\n",
       "      <td>8821121</td>\n",
       "      <td>IC2929</td>\n",
       "    </tr>\n",
       "    <tr>\n",
       "      <th>2</th>\n",
       "      <td>2016-10-29</td>\n",
       "      <td>09:14:01 AM</td>\n",
       "      <td>8821600/20161029/IC2929</td>\n",
       "      <td>8821600</td>\n",
       "      <td>8821121</td>\n",
       "      <td>IC2929</td>\n",
       "    </tr>\n",
       "    <tr>\n",
       "      <th>3</th>\n",
       "      <td>2016-10-29</td>\n",
       "      <td>09:14:45 AM</td>\n",
       "      <td>8892007/20161029/IC1530</td>\n",
       "      <td>8892007</td>\n",
       "      <td>8891140</td>\n",
       "      <td>IC1530</td>\n",
       "    </tr>\n",
       "    <tr>\n",
       "      <th>4</th>\n",
       "      <td>2016-10-29</td>\n",
       "      <td>10:17:59 AM</td>\n",
       "      <td>8891140/20161029/IC1510</td>\n",
       "      <td>8891140</td>\n",
       "      <td>8892007</td>\n",
       "      <td>IC1510</td>\n",
       "    </tr>\n",
       "  </tbody>\n",
       "</table>\n",
       "</div>"
      ],
      "text/plain": [
       "         date         time               connection     from       to vehicle\n",
       "0  2016-10-29  08:55:57 AM  8833209/20161029/IC2929  8833209  8821832  IC2929\n",
       "1  2016-10-29  08:56:07 AM  8821600/20161029/IC2929  8821600  8821121  IC2929\n",
       "2  2016-10-29  09:14:01 AM  8821600/20161029/IC2929  8821600  8821121  IC2929\n",
       "3  2016-10-29  09:14:45 AM  8892007/20161029/IC1530  8892007  8891140  IC1530\n",
       "4  2016-10-29  10:17:59 AM  8891140/20161029/IC1510  8891140  8892007  IC1510"
      ]
     },
     "execution_count": 5,
     "metadata": {},
     "output_type": "execute_result"
    }
   ],
   "source": [
    "train.head()\n",
    "test.head()"
   ]
  },
  {
   "cell_type": "code",
   "execution_count": 6,
   "id": "97b8021c",
   "metadata": {},
   "outputs": [],
   "source": [
    "train_con= pd.DataFrame(train.connection.str.split('/',2).tolist(),columns = ['frm','mid','vech'])"
   ]
  },
  {
   "cell_type": "code",
   "execution_count": 7,
   "id": "7b259432",
   "metadata": {},
   "outputs": [
    {
     "data": {
      "text/plain": [
       "date          object\n",
       "time          object\n",
       "connection    object\n",
       "from          object\n",
       "to            object\n",
       "vehicle       object\n",
       "occupancy     object\n",
       "dtype: object"
      ]
     },
     "execution_count": 7,
     "metadata": {},
     "output_type": "execute_result"
    }
   ],
   "source": [
    "train.dtypes"
   ]
  },
  {
   "cell_type": "code",
   "execution_count": 8,
   "id": "e884689e",
   "metadata": {},
   "outputs": [
    {
     "data": {
      "text/plain": [
       "((2250, 7), (1529, 6))"
      ]
     },
     "execution_count": 8,
     "metadata": {},
     "output_type": "execute_result"
    }
   ],
   "source": [
    "train.shape, test.shape"
   ]
  },
  {
   "cell_type": "code",
   "execution_count": 9,
   "id": "428ee976",
   "metadata": {},
   "outputs": [
    {
     "data": {
      "text/plain": [
       "date          0\n",
       "time          0\n",
       "connection    0\n",
       "from          0\n",
       "to            0\n",
       "vehicle       0\n",
       "occupancy     0\n",
       "dtype: int64"
      ]
     },
     "execution_count": 9,
     "metadata": {},
     "output_type": "execute_result"
    }
   ],
   "source": [
    "train.isnull().sum()"
   ]
  },
  {
   "cell_type": "code",
   "execution_count": 10,
   "id": "171f7f13",
   "metadata": {},
   "outputs": [],
   "source": [
    "train=train.drop(['vehicle'], axis=1)\n",
    "train['vehicle']=train_con.vech"
   ]
  },
  {
   "cell_type": "code",
   "execution_count": 11,
   "id": "e3eb3e7e",
   "metadata": {},
   "outputs": [],
   "source": [
    "# Split the connection data separated by / twice\n",
    "test_con= pd.DataFrame(test.connection.str.split('/',2).tolist(),columns = ['frm','mid','vech'])"
   ]
  },
  {
   "cell_type": "code",
   "execution_count": 12,
   "id": "7d2a5826",
   "metadata": {},
   "outputs": [],
   "source": [
    "test=test.drop(['vehicle'], axis=1)\n",
    "test['vehicle']=test_con.vech"
   ]
  },
  {
   "cell_type": "code",
   "execution_count": 13,
   "id": "107bdce0",
   "metadata": {},
   "outputs": [],
   "source": [
    "import re\n",
    "train['from']=[re.sub('^[0]{0,2}','',data) for data in train['from']]\n",
    "train['to']=[re.sub('^[0]{0,2}','',data) for data in train['to']]"
   ]
  },
  {
   "cell_type": "code",
   "execution_count": 14,
   "id": "020fb87d",
   "metadata": {},
   "outputs": [],
   "source": [
    "train['from'].mode()[0]\n",
    "train.loc[train['from']=='(null)','from']=8892007\n",
    "train.loc[train['to']=='(null)','to']=0"
   ]
  },
  {
   "cell_type": "code",
   "execution_count": 15,
   "id": "d674e88e",
   "metadata": {},
   "outputs": [],
   "source": [
    "train['from']=train['from'].astype('int')\n",
    "test['from']=test['from'].astype('int')\n",
    "train['to']=train['to'].astype('int')\n",
    "test['to']=test['to'].astype('int')"
   ]
  },
  {
   "cell_type": "code",
   "execution_count": 16,
   "id": "29a753c4",
   "metadata": {},
   "outputs": [],
   "source": [
    "train.loc[train['to']==0, 'to']=8831765"
   ]
  },
  {
   "cell_type": "code",
   "execution_count": 17,
   "id": "d8e7ca16",
   "metadata": {},
   "outputs": [
    {
     "data": {
      "text/plain": [
       "((2250, 7), (1529, 6))"
      ]
     },
     "execution_count": 17,
     "metadata": {},
     "output_type": "execute_result"
    }
   ],
   "source": [
    "train.shape, test.shape"
   ]
  },
  {
   "cell_type": "code",
   "execution_count": 18,
   "id": "47a4a22d",
   "metadata": {},
   "outputs": [
    {
     "data": {
      "text/plain": [
       "date          object\n",
       "time          object\n",
       "connection    object\n",
       "from           int64\n",
       "to             int64\n",
       "occupancy     object\n",
       "vehicle       object\n",
       "dtype: object"
      ]
     },
     "execution_count": 18,
     "metadata": {},
     "output_type": "execute_result"
    }
   ],
   "source": [
    "train.dtypes "
   ]
  },
  {
   "cell_type": "code",
   "execution_count": 19,
   "id": "aace363d",
   "metadata": {},
   "outputs": [],
   "source": [
    "test['date']=pd.to_datetime(test['date'])\n",
    "test['month'] = test['date'].dt.month\n",
    "test['days_week']=test['date'].dt.dayofweek  \n",
    "test['week_day'] = test['date'].dt.day_name()\n",
    "test['day'] = test['date'].dt.day\n",
    "test['time']=pd.to_datetime(test.time)\n",
    "test['seconds']=test['time'].dt.second\n",
    "test['hour']=test['time'].dt.hour\n",
    "test['minutes']=test['time'].dt.minute\n",
    "test['hour_minutes']=test['hour']*60+ test['minutes']+test['seconds']/60\n",
    "test['occupancy'] = test.replace('occupancy', np.nan, inplace=True)\n",
    "\n",
    "train['date']=pd.to_datetime(train['date'])\n",
    "train['month'] = train['date'].dt.month\n",
    "train['days_week']=train['date'].dt.dayofweek  # Monday is 0 \n",
    "train['week_day'] = train['date'].dt.day_name()\n",
    "train['day'] = train['date'].dt.day\n",
    "train['time']=pd.to_datetime(train.time)\n",
    "train['seconds']=train['time'].dt.second\n",
    "train['hour']=train['time'].dt.hour\n",
    "train['minutes']=train['time'].dt.minute\n",
    "train['hour_minutes']=train['hour']*60+ train['minutes']+train['seconds']/60"
   ]
  },
  {
   "cell_type": "code",
   "execution_count": 20,
   "id": "3f8ab732",
   "metadata": {},
   "outputs": [
    {
     "name": "stderr",
     "output_type": "stream",
     "text": [
      "/var/folders/hx/4nkbt2rn68s3239_m38cqv1c0000gn/T/ipykernel_8688/1245182979.py:4: FutureWarning: The frame.append method is deprecated and will be removed from pandas in a future version. Use pandas.concat instead.\n",
      "  final=x.append(y, ignore_index=True)\n"
     ]
    },
    {
     "data": {
      "text/html": [
       "<div>\n",
       "<style scoped>\n",
       "    .dataframe tbody tr th:only-of-type {\n",
       "        vertical-align: middle;\n",
       "    }\n",
       "\n",
       "    .dataframe tbody tr th {\n",
       "        vertical-align: top;\n",
       "    }\n",
       "\n",
       "    .dataframe thead th {\n",
       "        text-align: right;\n",
       "    }\n",
       "</style>\n",
       "<table border=\"1\" class=\"dataframe\">\n",
       "  <thead>\n",
       "    <tr style=\"text-align: right;\">\n",
       "      <th></th>\n",
       "      <th>week_day</th>\n",
       "      <th>month</th>\n",
       "      <th>day</th>\n",
       "      <th>from</th>\n",
       "      <th>to</th>\n",
       "      <th>vehicle</th>\n",
       "      <th>hour_minutes</th>\n",
       "      <th>occupancy</th>\n",
       "    </tr>\n",
       "  </thead>\n",
       "  <tbody>\n",
       "    <tr>\n",
       "      <th>3774</th>\n",
       "      <td>Monday</td>\n",
       "      <td>12</td>\n",
       "      <td>19</td>\n",
       "      <td>8892007</td>\n",
       "      <td>8893120</td>\n",
       "      <td>IC1806</td>\n",
       "      <td>349.383333</td>\n",
       "      <td>None</td>\n",
       "    </tr>\n",
       "    <tr>\n",
       "      <th>3775</th>\n",
       "      <td>Monday</td>\n",
       "      <td>12</td>\n",
       "      <td>19</td>\n",
       "      <td>8821006</td>\n",
       "      <td>8813003</td>\n",
       "      <td>IC2028</td>\n",
       "      <td>390.200000</td>\n",
       "      <td>None</td>\n",
       "    </tr>\n",
       "    <tr>\n",
       "      <th>3776</th>\n",
       "      <td>Monday</td>\n",
       "      <td>12</td>\n",
       "      <td>19</td>\n",
       "      <td>8833308</td>\n",
       "      <td>8833001</td>\n",
       "      <td>IC1728</td>\n",
       "      <td>390.366667</td>\n",
       "      <td>None</td>\n",
       "    </tr>\n",
       "    <tr>\n",
       "      <th>3777</th>\n",
       "      <td>Monday</td>\n",
       "      <td>12</td>\n",
       "      <td>19</td>\n",
       "      <td>8814001</td>\n",
       "      <td>8813003</td>\n",
       "      <td>P7801</td>\n",
       "      <td>447.700000</td>\n",
       "      <td>None</td>\n",
       "    </tr>\n",
       "    <tr>\n",
       "      <th>3778</th>\n",
       "      <td>Monday</td>\n",
       "      <td>12</td>\n",
       "      <td>19</td>\n",
       "      <td>8814167</td>\n",
       "      <td>8814001</td>\n",
       "      <td>P7723</td>\n",
       "      <td>482.850000</td>\n",
       "      <td>None</td>\n",
       "    </tr>\n",
       "  </tbody>\n",
       "</table>\n",
       "</div>"
      ],
      "text/plain": [
       "     week_day  month  day     from       to vehicle  hour_minutes occupancy\n",
       "3774   Monday     12   19  8892007  8893120  IC1806    349.383333      None\n",
       "3775   Monday     12   19  8821006  8813003  IC2028    390.200000      None\n",
       "3776   Monday     12   19  8833308  8833001  IC1728    390.366667      None\n",
       "3777   Monday     12   19  8814001  8813003   P7801    447.700000      None\n",
       "3778   Monday     12   19  8814167  8814001   P7723    482.850000      None"
      ]
     },
     "execution_count": 20,
     "metadata": {},
     "output_type": "execute_result"
    }
   ],
   "source": [
    "x=train.loc[:, ['week_day','month','day','from', 'to','vehicle','hour_minutes','occupancy']]\n",
    "y=test.loc[:, ['week_day','month','day','from', 'to','vehicle','hour_minutes','occupancy']]\n",
    "\n",
    "final=x.append(y, ignore_index=True)\n",
    "final.tail()"
   ]
  },
  {
   "cell_type": "code",
   "execution_count": 21,
   "id": "f966ed9b",
   "metadata": {},
   "outputs": [],
   "source": [
    "line=pd.read_csv('line_info.csv')"
   ]
  },
  {
   "cell_type": "code",
   "execution_count": 22,
   "id": "0c5b2f8e",
   "metadata": {},
   "outputs": [],
   "source": [
    "final_new = pd.merge(final,line.iloc[:,[3,4,5]], how = 'left', left_on= 'vehicle', right_on= 'vehicle_id')"
   ]
  },
  {
   "cell_type": "code",
   "execution_count": 23,
   "id": "f30a373a",
   "metadata": {},
   "outputs": [],
   "source": [
    "final_new['vehicle_type']=final_new['vehicle_type'].fillna(final_new['vehicle_type'].dropna().mode()[0])"
   ]
  },
  {
   "cell_type": "code",
   "execution_count": 24,
   "id": "08dc9136",
   "metadata": {},
   "outputs": [
    {
     "data": {
      "text/plain": [
       "IC     2593\n",
       "S       540\n",
       "P       360\n",
       "L       265\n",
       "THA      14\n",
       "ICE       4\n",
       "TGV       1\n",
       "TRN       1\n",
       "EUR       1\n",
       "Name: vehicle_type, dtype: int64"
      ]
     },
     "execution_count": 24,
     "metadata": {},
     "output_type": "execute_result"
    }
   ],
   "source": [
    "final_new.vehicle_type.value_counts()"
   ]
  },
  {
   "cell_type": "code",
   "execution_count": 25,
   "id": "97c0ff75",
   "metadata": {},
   "outputs": [
    {
     "data": {
      "text/html": [
       "<div>\n",
       "<style scoped>\n",
       "    .dataframe tbody tr th:only-of-type {\n",
       "        vertical-align: middle;\n",
       "    }\n",
       "\n",
       "    .dataframe tbody tr th {\n",
       "        vertical-align: top;\n",
       "    }\n",
       "\n",
       "    .dataframe thead th {\n",
       "        text-align: right;\n",
       "    }\n",
       "</style>\n",
       "<table border=\"1\" class=\"dataframe\">\n",
       "  <thead>\n",
       "    <tr style=\"text-align: right;\">\n",
       "      <th></th>\n",
       "      <th>week_day</th>\n",
       "      <th>month</th>\n",
       "      <th>day</th>\n",
       "      <th>from</th>\n",
       "      <th>to</th>\n",
       "      <th>vehicle</th>\n",
       "      <th>hour_minutes</th>\n",
       "      <th>occupancy</th>\n",
       "      <th>vehicle_id</th>\n",
       "      <th>vehicle_type</th>\n",
       "      <th>nr_of_stops</th>\n",
       "    </tr>\n",
       "  </thead>\n",
       "  <tbody>\n",
       "    <tr>\n",
       "      <th>3774</th>\n",
       "      <td>Monday</td>\n",
       "      <td>12</td>\n",
       "      <td>19</td>\n",
       "      <td>8892007</td>\n",
       "      <td>8893120</td>\n",
       "      <td>IC1806</td>\n",
       "      <td>349.383333</td>\n",
       "      <td>NaN</td>\n",
       "      <td>IC1806</td>\n",
       "      <td>IC</td>\n",
       "      <td>10.0</td>\n",
       "    </tr>\n",
       "    <tr>\n",
       "      <th>3775</th>\n",
       "      <td>Monday</td>\n",
       "      <td>12</td>\n",
       "      <td>19</td>\n",
       "      <td>8821006</td>\n",
       "      <td>8813003</td>\n",
       "      <td>IC2028</td>\n",
       "      <td>390.200000</td>\n",
       "      <td>NaN</td>\n",
       "      <td>IC2028</td>\n",
       "      <td>IC</td>\n",
       "      <td>11.0</td>\n",
       "    </tr>\n",
       "    <tr>\n",
       "      <th>3776</th>\n",
       "      <td>Monday</td>\n",
       "      <td>12</td>\n",
       "      <td>19</td>\n",
       "      <td>8833308</td>\n",
       "      <td>8833001</td>\n",
       "      <td>IC1728</td>\n",
       "      <td>390.366667</td>\n",
       "      <td>NaN</td>\n",
       "      <td>IC1728</td>\n",
       "      <td>IC</td>\n",
       "      <td>21.0</td>\n",
       "    </tr>\n",
       "    <tr>\n",
       "      <th>3777</th>\n",
       "      <td>Monday</td>\n",
       "      <td>12</td>\n",
       "      <td>19</td>\n",
       "      <td>8814001</td>\n",
       "      <td>8813003</td>\n",
       "      <td>P7801</td>\n",
       "      <td>447.700000</td>\n",
       "      <td>NaN</td>\n",
       "      <td>P7801</td>\n",
       "      <td>P</td>\n",
       "      <td>11.0</td>\n",
       "    </tr>\n",
       "    <tr>\n",
       "      <th>3778</th>\n",
       "      <td>Monday</td>\n",
       "      <td>12</td>\n",
       "      <td>19</td>\n",
       "      <td>8814167</td>\n",
       "      <td>8814001</td>\n",
       "      <td>P7723</td>\n",
       "      <td>482.850000</td>\n",
       "      <td>NaN</td>\n",
       "      <td>P7723</td>\n",
       "      <td>P</td>\n",
       "      <td>17.0</td>\n",
       "    </tr>\n",
       "  </tbody>\n",
       "</table>\n",
       "</div>"
      ],
      "text/plain": [
       "     week_day  month  day     from       to vehicle  hour_minutes occupancy  \\\n",
       "3774   Monday     12   19  8892007  8893120  IC1806    349.383333       NaN   \n",
       "3775   Monday     12   19  8821006  8813003  IC2028    390.200000       NaN   \n",
       "3776   Monday     12   19  8833308  8833001  IC1728    390.366667       NaN   \n",
       "3777   Monday     12   19  8814001  8813003   P7801    447.700000       NaN   \n",
       "3778   Monday     12   19  8814167  8814001   P7723    482.850000       NaN   \n",
       "\n",
       "     vehicle_id vehicle_type  nr_of_stops  \n",
       "3774     IC1806           IC         10.0  \n",
       "3775     IC2028           IC         11.0  \n",
       "3776     IC1728           IC         21.0  \n",
       "3777      P7801            P         11.0  \n",
       "3778      P7723            P         17.0  "
      ]
     },
     "execution_count": 25,
     "metadata": {},
     "output_type": "execute_result"
    }
   ],
   "source": [
    "cat=[ 'from', 'to', 'vehicle', 'occupancy','vehicle_type']\n",
    "for col in cat:\n",
    "    final_new[col]=final_new[col].astype('category')\n",
    "\n",
    "final_new.tail()"
   ]
  },
  {
   "cell_type": "code",
   "execution_count": 26,
   "id": "372e97f8",
   "metadata": {},
   "outputs": [
    {
     "data": {
      "text/plain": [
       "week_day          object\n",
       "month              int64\n",
       "day                int64\n",
       "from            category\n",
       "to              category\n",
       "vehicle         category\n",
       "hour_minutes     float64\n",
       "occupancy       category\n",
       "vehicle_type    category\n",
       "nr_of_stops      float64\n",
       "dtype: object"
      ]
     },
     "execution_count": 26,
     "metadata": {},
     "output_type": "execute_result"
    }
   ],
   "source": [
    "final_new=final_new.drop(['vehicle_id'],axis=1)\n",
    "final_new.dtypes"
   ]
  },
  {
   "cell_type": "code",
   "execution_count": 27,
   "id": "185b269f",
   "metadata": {},
   "outputs": [],
   "source": [
    "cat=[ 'from', 'to','vehicle', 'occupancy','vehicle_type']\n",
    "for col in cat:\n",
    "    final_new[col]=final_new[col].astype('category')"
   ]
  },
  {
   "cell_type": "code",
   "execution_count": 28,
   "id": "5c1a660e",
   "metadata": {},
   "outputs": [],
   "source": [
    "from sklearn.preprocessing import LabelEncoder\n",
    "le = LabelEncoder()\n",
    "for col in ['from','to','vehicle','week_day','nr_of_stops','vehicle_type']:\n",
    "    final_new[col] = le.fit_transform(final_new[col])"
   ]
  },
  {
   "cell_type": "code",
   "execution_count": 29,
   "id": "d92f56b7",
   "metadata": {},
   "outputs": [],
   "source": [
    "train=final_new.iloc[0:2250,:]\n",
    "test=final_new.iloc[2250:, [0,1,2,3,4,5,6,8,9]]"
   ]
  },
  {
   "cell_type": "code",
   "execution_count": 30,
   "id": "008ee64f",
   "metadata": {},
   "outputs": [
    {
     "data": {
      "text/plain": [
       "((2250, 10), (1529, 9))"
      ]
     },
     "execution_count": 30,
     "metadata": {},
     "output_type": "execute_result"
    }
   ],
   "source": [
    "train.shape, test.shape"
   ]
  },
  {
   "cell_type": "code",
   "execution_count": 31,
   "id": "c0468ec2",
   "metadata": {},
   "outputs": [
    {
     "data": {
      "text/plain": [
       "week_day        0\n",
       "month           0\n",
       "day             0\n",
       "from            0\n",
       "to              0\n",
       "vehicle         0\n",
       "hour_minutes    0\n",
       "occupancy       0\n",
       "vehicle_type    0\n",
       "nr_of_stops     0\n",
       "dtype: int64"
      ]
     },
     "execution_count": 31,
     "metadata": {},
     "output_type": "execute_result"
    }
   ],
   "source": [
    "train.isnull().sum()"
   ]
  },
  {
   "cell_type": "code",
   "execution_count": 32,
   "id": "245432bf",
   "metadata": {},
   "outputs": [],
   "source": [
    "from sklearn.model_selection import train_test_split\n",
    "X_train, X_test, Y_train, Y_test = train_test_split(train.drop(['occupancy'],axis=1),train['occupancy'],\n",
    "                                                    test_size =0.4,random_state = 123)\n",
    "# Drop occupancy from X and assign to Y!"
   ]
  },
  {
   "cell_type": "code",
   "execution_count": 33,
   "id": "44c3d409",
   "metadata": {},
   "outputs": [
    {
     "data": {
      "text/plain": [
       "((1350, 9), (1350,), (900, 9), (900,))"
      ]
     },
     "execution_count": 33,
     "metadata": {},
     "output_type": "execute_result"
    }
   ],
   "source": [
    "X_train.shape, Y_train.shape, X_test.shape, Y_test.shape"
   ]
  },
  {
   "cell_type": "markdown",
   "id": "9ee0a64e",
   "metadata": {},
   "source": [
    "# Now consider decision tree"
   ]
  },
  {
   "cell_type": "code",
   "execution_count": 39,
   "id": "c2e3c426",
   "metadata": {},
   "outputs": [
    {
     "name": "stdout",
     "output_type": "stream",
     "text": [
      "[[145  73  77]\n",
      " [ 79 210  82]\n",
      " [ 69  65 100]]\n"
     ]
    },
    {
     "data": {
      "text/plain": [
       "<AxesSubplot:>"
      ]
     },
     "execution_count": 39,
     "metadata": {},
     "output_type": "execute_result"
    },
    {
     "data": {
      "image/png": "[encoded data removed]",
      "text/plain": [
       "<Figure size 640x480 with 2 Axes>"
      ]
     },
     "metadata": {},
     "output_type": "display_data"
    }
   ],
   "source": [
    "from sklearn.tree import DecisionTreeClassifier\n",
    "from sklearn import metrics\n",
    "\n",
    "tree_model = DecisionTreeClassifier()\n",
    "tree_model.fit(X = X_train, y = Y_train)\n",
    "pred_tree = tree_model.predict(X = X_test)\n",
    "\n",
    "cf_matrix = metrics.confusion_matrix(Y_test,pred_tree)\n",
    "\n",
    "import seaborn as sns\n",
    "sns.heatmap(cf_matrix, annot=True)"
   ]
  },
  {
   "cell_type": "code",
   "execution_count": 40,
   "id": "7761b04e",
   "metadata": {},
   "outputs": [
    {
     "data": {
      "text/plain": [
       "<AxesSubplot:>"
      ]
     },
     "execution_count": 40,
     "metadata": {},
     "output_type": "execute_result"
    },
    {
     "data": {
      "image/png": "[encoded data removed]",
      "text/plain": [
       "<Figure size 640x480 with 2 Axes>"
      ]
     },
     "metadata": {},
     "output_type": "display_data"
    }
   ],
   "source": [
    "sns.heatmap(cf_matrix/np.sum(cf_matrix), annot=True,fmt='.2%', cmap='Blues')"
   ]
  },
  {
   "cell_type": "code",
   "execution_count": null,
   "id": "9986fd29",
   "metadata": {},
   "outputs": [],
   "source": [
    "metrics.accuracy_score(Y_test,pred_tree), metrics.cohen_kappa_score(Y_test,pred_tree)"
   ]
  },
  {
   "cell_type": "markdown",
   "id": "270f1e63",
   "metadata": {},
   "source": [
    "# Now consider random forest"
   ]
  },
  {
   "cell_type": "code",
   "execution_count": null,
   "id": "fd6036ef",
   "metadata": {},
   "outputs": [],
   "source": [
    "from sklearn.model_selection import GridSearchCV\n",
    "from sklearn.ensemble import RandomForestClassifier\n",
    "\n",
    "target=LabelEncoder().fit_transform(Y_train)\n",
    "parmeters={'n_estimators':[200, 300, 400], 'criterion':['gini','entropy'],\n",
    "         'min_samples_split':[2,4], 'min_samples_leaf':[1,2,4]}\n",
    "         \n",
    "rand_model=GridSearchCV(estimator=RandomForestClassifier(),param_grid=parmeters,scoring='accuracy', cv=5)\n",
    "\n",
    "rand_model.fit(X = X_train, y = target)"
   ]
  },
  {
   "cell_type": "code",
   "execution_count": null,
   "id": "eb8445cb",
   "metadata": {},
   "outputs": [],
   "source": [
    "rand_model.best_estimator_"
   ]
  },
  {
   "cell_type": "code",
   "execution_count": 59,
   "id": "55286f33",
   "metadata": {},
   "outputs": [
    {
     "data": {
      "text/plain": [
       "(0.5766666666666667, 0.3507821286167059)"
      ]
     },
     "execution_count": 59,
     "metadata": {},
     "output_type": "execute_result"
    },
    {
     "data": {
      "image/png": "[encoded data removed]",
      "text/plain": [
       "<Figure size 1200x600 with 2 Axes>"
      ]
     },
     "metadata": {},
     "output_type": "display_data"
    }
   ],
   "source": [
    "from sklearn.ensemble import RandomForestClassifier\n",
    "from sklearn.datasets import make_classification\n",
    "\n",
    "rand_model = RandomForestClassifier(bootstrap=True, class_weight=None, criterion='gini',\n",
    "            max_depth=None, max_leaf_nodes=None,\n",
    "            min_samples_leaf=1,\n",
    "            min_samples_split=2, min_weight_fraction_leaf=0.0,\n",
    "            n_estimators=300, n_jobs=1, oob_score=False, random_state=None,\n",
    "            verbose=0, warm_start=False)\n",
    "\n",
    "rand_model.fit(X = X_train, y = Y_train)\n",
    "pred_rand = rand_model.predict(X = X_test)\n",
    "\n",
    "cf_matrix = metrics.confusion_matrix(Y_test,pred_rand) \n",
    "sns.heatmap(cf_matrix/np.sum(cf_matrix), annot=True, fmt='.2%', cmap='Blues') # Get two decimal places for % age\n",
    "metrics.accuracy_score(Y_test,pred_rand), metrics.cohen_kappa_score(Y_test,pred_rand)"
   ]
  },
  {
   "cell_type": "code",
   "execution_count": 44,
   "id": "cdbfbc7d",
   "metadata": {},
   "outputs": [
    {
     "data": {
      "text/html": [
       "<div>\n",
       "<style scoped>\n",
       "    .dataframe tbody tr th:only-of-type {\n",
       "        vertical-align: middle;\n",
       "    }\n",
       "\n",
       "    .dataframe tbody tr th {\n",
       "        vertical-align: top;\n",
       "    }\n",
       "\n",
       "    .dataframe thead th {\n",
       "        text-align: right;\n",
       "    }\n",
       "</style>\n",
       "<table border=\"1\" class=\"dataframe\">\n",
       "  <thead>\n",
       "    <tr style=\"text-align: right;\">\n",
       "      <th></th>\n",
       "      <th>features</th>\n",
       "      <th>importance</th>\n",
       "    </tr>\n",
       "  </thead>\n",
       "  <tbody>\n",
       "    <tr>\n",
       "      <th>7</th>\n",
       "      <td>vehicle_type</td>\n",
       "      <td>0.021224</td>\n",
       "    </tr>\n",
       "    <tr>\n",
       "      <th>1</th>\n",
       "      <td>month</td>\n",
       "      <td>0.040445</td>\n",
       "    </tr>\n",
       "    <tr>\n",
       "      <th>0</th>\n",
       "      <td>week_day</td>\n",
       "      <td>0.073826</td>\n",
       "    </tr>\n",
       "    <tr>\n",
       "      <th>8</th>\n",
       "      <td>nr_of_stops</td>\n",
       "      <td>0.098244</td>\n",
       "    </tr>\n",
       "    <tr>\n",
       "      <th>2</th>\n",
       "      <td>day</td>\n",
       "      <td>0.114673</td>\n",
       "    </tr>\n",
       "    <tr>\n",
       "      <th>4</th>\n",
       "      <td>to</td>\n",
       "      <td>0.131721</td>\n",
       "    </tr>\n",
       "    <tr>\n",
       "      <th>3</th>\n",
       "      <td>from</td>\n",
       "      <td>0.139480</td>\n",
       "    </tr>\n",
       "    <tr>\n",
       "      <th>5</th>\n",
       "      <td>vehicle</td>\n",
       "      <td>0.155826</td>\n",
       "    </tr>\n",
       "    <tr>\n",
       "      <th>6</th>\n",
       "      <td>hour_minutes</td>\n",
       "      <td>0.224561</td>\n",
       "    </tr>\n",
       "  </tbody>\n",
       "</table>\n",
       "</div>"
      ],
      "text/plain": [
       "       features  importance\n",
       "7  vehicle_type    0.021224\n",
       "1         month    0.040445\n",
       "0      week_day    0.073826\n",
       "8   nr_of_stops    0.098244\n",
       "2           day    0.114673\n",
       "4            to    0.131721\n",
       "3          from    0.139480\n",
       "5       vehicle    0.155826\n",
       "6  hour_minutes    0.224561"
      ]
     },
     "execution_count": 44,
     "metadata": {},
     "output_type": "execute_result"
    },
    {
     "data": {
      "image/png": "[encoded data removed]",
      "text/plain": [
       "<Figure size 640x480 with 1 Axes>"
      ]
     },
     "metadata": {},
     "output_type": "display_data"
    }
   ],
   "source": [
    "features=X_train.columns\n",
    "f_imp=list(zip(X_train[features], rand_model.feature_importances_))\n",
    "f_imp=pd.DataFrame(f_imp, columns=['features','importance'])\n",
    "f_imp.sort_values(by = 'importance', inplace = True)\n",
    "\n",
    "f_imp.plot.bar(x='features',y='importance')\n",
    "plt.rcParams['figure.figsize']=12,6\n",
    "plt.xticks(rotation=30)\n",
    "\n",
    "f_imp"
   ]
  },
  {
   "cell_type": "code",
   "execution_count": 77,
   "id": "0fb9e89d",
   "metadata": {},
   "outputs": [
    {
     "data": {
      "text/html": [
       "<div>\n",
       "<style scoped>\n",
       "    .dataframe tbody tr th:only-of-type {\n",
       "        vertical-align: middle;\n",
       "    }\n",
       "\n",
       "    .dataframe tbody tr th {\n",
       "        vertical-align: top;\n",
       "    }\n",
       "\n",
       "    .dataframe thead th {\n",
       "        text-align: right;\n",
       "    }\n",
       "</style>\n",
       "<table border=\"1\" class=\"dataframe\">\n",
       "  <thead>\n",
       "    <tr style=\"text-align: right;\">\n",
       "      <th></th>\n",
       "      <th>occupancy</th>\n",
       "      <th>occupancy pred.</th>\n",
       "    </tr>\n",
       "  </thead>\n",
       "  <tbody>\n",
       "    <tr>\n",
       "      <th>574</th>\n",
       "      <td>high</td>\n",
       "      <td>low</td>\n",
       "    </tr>\n",
       "    <tr>\n",
       "      <th>649</th>\n",
       "      <td>low</td>\n",
       "      <td>medium</td>\n",
       "    </tr>\n",
       "    <tr>\n",
       "      <th>440</th>\n",
       "      <td>high</td>\n",
       "      <td>low</td>\n",
       "    </tr>\n",
       "    <tr>\n",
       "      <th>279</th>\n",
       "      <td>low</td>\n",
       "      <td>low</td>\n",
       "    </tr>\n",
       "    <tr>\n",
       "      <th>304</th>\n",
       "      <td>low</td>\n",
       "      <td>low</td>\n",
       "    </tr>\n",
       "    <tr>\n",
       "      <th>266</th>\n",
       "      <td>low</td>\n",
       "      <td>low</td>\n",
       "    </tr>\n",
       "    <tr>\n",
       "      <th>433</th>\n",
       "      <td>low</td>\n",
       "      <td>high</td>\n",
       "    </tr>\n",
       "    <tr>\n",
       "      <th>33</th>\n",
       "      <td>low</td>\n",
       "      <td>low</td>\n",
       "    </tr>\n",
       "    <tr>\n",
       "      <th>388</th>\n",
       "      <td>low</td>\n",
       "      <td>medium</td>\n",
       "    </tr>\n",
       "    <tr>\n",
       "      <th>883</th>\n",
       "      <td>medium</td>\n",
       "      <td>low</td>\n",
       "    </tr>\n",
       "  </tbody>\n",
       "</table>\n",
       "</div>"
      ],
      "text/plain": [
       "    occupancy  occupancy pred.\n",
       "574      high              low\n",
       "649       low           medium\n",
       "440      high              low\n",
       "279       low              low\n",
       "304       low              low\n",
       "266       low              low\n",
       "433       low             high\n",
       "33        low              low\n",
       "388       low           medium\n",
       "883    medium              low"
      ]
     },
     "execution_count": 77,
     "metadata": {},
     "output_type": "execute_result"
    }
   ],
   "source": [
    "out = pd.DataFrame(Y_test)\n",
    "out1 = pd.DataFrame(pred_rand, columns=['occupancy pred.'])\n",
    "result = pd.concat([out, out1], axis=1, join=\"inner\")\n",
    "result.head(10)"
   ]
  },
  {
   "cell_type": "code",
   "execution_count": 82,
   "id": "3c6f604a",
   "metadata": {},
   "outputs": [],
   "source": [
    "result.to_csv('out.csv') # As required in the submission"
   ]
  },
  {
   "cell_type": "code",
   "execution_count": null,
   "id": "43785a5c",
   "metadata": {},
   "outputs": [],
   "source": []
  }
 ],
 "metadata": {
  "kernelspec": {
   "display_name": "Python 3 (ipykernel)",
   "language": "python",
   "name": "python3"
  },
  "language_info": {
   "codemirror_mode": {
    "name": "ipython",
    "version": 3
   },
   "file_extension": ".py",
   "mimetype": "text/x-python",
   "name": "python",
   "nbconvert_exporter": "python",
   "pygments_lexer": "ipython3",
   "version": "3.9.13"
  }
 },
 "nbformat": 4,
 "nbformat_minor": 5
}
