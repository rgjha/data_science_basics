{
 "cells": [
  {
   "cell_type": "code",
   "execution_count": 1,
   "id": "204d0180",
   "metadata": {},
   "outputs": [
    {
     "ename": "SystemError",
     "evalue": "GPU device not found",
     "output_type": "error",
     "traceback": [
      "\u001b[0;31m---------------------------------------------------------------------------\u001b[0m",
      "\u001b[0;31mSystemError\u001b[0m                               Traceback (most recent call last)",
      "Cell \u001b[0;32mIn[1], line 6\u001b[0m\n\u001b[1;32m      4\u001b[0m device_name \u001b[39m=\u001b[39m tf\u001b[39m.\u001b[39mtest\u001b[39m.\u001b[39mgpu_device_name()\n\u001b[1;32m      5\u001b[0m \u001b[39mif\u001b[39;00m device_name \u001b[39m!=\u001b[39m \u001b[39m'\u001b[39m\u001b[39m/device:GPU:0\u001b[39m\u001b[39m'\u001b[39m:\n\u001b[0;32m----> 6\u001b[0m   \u001b[39mraise\u001b[39;00m \u001b[39mSystemError\u001b[39;00m(\u001b[39m'\u001b[39m\u001b[39mGPU device not found\u001b[39m\u001b[39m'\u001b[39m)\n\u001b[1;32m      7\u001b[0m \u001b[39mprint\u001b[39m(\u001b[39m'\u001b[39m\u001b[39mFound GPU at: \u001b[39m\u001b[39m{}\u001b[39;00m\u001b[39m'\u001b[39m\u001b[39m.\u001b[39mformat(device_name))\n",
      "\u001b[0;31mSystemError\u001b[0m: GPU device not found"
     ]
    }
   ],
   "source": [
    "#@title Check GPU\n",
    "\n",
    "import tensorflow as tf\n",
    "device_name = tf.test.gpu_device_name()\n",
    "if device_name != '/device:GPU:0':\n",
    "  raise SystemError('GPU device not found')\n",
    "print('Found GPU at: {}'.format(device_name))"
   ]
  },
  {
   "cell_type": "code",
   "execution_count": 2,
   "id": "2f49a8a0",
   "metadata": {},
   "outputs": [
    {
     "name": "stdout",
     "output_type": "stream",
     "text": [
      "tf version:  2.12.0\n",
      "tf.keras version: 2.12.0\n"
     ]
    }
   ],
   "source": [
    "#@title Version Info\n",
    "print('tf version: ', tf.__version__)\n",
    "print('tf.keras version:', tf.keras.__version__)"
   ]
  },
  {
   "cell_type": "code",
   "execution_count": 5,
   "id": "694c149a",
   "metadata": {},
   "outputs": [],
   "source": [
    "from random import randint\n",
    "from numpy import array\n",
    "from numpy import argmax\n",
    "\n",
    "from tensorflow.keras import models\n",
    "from numpy import array_equal\n",
    "import numpy as np\n",
    "from tensorflow.keras.models import Sequential, Model\n",
    "from tensorflow.keras.layers import LSTM\n",
    "from tensorflow.keras.layers import Dense, Flatten\n",
    "from tensorflow.keras import Input\n",
    "from tensorflow.keras.layers import TimeDistributed\n",
    "from tensorflow.keras.layers import RepeatVector"
   ]
  },
  {
   "cell_type": "code",
   "execution_count": 6,
   "id": "a3f38be5",
   "metadata": {},
   "outputs": [],
   "source": [
    "#@title Generate one_hot_encoded Input & Output Sequences\n",
    "\n",
    "\n",
    "# generate a sequence of random integers\n",
    "def generate_sequence(length, n_unique):\n",
    "\treturn [randint(0, n_unique-1) for _ in range(length)]\n",
    "\n",
    "# one hot encode sequence\n",
    "def one_hot_encode(sequence, n_unique):\n",
    "\tencoding = list()\n",
    "\tfor value in sequence:\n",
    "\t\tvector = [0 for _ in range(n_unique)]\n",
    "\t\tvector[value] = 1\n",
    "\t\tencoding.append(vector)\n",
    "\treturn array(encoding)\n",
    "\n",
    "# decode a one hot encoded string\n",
    "def one_hot_decode(encoded_seq):\n",
    "\treturn [argmax(vector) for vector in encoded_seq]\n",
    "\n",
    "# prepare data for the LSTM\n",
    "def get_pair(n_in, n_out, n_unique, verbose= False):\n",
    "\t# generate random sequence\n",
    "\tsequence_in = generate_sequence(n_in, n_unique)\n",
    "\tsequence_out = sequence_in[:n_out] + [0 for _ in range(n_in-n_out)]\n",
    "\t# one hot encode\n",
    "\tX = one_hot_encode(sequence_in, n_unique)\n",
    "\ty = one_hot_encode(sequence_out, n_unique)\n",
    "\t# reshape as 3D\n",
    "\tX = X.reshape((1, X.shape[0], X.shape[1]))\n",
    "\ty = y.reshape((1, y.shape[0], y.shape[1]))\n",
    "\n",
    "\tif(verbose):\n",
    "\t\tprint('Generated sequences as follows')\n",
    "\t\tprint('X.shape: ', X.shape,'y.shape: ', y.shape)\n",
    "\t\tprint('\\nSample X and y')\n",
    "\t\tprint('\\nIn raw format:')\n",
    "\t\tprint('X=%s, y=%s' % (one_hot_decode(X[0]), one_hot_decode(y[0])))\n",
    "\t\tprint('\\nIn one_hot_encoded format:')\n",
    "\t\tprint('X=%s' % (X[0]))\n",
    "\treturn X,y"
   ]
  },
  {
   "cell_type": "code",
   "execution_count": 7,
   "id": "40e34c27",
   "metadata": {},
   "outputs": [
    {
     "name": "stdout",
     "output_type": "stream",
     "text": [
      "Generated sequences as follows\n",
      "X.shape:  (1, 4, 10) y.shape:  (1, 4, 10)\n",
      "\n",
      "Sample X and y\n",
      "\n",
      "In raw format:\n",
      "X=[8, 1, 9, 0], y=[8, 1, 0, 0]\n",
      "\n",
      "In one_hot_encoded format:\n",
      "X=[[0 0 0 0 0 0 0 0 1 0]\n",
      " [0 1 0 0 0 0 0 0 0 0]\n",
      " [0 0 0 0 0 0 0 0 0 1]\n",
      " [1 0 0 0 0 0 0 0 0 0]]\n"
     ]
    }
   ],
   "source": [
    "n_timesteps_in = 4  #@param {type:\"integer\"}\n",
    "#each input sample has 4 values\n",
    "\n",
    "n_features = 10   #@param {type:\"integer\"}\n",
    "#each value is one_hot_encoded with 10 0/1\n",
    "n_timesteps_out = 2  #@param {type:\"integer\"}\n",
    "#each output sample has 2 values padded with 0\n",
    "\n",
    "# generate random sequence\n",
    "X,y = get_pair(n_timesteps_in, n_timesteps_out, n_features, verbose=True)"
   ]
  },
  {
   "cell_type": "code",
   "execution_count": 8,
   "id": "9127e4d2",
   "metadata": {},
   "outputs": [
    {
     "name": "stdout",
     "output_type": "stream",
     "text": [
      "Model: \"model\"\n",
      "_________________________________________________________________\n",
      " Layer (type)                Output Shape              Param #   \n",
      "=================================================================\n",
      " input_1 (InputLayer)        [(None, 4, 10)]           0         \n",
      "                                                                 \n",
      " lstm (LSTM)                 (None, 4, 100)            44400     \n",
      "                                                                 \n",
      "=================================================================\n",
      "Total params: 44,400\n",
      "Trainable params: 44,400\n",
      "Non-trainable params: 0\n",
      "_________________________________________________________________\n"
     ]
    }
   ],
   "source": [
    "# Define model\n",
    "LSTMcells= 100\n",
    "\n",
    "input =Input(shape=(n_timesteps_in, n_features))\n",
    "output= LSTM(LSTMcells, return_sequences=True) (input)\n",
    "model1 = Model(inputs=input, outputs=output)\n",
    "model1.summary()"
   ]
  },
  {
   "cell_type": "code",
   "execution_count": 9,
   "id": "045da6b5",
   "metadata": {},
   "outputs": [
    {
     "name": "stdout",
     "output_type": "stream",
     "text": [
      "Model: \"sequential\"\n",
      "_________________________________________________________________\n",
      " Layer (type)                Output Shape              Param #   \n",
      "=================================================================\n",
      " lstm_1 (LSTM)               (None, 150)               96600     \n",
      "                                                                 \n",
      " repeat_vector (RepeatVector  (None, 4, 150)           0         \n",
      " )                                                               \n",
      "                                                                 \n",
      " lstm_2 (LSTM)               (None, 4, 150)            180600    \n",
      "                                                                 \n",
      " time_distributed (TimeDistr  (None, 4, 10)            1510      \n",
      " ibuted)                                                         \n",
      "                                                                 \n",
      "=================================================================\n",
      "Total params: 278,710\n",
      "Trainable params: 278,710\n",
      "Non-trainable params: 0\n",
      "_________________________________________________________________\n"
     ]
    }
   ],
   "source": [
    "model = Sequential()\n",
    "model.add(Input(shape=(n_timesteps_in, n_features)))\n",
    "model.add(LSTM(150))\n",
    "model.add(RepeatVector(n_timesteps_in))\n",
    "model.add(LSTM(150, return_sequences=True))\n",
    "model.add(TimeDistributed(Dense(n_features, activation='softmax')))\n",
    "model.compile(loss='categorical_crossentropy', optimizer='adam', metrics=['accuracy'])\n",
    "model.summary()"
   ]
  },
  {
   "cell_type": "code",
   "execution_count": 16,
   "id": "64b4f636",
   "metadata": {},
   "outputs": [],
   "source": [
    "# Train the LSTM\n",
    "for epoch in range(500):\n",
    "\t# Generate new random sequence\n",
    "\tX,y = get_pair(n_timesteps_in, n_timesteps_out, n_features)\n",
    "\t# Fit model for one epoch on this sequence\n",
    "\tmodel.fit(X, y, epochs=1, verbose=0)"
   ]
  },
  {
   "cell_type": "code",
   "execution_count": 17,
   "id": "eb9318a3",
   "metadata": {},
   "outputs": [
    {
     "name": "stdout",
     "output_type": "stream",
     "text": [
      "Accuracy: 25.00%\n"
     ]
    }
   ],
   "source": [
    "# evaluate LSTM\n",
    "total, correct = 100, 0\n",
    "for _ in range(total):\n",
    "\tX,y = get_pair(n_timesteps_in, n_timesteps_out, n_features)\n",
    "\tyhat = model.predict(X, verbose=0)\n",
    "\tif array_equal(one_hot_decode(y[0]), one_hot_decode(yhat[0])):\n",
    "\t\tcorrect += 1\n",
    "print('Accuracy: %.2f%%' % (float(correct)/float(total)*100.0))"
   ]
  },
  {
   "cell_type": "code",
   "execution_count": 18,
   "id": "ac4a358e",
   "metadata": {},
   "outputs": [
    {
     "name": "stdout",
     "output_type": "stream",
     "text": [
      "Input [8, 6, 7, 4] Expected: [8, 6, 0, 0] Predicted [8, 7, 0, 0]\n",
      "Input [8, 9, 8, 0] Expected: [8, 9, 0, 0] Predicted [8, 8, 0, 0]\n",
      "Input [4, 3, 4, 3] Expected: [4, 3, 0, 0] Predicted [4, 3, 0, 0]\n",
      "Input [5, 3, 2, 6] Expected: [5, 3, 0, 0] Predicted [5, 5, 0, 0]\n",
      "Input [8, 3, 6, 9] Expected: [8, 3, 0, 0] Predicted [8, 8, 0, 0]\n",
      "Input [7, 6, 9, 5] Expected: [7, 6, 0, 0] Predicted [7, 7, 0, 0]\n",
      "Input [5, 5, 9, 8] Expected: [5, 5, 0, 0] Predicted [5, 5, 0, 0]\n",
      "Input [0, 3, 0, 6] Expected: [0, 3, 0, 0] Predicted [5, 0, 0, 0]\n",
      "Input [9, 7, 7, 1] Expected: [9, 7, 0, 0] Predicted [7, 7, 0, 0]\n",
      "Input [1, 6, 2, 6] Expected: [1, 6, 0, 0] Predicted [6, 6, 0, 0]\n"
     ]
    }
   ],
   "source": [
    "# spot check some examples\n",
    "for _ in range(10):\n",
    "\tX,y = get_pair(n_timesteps_in, n_timesteps_out, n_features)\n",
    "\tyhat = model.predict(X, verbose=0)\n",
    "\tprint('Input',one_hot_decode(X[0]),\n",
    "\t      'Expected:', one_hot_decode(y[0]), \n",
    "\t\t\t\t   'Predicted', one_hot_decode(yhat[0]))"
   ]
  },
  {
   "cell_type": "code",
   "execution_count": 19,
   "id": "a8eceeac",
   "metadata": {},
   "outputs": [
    {
     "name": "stdout",
     "output_type": "stream",
     "text": [
      "Model: \"sequential_1\"\n",
      "_________________________________________________________________\n",
      " Layer (type)                Output Shape              Param #   \n",
      "=================================================================\n",
      " lstm_3 (LSTM)               (None, 4, 150)            96600     \n",
      "                                                                 \n",
      " lstm_4 (LSTM)               (None, 4, 150)            180600    \n",
      "                                                                 \n",
      " time_distributed_1 (TimeDis  (None, 4, 10)            1510      \n",
      " tributed)                                                       \n",
      "                                                                 \n",
      "=================================================================\n",
      "Total params: 278,710\n",
      "Trainable params: 278,710\n",
      "Non-trainable params: 0\n",
      "_________________________________________________________________\n"
     ]
    }
   ],
   "source": [
    "model2 = Sequential()\n",
    "model2.add(Input(shape=(n_timesteps_in, n_features)))\n",
    "model2.add(LSTM(150, return_sequences=True))\n",
    "model2.add(LSTM(150, return_sequences=True))\n",
    "model2.add(TimeDistributed(Dense(n_features, activation='softmax')))\n",
    "model2.compile(loss='categorical_crossentropy', optimizer='adam', metrics=['accuracy'])\n",
    "model2.summary()"
   ]
  },
  {
   "cell_type": "code",
   "execution_count": 21,
   "id": "c674346a",
   "metadata": {},
   "outputs": [],
   "source": [
    "# Train LSTM\n",
    "for epoch in range(500):\n",
    "\t# generate new random sequence\n",
    "\tX,y = get_pair(n_timesteps_in, n_timesteps_out, n_features)\n",
    "\t# fit model for one epoch on this sequence\n",
    "\tmodel2.fit(X, y, epochs=1, verbose=0)"
   ]
  },
  {
   "cell_type": "code",
   "execution_count": 23,
   "id": "7c10215a",
   "metadata": {},
   "outputs": [
    {
     "name": "stdout",
     "output_type": "stream",
     "text": [
      "Accuracy: 100.00%\n"
     ]
    }
   ],
   "source": [
    "# evaluate LSTM\n",
    "total, correct = 100, 0\n",
    "for _ in range(total):\n",
    "\tX,y = get_pair(n_timesteps_in, n_timesteps_out, n_features)\n",
    "\tyhat = model2.predict(X, verbose=0)\n",
    "\tif array_equal(one_hot_decode(y[0]), one_hot_decode(yhat[0])):\n",
    "\t\tcorrect += 1\n",
    "print('Accuracy: %.2f%%' % (float(correct)/float(total)*100.0))"
   ]
  },
  {
   "cell_type": "code",
   "execution_count": 25,
   "id": "e8af63de",
   "metadata": {},
   "outputs": [
    {
     "name": "stdout",
     "output_type": "stream",
     "text": [
      "Input [9, 4, 5, 5] Expected: [9, 4, 0, 0] Predicted [9, 4, 0, 0]\n",
      "Input [3, 5, 3, 9] Expected: [3, 5, 0, 0] Predicted [3, 5, 0, 0]\n",
      "Input [8, 7, 0, 1] Expected: [8, 7, 0, 0] Predicted [8, 7, 0, 0]\n",
      "Input [6, 0, 9, 1] Expected: [6, 0, 0, 0] Predicted [6, 0, 0, 0]\n",
      "Input [0, 7, 1, 1] Expected: [0, 7, 0, 0] Predicted [0, 7, 0, 0]\n",
      "Input [1, 1, 5, 9] Expected: [1, 1, 0, 0] Predicted [1, 1, 0, 0]\n",
      "Input [9, 9, 1, 5] Expected: [9, 9, 0, 0] Predicted [9, 9, 0, 0]\n",
      "Input [2, 9, 8, 0] Expected: [2, 9, 0, 0] Predicted [2, 9, 0, 0]\n",
      "Input [3, 0, 4, 0] Expected: [3, 0, 0, 0] Predicted [3, 0, 0, 0]\n",
      "Input [8, 1, 4, 8] Expected: [8, 1, 0, 0] Predicted [8, 1, 0, 0]\n"
     ]
    }
   ],
   "source": [
    "# Check some examples\n",
    "for _ in range(10):\n",
    "\tX,y = get_pair(n_timesteps_in, n_timesteps_out, n_features)\n",
    "\tyhat = model2.predict(X, verbose=0)\n",
    "\tprint('Input',one_hot_decode(X[0]),\n",
    "\t      'Expected:', one_hot_decode(y[0]), \n",
    "\t\t\t\t   'Predicted', one_hot_decode(yhat[0]))"
   ]
  },
  {
   "attachments": {},
   "cell_type": "markdown",
   "id": "f0d7be08",
   "metadata": {},
   "source": [
    "So, we get the first two elements correctly. We pass the input in one-hot-encoding format. \n"
   ]
  },
  {
   "attachments": {},
   "cell_type": "markdown",
   "id": "4021cb59",
   "metadata": {},
   "source": [
    "Two great references for LSTM:\n",
    "\n",
    "- https://colah.github.io/posts/2015-08-Understanding-LSTMs/\n",
    "- https://towardsdatascience.com/illustrated-guide-to-lstms-and-gru-s-a-step-by-step-explanation-44e9eb85bf21"
   ]
  },
  {
   "cell_type": "markdown",
   "id": "1dc64528",
   "metadata": {},
   "source": []
  }
 ],
 "metadata": {
  "kernelspec": {
   "display_name": "Python 3 (ipykernel)",
   "language": "python",
   "name": "python3"
  },
  "language_info": {
   "codemirror_mode": {
    "name": "ipython",
    "version": 3
   },
   "file_extension": ".py",
   "mimetype": "text/x-python",
   "name": "python",
   "nbconvert_exporter": "python",
   "pygments_lexer": "ipython3",
   "version": "3.10.9"
  }
 },
 "nbformat": 4,
 "nbformat_minor": 5
}
