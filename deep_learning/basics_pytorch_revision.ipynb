{
 "cells": [
  {
   "cell_type": "markdown",
   "id": "c8b50ad7",
   "metadata": {},
   "source": [
    "# Revision of PyTorch basics"
   ]
  },
  {
   "cell_type": "code",
   "execution_count": 2,
   "id": "059016a1",
   "metadata": {},
   "outputs": [],
   "source": [
    "import torch\n",
    "import numpy as np"
   ]
  },
  {
   "cell_type": "code",
   "execution_count": 11,
   "id": "ee70e8a4",
   "metadata": {},
   "outputs": [],
   "source": [
    "data = [[1, 2], [3, 4]]\n",
    "x_data = torch.tensor(data)\n",
    "x_data.shape\n",
    "tensor = x_data"
   ]
  },
  {
   "cell_type": "code",
   "execution_count": 12,
   "id": "8c29eacf",
   "metadata": {},
   "outputs": [
    {
     "name": "stdout",
     "output_type": "stream",
     "text": [
      "Shape of tensor: torch.Size([2, 2])\n",
      "Datatype of tensor: torch.int64\n",
      "Device tensor is stored on: cpu\n"
     ]
    }
   ],
   "source": [
    "print(f\"Shape of tensor: {tensor.shape}\")\n",
    "print(f\"Datatype of tensor: {tensor.dtype}\")\n",
    "print(f\"Device tensor is stored on: {tensor.device}\")"
   ]
  },
  {
   "cell_type": "markdown",
   "id": "83363e11",
   "metadata": {},
   "source": [
    "From a numpy array"
   ]
  },
  {
   "cell_type": "code",
   "execution_count": 13,
   "id": "40544441",
   "metadata": {},
   "outputs": [],
   "source": [
    "np_array = np.array(data)\n",
    "x_np = torch.from_numpy(np_array)"
   ]
  },
  {
   "cell_type": "code",
   "execution_count": 14,
   "id": "ed578b51",
   "metadata": {},
   "outputs": [
    {
     "name": "stdout",
     "output_type": "stream",
     "text": [
      "Random Tensor: \n",
      " tensor([[0.8064, 0.6294],\n",
      "        [0.7274, 0.5060]]) \n",
      "\n"
     ]
    }
   ],
   "source": [
    "x_rand = torch.rand_like(x_data, dtype=torch.float)\n",
    "print(f\"Random Tensor: \\n {x_rand} \\n\")"
   ]
  },
  {
   "cell_type": "code",
   "execution_count": 15,
   "id": "d439726b",
   "metadata": {},
   "outputs": [
    {
     "name": "stdout",
     "output_type": "stream",
     "text": [
      "Ones Tensor: \n",
      " tensor([[1, 1],\n",
      "        [1, 1]]) \n",
      "\n"
     ]
    }
   ],
   "source": [
    "x_ones = torch.ones_like(x_data) \n",
    "print(f\"Ones Tensor: \\n {x_ones} \\n\") # Same shape"
   ]
  },
  {
   "cell_type": "code",
   "execution_count": 16,
   "id": "195bba95",
   "metadata": {},
   "outputs": [],
   "source": [
    "shape = (2, 3,)\n",
    "rand_tensor = torch.rand(shape)\n",
    "ones_tensor = torch.ones(shape)\n",
    "zeros_tensor = torch.zeros(shape)"
   ]
  },
  {
   "cell_type": "code",
   "execution_count": 18,
   "id": "0742436e",
   "metadata": {},
   "outputs": [],
   "source": [
    "# We move our tensor to the GPU if available\n",
    "\n",
    "if torch.cuda.is_available():\n",
    "  tensor = tensor.to('cuda')\n",
    "  print(f\"Device tensor is stored on: {tensor.device}\")"
   ]
  },
  {
   "cell_type": "markdown",
   "id": "6e7f1529",
   "metadata": {},
   "source": [
    "# Indexing "
   ]
  },
  {
   "cell_type": "code",
   "execution_count": 27,
   "id": "53401def",
   "metadata": {},
   "outputs": [
    {
     "name": "stdout",
     "output_type": "stream",
     "text": [
      "tensor([[0.6647, 0.7188, 0.3548, 0.8124],\n",
      "        [0.2400, 0.3001, 0.4728, 0.2524],\n",
      "        [0.5713, 0.0936, 0.3176, 0.9246],\n",
      "        [0.1478, 0.0356, 0.3905, 0.8292]])\n"
     ]
    }
   ],
   "source": [
    "tensor = torch.rand(4, 4)\n",
    "#tensor[:,1] = 0 # Set column 1 to 0.\n",
    "print(tensor)"
   ]
  },
  {
   "cell_type": "code",
   "execution_count": 28,
   "id": "bf52d87b",
   "metadata": {},
   "outputs": [
    {
     "name": "stdout",
     "output_type": "stream",
     "text": [
      "tensor([[0.6647, 0.7188, 0.3548, 0.8124],\n",
      "        [0.2400, 0.3001, 0.4728, 0.2524],\n",
      "        [0.5713, 0.0936, 0.3176, 0.9246],\n",
      "        [0.1478, 0.0356, 0.3905, 0.8292]])\n"
     ]
    }
   ],
   "source": [
    "print (tensor[:])"
   ]
  },
  {
   "cell_type": "code",
   "execution_count": 29,
   "id": "8301df74",
   "metadata": {},
   "outputs": [
    {
     "name": "stdout",
     "output_type": "stream",
     "text": [
      "tensor([[0.2400, 0.3001, 0.4728, 0.2524],\n",
      "        [0.5713, 0.0936, 0.3176, 0.9246]])\n"
     ]
    }
   ],
   "source": [
    "print (tensor[1:3])"
   ]
  },
  {
   "cell_type": "code",
   "execution_count": 31,
   "id": "37830cb6",
   "metadata": {},
   "outputs": [
    {
     "name": "stdout",
     "output_type": "stream",
     "text": [
      "tensor([[0.6647, 0.7188, 0.3548, 0.8124],\n",
      "        [0.2400, 0.3001, 0.4728, 0.2524]])\n"
     ]
    }
   ],
   "source": [
    "print (tensor[:2])"
   ]
  },
  {
   "cell_type": "code",
   "execution_count": 32,
   "id": "a84cd785",
   "metadata": {},
   "outputs": [
    {
     "name": "stdout",
     "output_type": "stream",
     "text": [
      "tensor([[0.6647, 0.7188, 0.3548, 0.8124],\n",
      "        [0.2400, 0.3001, 0.4728, 0.2524],\n",
      "        [0.5713, 0.0936, 0.3176, 0.9246]])\n"
     ]
    }
   ],
   "source": [
    "print (tensor[:-1])"
   ]
  },
  {
   "cell_type": "code",
   "execution_count": 33,
   "id": "eb3d0545",
   "metadata": {},
   "outputs": [
    {
     "name": "stdout",
     "output_type": "stream",
     "text": [
      "tensor([[0.2400, 0.3001, 0.4728, 0.2524],\n",
      "        [0.1478, 0.0356, 0.3905, 0.8292]])\n"
     ]
    }
   ],
   "source": [
    "print (tensor[1:4:2]) # Only 1 and 3rd rows "
   ]
  },
  {
   "cell_type": "code",
   "execution_count": 34,
   "id": "0cfdc910",
   "metadata": {},
   "outputs": [
    {
     "name": "stdout",
     "output_type": "stream",
     "text": [
      "tensor([[0.2400, 0.3001],\n",
      "        [0.1478, 0.0356]])\n"
     ]
    }
   ],
   "source": [
    "print (tensor[1:4:2, :2]) # # Only 1 and 3rd rows and first two columns "
   ]
  },
  {
   "cell_type": "code",
   "execution_count": 37,
   "id": "03f32367",
   "metadata": {},
   "outputs": [
    {
     "name": "stdout",
     "output_type": "stream",
     "text": [
      "tensor([[0.6647, 0.7188, 0.3548, 0.8124, 0.6647, 0.7188, 0.3548, 0.8124],\n",
      "        [0.2400, 0.3001, 0.4728, 0.2524, 0.2400, 0.3001, 0.4728, 0.2524],\n",
      "        [0.5713, 0.0936, 0.3176, 0.9246, 0.5713, 0.0936, 0.3176, 0.9246],\n",
      "        [0.1478, 0.0356, 0.3905, 0.8292, 0.1478, 0.0356, 0.3905, 0.8292]])\n"
     ]
    }
   ],
   "source": [
    "t1 = torch.cat([tensor, tensor], dim=1)\n",
    "print (t1)"
   ]
  },
  {
   "cell_type": "code",
   "execution_count": 38,
   "id": "ac8f70d8",
   "metadata": {},
   "outputs": [
    {
     "name": "stdout",
     "output_type": "stream",
     "text": [
      "tensor.mul(tensor) \n",
      " tensor([[0.4418, 0.5167, 0.1259, 0.6600],\n",
      "        [0.0576, 0.0901, 0.2236, 0.0637],\n",
      "        [0.3264, 0.0088, 0.1009, 0.8548],\n",
      "        [0.0218, 0.0013, 0.1525, 0.6876]]) \n",
      "\n"
     ]
    }
   ],
   "source": [
    "print(f\"tensor.mul(tensor) \\n {tensor.mul(tensor)} \\n\")"
   ]
  },
  {
   "cell_type": "code",
   "execution_count": 39,
   "id": "a2687c0c",
   "metadata": {},
   "outputs": [
    {
     "name": "stdout",
     "output_type": "stream",
     "text": [
      "tensor([[0.4418, 0.5167, 0.1259, 0.6600],\n",
      "        [0.0576, 0.0901, 0.2236, 0.0637],\n",
      "        [0.3264, 0.0088, 0.1009, 0.8548],\n",
      "        [0.0218, 0.0013, 0.1525, 0.6876]])\n"
     ]
    }
   ],
   "source": [
    "print (tensor**2)"
   ]
  },
  {
   "cell_type": "code",
   "execution_count": 41,
   "id": "504878a2",
   "metadata": {},
   "outputs": [
    {
     "name": "stdout",
     "output_type": "stream",
     "text": [
      "tensor.matmul(tensor.T) \n",
      " tensor([[1.7444, 0.7481, 1.3108, 0.9361],\n",
      "        [0.7481, 0.4350, 0.5487, 0.4401],\n",
      "        [1.3108, 0.5487, 1.2908, 0.9785],\n",
      "        [0.9361, 0.4401, 0.9785, 0.8632]]) \n",
      "\n",
      "tensor @ tensor.T \n",
      " tensor([[1.7444, 0.7481, 1.3108, 0.9361],\n",
      "        [0.7481, 0.4350, 0.5487, 0.4401],\n",
      "        [1.3108, 0.5487, 1.2908, 0.9785],\n",
      "        [0.9361, 0.4401, 0.9785, 0.8632]])\n"
     ]
    }
   ],
   "source": [
    "print(f\"tensor.matmul(tensor.T) \\n {tensor.matmul(tensor.T)} \\n\")\n",
    "# Alternative syntax:\n",
    "print(f\"tensor @ tensor.T \\n {tensor @ tensor.T}\")"
   ]
  },
  {
   "cell_type": "code",
   "execution_count": 46,
   "id": "f85b6518",
   "metadata": {},
   "outputs": [
    {
     "name": "stdout",
     "output_type": "stream",
     "text": [
      "tensor([[1.6647, 1.7188, 1.3548, 1.8124],\n",
      "        [1.2400, 1.3001, 1.4728, 1.2524],\n",
      "        [1.5713, 1.0936, 1.3176, 1.9246],\n",
      "        [1.1478, 1.0356, 1.3905, 1.8292]])\n"
     ]
    }
   ],
   "source": [
    "tensor.add_(1)\n",
    "print(tensor)"
   ]
  },
  {
   "cell_type": "code",
   "execution_count": 47,
   "id": "24834375",
   "metadata": {},
   "outputs": [
    {
     "data": {
      "text/plain": [
       "tensor(7)"
      ]
     },
     "execution_count": 47,
     "metadata": {},
     "output_type": "execute_result"
    }
   ],
   "source": [
    "# Scalar\n",
    "scalar = torch.tensor(7)\n",
    "scalar"
   ]
  },
  {
   "cell_type": "code",
   "execution_count": 48,
   "id": "df2505eb",
   "metadata": {},
   "outputs": [
    {
     "data": {
      "text/plain": [
       "0"
      ]
     },
     "execution_count": 48,
     "metadata": {},
     "output_type": "execute_result"
    }
   ],
   "source": [
    "scalar.ndim"
   ]
  },
  {
   "cell_type": "code",
   "execution_count": 49,
   "id": "b4e1ddfc",
   "metadata": {},
   "outputs": [
    {
     "data": {
      "text/plain": [
       "7"
      ]
     },
     "execution_count": 49,
     "metadata": {},
     "output_type": "execute_result"
    }
   ],
   "source": [
    "scalar.item()"
   ]
  },
  {
   "cell_type": "code",
   "execution_count": 52,
   "id": "315e4830",
   "metadata": {},
   "outputs": [
    {
     "data": {
      "text/plain": [
       "(tensor(1.9246), tensor(1.0356), tensor(1.4454), tensor(23.1263))"
      ]
     },
     "execution_count": 52,
     "metadata": {},
     "output_type": "execute_result"
    }
   ],
   "source": [
    "torch.max(tensor), torch.min(tensor), torch.mean(tensor.type(torch.float32)), torch.sum(tensor)"
   ]
  },
  {
   "cell_type": "code",
   "execution_count": 53,
   "id": "7f97323d",
   "metadata": {},
   "outputs": [
    {
     "name": "stdout",
     "output_type": "stream",
     "text": [
      "Tensor: tensor([10, 20, 30, 40, 50, 60, 70, 80, 90])\n",
      "Index where max value occurs: 8\n",
      "Index where min value occurs: 0\n"
     ]
    }
   ],
   "source": [
    "# Create a tensor\n",
    "tensor = torch.arange(10, 100, 10)\n",
    "print(f\"Tensor: {tensor}\")\n",
    "\n",
    "# Returns index of max and min values\n",
    "print(f\"Index where max value occurs: {tensor.argmax()}\")\n",
    "print(f\"Index where min value occurs: {tensor.argmin()}\")"
   ]
  },
  {
   "cell_type": "code",
   "execution_count": 56,
   "id": "b55dd4aa",
   "metadata": {},
   "outputs": [
    {
     "data": {
      "text/plain": [
       "(tensor([[[1, 2, 3],\n",
       "          [4, 5, 6],\n",
       "          [7, 8, 9]]]),\n",
       " torch.Size([1, 3, 3]))"
      ]
     },
     "execution_count": 56,
     "metadata": {},
     "output_type": "execute_result"
    }
   ],
   "source": [
    "# Create a tensor by reshaping list \n",
    "\n",
    "x = torch.arange(1, 10).reshape(1, 3, 3)\n",
    "x, x.shape"
   ]
  },
  {
   "cell_type": "markdown",
   "id": "97570a7a",
   "metadata": {},
   "source": [
    "Check http://www.learnpytorch.io/00_pytorch_fundamentals/ for more related stuff "
   ]
  },
  {
   "cell_type": "code",
   "execution_count": null,
   "id": "e7d7eab6",
   "metadata": {},
   "outputs": [],
   "source": []
  }
 ],
 "metadata": {
  "kernelspec": {
   "display_name": "Python 3 (ipykernel)",
   "language": "python",
   "name": "python3"
  },
  "language_info": {
   "codemirror_mode": {
    "name": "ipython",
    "version": 3
   },
   "file_extension": ".py",
   "mimetype": "text/x-python",
   "name": "python",
   "nbconvert_exporter": "python",
   "pygments_lexer": "ipython3",
   "version": "3.9.13"
  }
 },
 "nbformat": 4,
 "nbformat_minor": 5
}
