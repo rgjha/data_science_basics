{
 "cells": [
  {
   "cell_type": "markdown",
   "id": "c8b50ad7",
   "metadata": {},
   "source": [
    "# Revision of PyTorch basics"
   ]
  },
  {
   "cell_type": "code",
   "execution_count": 1,
   "id": "d58a0bf2",
   "metadata": {},
   "outputs": [],
   "source": [
    "#!jt -l\n",
    "#!jt -t [theme name]"
   ]
  },
  {
   "cell_type": "code",
   "execution_count": 2,
   "id": "059016a1",
   "metadata": {},
   "outputs": [],
   "source": [
    "import torch\n",
    "import numpy as np\n",
    "import pandas as pd\n",
    "import matplotlib.pyplot as plt"
   ]
  },
  {
   "cell_type": "code",
   "execution_count": 3,
   "id": "27d74307",
   "metadata": {},
   "outputs": [
    {
     "name": "stdout",
     "output_type": "stream",
     "text": [
      "2.0.0\n"
     ]
    }
   ],
   "source": [
    "print (torch.__version__) \n",
    "# Version 2 was released yesterday. Also see https://github.com/rasbt/pytorch-fabric-demo\n",
    "# on how to speed up some computations. "
   ]
  },
  {
   "cell_type": "code",
   "execution_count": 4,
   "id": "ee70e8a4",
   "metadata": {},
   "outputs": [],
   "source": [
    "data = [[1, 2], [3, 4]]\n",
    "x_data = torch.tensor(data)\n",
    "x_data.shape\n",
    "tensor = x_data"
   ]
  },
  {
   "cell_type": "code",
   "execution_count": 5,
   "id": "8c29eacf",
   "metadata": {},
   "outputs": [
    {
     "name": "stdout",
     "output_type": "stream",
     "text": [
      "Shape of tensor: torch.Size([2, 2])\n",
      "Datatype of tensor: torch.int64\n",
      "Device tensor is stored on: cpu\n"
     ]
    }
   ],
   "source": [
    "print(f\"Shape of tensor: {tensor.shape}\")\n",
    "print(f\"Datatype of tensor: {tensor.dtype}\")\n",
    "print(f\"Device tensor is stored on: {tensor.device}\")"
   ]
  },
  {
   "cell_type": "markdown",
   "id": "83363e11",
   "metadata": {},
   "source": [
    "From a numpy array"
   ]
  },
  {
   "cell_type": "code",
   "execution_count": 6,
   "id": "40544441",
   "metadata": {},
   "outputs": [],
   "source": [
    "np_array = np.array(data)\n",
    "x_np = torch.from_numpy(np_array)"
   ]
  },
  {
   "cell_type": "code",
   "execution_count": 7,
   "id": "ed578b51",
   "metadata": {},
   "outputs": [
    {
     "name": "stdout",
     "output_type": "stream",
     "text": [
      "Random Tensor: \n",
      " tensor([[0.9483, 0.0286],\n",
      "        [0.0818, 0.8413]]) \n",
      "\n"
     ]
    }
   ],
   "source": [
    "x_rand = torch.rand_like(x_data, dtype=torch.float)\n",
    "print(f\"Random Tensor: \\n {x_rand} \\n\")"
   ]
  },
  {
   "cell_type": "code",
   "execution_count": 8,
   "id": "d439726b",
   "metadata": {},
   "outputs": [
    {
     "name": "stdout",
     "output_type": "stream",
     "text": [
      "Ones Tensor: \n",
      " tensor([[1, 1],\n",
      "        [1, 1]]) \n",
      "\n"
     ]
    }
   ],
   "source": [
    "x_ones = torch.ones_like(x_data) \n",
    "print(f\"Ones Tensor: \\n {x_ones} \\n\") # Same shape"
   ]
  },
  {
   "cell_type": "code",
   "execution_count": 9,
   "id": "195bba95",
   "metadata": {},
   "outputs": [],
   "source": [
    "shape = (2, 3,)\n",
    "rand_tensor = torch.rand(shape)\n",
    "ones_tensor = torch.ones(shape)\n",
    "zeros_tensor = torch.zeros(shape)"
   ]
  },
  {
   "cell_type": "code",
   "execution_count": 10,
   "id": "0742436e",
   "metadata": {},
   "outputs": [],
   "source": [
    "# We move our tensor to the GPU if available\n",
    "\n",
    "if torch.cuda.is_available():\n",
    "  tensor = tensor.to('cuda')\n",
    "  print(f\"Device tensor is stored on: {tensor.device}\")"
   ]
  },
  {
   "cell_type": "markdown",
   "id": "6e7f1529",
   "metadata": {},
   "source": [
    "# Indexing "
   ]
  },
  {
   "cell_type": "code",
   "execution_count": 11,
   "id": "53401def",
   "metadata": {},
   "outputs": [
    {
     "name": "stdout",
     "output_type": "stream",
     "text": [
      "tensor([[0.7880, 0.9490, 0.0621, 0.0455],\n",
      "        [0.3252, 0.4195, 0.1215, 0.2743],\n",
      "        [0.0587, 0.0120, 0.1959, 0.9949],\n",
      "        [0.7310, 0.8803, 0.9587, 0.4675]])\n"
     ]
    }
   ],
   "source": [
    "tensor = torch.rand(4, 4)\n",
    "#tensor[:,1] = 0 # Set column 1 to 0.\n",
    "print(tensor)"
   ]
  },
  {
   "cell_type": "code",
   "execution_count": 12,
   "id": "bf52d87b",
   "metadata": {},
   "outputs": [
    {
     "name": "stdout",
     "output_type": "stream",
     "text": [
      "tensor([[0.7880, 0.9490, 0.0621, 0.0455],\n",
      "        [0.3252, 0.4195, 0.1215, 0.2743],\n",
      "        [0.0587, 0.0120, 0.1959, 0.9949],\n",
      "        [0.7310, 0.8803, 0.9587, 0.4675]])\n"
     ]
    }
   ],
   "source": [
    "print (tensor[:])"
   ]
  },
  {
   "cell_type": "code",
   "execution_count": 13,
   "id": "8301df74",
   "metadata": {},
   "outputs": [
    {
     "name": "stdout",
     "output_type": "stream",
     "text": [
      "tensor([[0.3252, 0.4195, 0.1215, 0.2743],\n",
      "        [0.0587, 0.0120, 0.1959, 0.9949]])\n"
     ]
    }
   ],
   "source": [
    "print (tensor[1:3])"
   ]
  },
  {
   "cell_type": "code",
   "execution_count": 14,
   "id": "37830cb6",
   "metadata": {},
   "outputs": [
    {
     "name": "stdout",
     "output_type": "stream",
     "text": [
      "tensor([[0.7880, 0.9490, 0.0621, 0.0455],\n",
      "        [0.3252, 0.4195, 0.1215, 0.2743]])\n"
     ]
    }
   ],
   "source": [
    "print (tensor[:2])"
   ]
  },
  {
   "cell_type": "code",
   "execution_count": 15,
   "id": "a84cd785",
   "metadata": {},
   "outputs": [
    {
     "name": "stdout",
     "output_type": "stream",
     "text": [
      "tensor([[0.7880, 0.9490, 0.0621, 0.0455],\n",
      "        [0.3252, 0.4195, 0.1215, 0.2743],\n",
      "        [0.0587, 0.0120, 0.1959, 0.9949]])\n"
     ]
    }
   ],
   "source": [
    "print (tensor[:-1])"
   ]
  },
  {
   "cell_type": "code",
   "execution_count": 16,
   "id": "eb3d0545",
   "metadata": {},
   "outputs": [
    {
     "name": "stdout",
     "output_type": "stream",
     "text": [
      "tensor([[0.3252, 0.4195, 0.1215, 0.2743],\n",
      "        [0.7310, 0.8803, 0.9587, 0.4675]])\n"
     ]
    }
   ],
   "source": [
    "print (tensor[1:4:2]) # Only 1 and 3rd rows "
   ]
  },
  {
   "cell_type": "code",
   "execution_count": 17,
   "id": "0cfdc910",
   "metadata": {},
   "outputs": [
    {
     "name": "stdout",
     "output_type": "stream",
     "text": [
      "tensor([[0.3252, 0.4195],\n",
      "        [0.7310, 0.8803]])\n"
     ]
    }
   ],
   "source": [
    "print (tensor[1:4:2, :2]) # # Only 1 and 3rd rows and first two columns "
   ]
  },
  {
   "cell_type": "code",
   "execution_count": 18,
   "id": "03f32367",
   "metadata": {},
   "outputs": [
    {
     "name": "stdout",
     "output_type": "stream",
     "text": [
      "tensor([[0.7880, 0.9490, 0.0621, 0.0455, 0.7880, 0.9490, 0.0621, 0.0455],\n",
      "        [0.3252, 0.4195, 0.1215, 0.2743, 0.3252, 0.4195, 0.1215, 0.2743],\n",
      "        [0.0587, 0.0120, 0.1959, 0.9949, 0.0587, 0.0120, 0.1959, 0.9949],\n",
      "        [0.7310, 0.8803, 0.9587, 0.4675, 0.7310, 0.8803, 0.9587, 0.4675]])\n"
     ]
    }
   ],
   "source": [
    "t1 = torch.cat([tensor, tensor], dim=1)\n",
    "print (t1)"
   ]
  },
  {
   "cell_type": "code",
   "execution_count": 19,
   "id": "ac8f70d8",
   "metadata": {},
   "outputs": [
    {
     "name": "stdout",
     "output_type": "stream",
     "text": [
      "tensor.mul(tensor) \n",
      " tensor([[6.2100e-01, 9.0058e-01, 3.8571e-03, 2.0702e-03],\n",
      "        [1.0577e-01, 1.7596e-01, 1.4774e-02, 7.5252e-02],\n",
      "        [3.4401e-03, 1.4292e-04, 3.8377e-02, 9.8982e-01],\n",
      "        [5.3434e-01, 7.7499e-01, 9.1913e-01, 2.1860e-01]]) \n",
      "\n"
     ]
    }
   ],
   "source": [
    "print(f\"tensor.mul(tensor) \\n {tensor.mul(tensor)} \\n\")"
   ]
  },
  {
   "cell_type": "code",
   "execution_count": 20,
   "id": "a2687c0c",
   "metadata": {},
   "outputs": [
    {
     "name": "stdout",
     "output_type": "stream",
     "text": [
      "tensor([[6.2100e-01, 9.0058e-01, 3.8571e-03, 2.0702e-03],\n",
      "        [1.0577e-01, 1.7596e-01, 1.4774e-02, 7.5252e-02],\n",
      "        [3.4401e-03, 1.4292e-04, 3.8377e-02, 9.8982e-01],\n",
      "        [5.3434e-01, 7.7499e-01, 9.1913e-01, 2.1860e-01]])\n"
     ]
    }
   ],
   "source": [
    "print (tensor**2)"
   ]
  },
  {
   "cell_type": "code",
   "execution_count": 21,
   "id": "504878a2",
   "metadata": {},
   "outputs": [
    {
     "name": "stdout",
     "output_type": "stream",
     "text": [
      "tensor.matmul(tensor.T) \n",
      " tensor([[1.5275, 0.6744, 0.1150, 1.4923],\n",
      "        [0.6744, 0.3718, 0.3208, 0.8518],\n",
      "        [0.1150, 0.3208, 1.0318, 0.7064],\n",
      "        [1.4923, 0.8518, 0.7064, 2.4471]]) \n",
      "\n",
      "tensor @ tensor.T \n",
      " tensor([[1.5275, 0.6744, 0.1150, 1.4923],\n",
      "        [0.6744, 0.3718, 0.3208, 0.8518],\n",
      "        [0.1150, 0.3208, 1.0318, 0.7064],\n",
      "        [1.4923, 0.8518, 0.7064, 2.4471]])\n"
     ]
    }
   ],
   "source": [
    "print(f\"tensor.matmul(tensor.T) \\n {tensor.matmul(tensor.T)} \\n\")\n",
    "# Alternative syntax:\n",
    "print(f\"tensor @ tensor.T \\n {tensor @ tensor.T}\")"
   ]
  },
  {
   "cell_type": "code",
   "execution_count": 22,
   "id": "f85b6518",
   "metadata": {},
   "outputs": [
    {
     "name": "stdout",
     "output_type": "stream",
     "text": [
      "tensor([[1.7880, 1.9490, 1.0621, 1.0455],\n",
      "        [1.3252, 1.4195, 1.1215, 1.2743],\n",
      "        [1.0587, 1.0120, 1.1959, 1.9949],\n",
      "        [1.7310, 1.8803, 1.9587, 1.4675]])\n"
     ]
    }
   ],
   "source": [
    "tensor.add_(1)\n",
    "print(tensor)"
   ]
  },
  {
   "cell_type": "code",
   "execution_count": 23,
   "id": "24834375",
   "metadata": {},
   "outputs": [
    {
     "data": {
      "text/plain": [
       "tensor(7)"
      ]
     },
     "execution_count": 23,
     "metadata": {},
     "output_type": "execute_result"
    }
   ],
   "source": [
    "# Scalar\n",
    "scalar = torch.tensor(7)\n",
    "scalar"
   ]
  },
  {
   "cell_type": "code",
   "execution_count": 24,
   "id": "df2505eb",
   "metadata": {},
   "outputs": [
    {
     "data": {
      "text/plain": [
       "0"
      ]
     },
     "execution_count": 24,
     "metadata": {},
     "output_type": "execute_result"
    }
   ],
   "source": [
    "scalar.ndim"
   ]
  },
  {
   "cell_type": "code",
   "execution_count": 25,
   "id": "b4e1ddfc",
   "metadata": {},
   "outputs": [
    {
     "data": {
      "text/plain": [
       "7"
      ]
     },
     "execution_count": 25,
     "metadata": {},
     "output_type": "execute_result"
    }
   ],
   "source": [
    "scalar.item()"
   ]
  },
  {
   "cell_type": "code",
   "execution_count": 26,
   "id": "315e4830",
   "metadata": {},
   "outputs": [
    {
     "data": {
      "text/plain": [
       "(tensor(1.9949), tensor(1.0120), tensor(1.4553), tensor(23.2842))"
      ]
     },
     "execution_count": 26,
     "metadata": {},
     "output_type": "execute_result"
    }
   ],
   "source": [
    "torch.max(tensor), torch.min(tensor), torch.mean(tensor.type(torch.float32)), torch.sum(tensor)"
   ]
  },
  {
   "cell_type": "code",
   "execution_count": 27,
   "id": "7f97323d",
   "metadata": {},
   "outputs": [
    {
     "name": "stdout",
     "output_type": "stream",
     "text": [
      "Tensor: tensor([10, 20, 30, 40, 50, 60, 70, 80, 90])\n",
      "Index where max value occurs: 8\n",
      "Index where min value occurs: 0\n"
     ]
    }
   ],
   "source": [
    "# Create a tensor\n",
    "tensor = torch.arange(10, 100, 10)\n",
    "print(f\"Tensor: {tensor}\")\n",
    "\n",
    "# Returns index of max and min values\n",
    "print(f\"Index where max value occurs: {tensor.argmax()}\")\n",
    "print(f\"Index where min value occurs: {tensor.argmin()}\")"
   ]
  },
  {
   "cell_type": "code",
   "execution_count": 28,
   "id": "b55dd4aa",
   "metadata": {},
   "outputs": [
    {
     "data": {
      "text/plain": [
       "(tensor([[[1, 2, 3],\n",
       "          [4, 5, 6],\n",
       "          [7, 8, 9]]]),\n",
       " torch.Size([1, 3, 3]))"
      ]
     },
     "execution_count": 28,
     "metadata": {},
     "output_type": "execute_result"
    }
   ],
   "source": [
    "# Create a tensor by reshaping list \n",
    "\n",
    "x = torch.arange(1, 10).reshape(1, 3, 3)\n",
    "x, x.shape"
   ]
  },
  {
   "cell_type": "markdown",
   "id": "97570a7a",
   "metadata": {},
   "source": [
    "Check http://www.learnpytorch.io/00_pytorch_fundamentals/ for more related stuff "
   ]
  },
  {
   "cell_type": "code",
   "execution_count": 29,
   "id": "e7d7eab6",
   "metadata": {},
   "outputs": [
    {
     "name": "stdout",
     "output_type": "stream",
     "text": [
      "tensor([[1., 1., 1.],\n",
      "        [1., 1., 1.],\n",
      "        [1., 1., 1.]])\n",
      "tensor([[1., 0., 0.],\n",
      "        [0., 1., 0.],\n",
      "        [0., 0., 1.]])\n"
     ]
    }
   ],
   "source": [
    "tensor_of_ones = torch.ones(3, 3)\n",
    "identity_tensor = torch.eye(3)\n",
    "matrices_multiplied = torch.matmul(tensor_of_ones, identity_tensor)\n",
    "print(matrices_multiplied)\n",
    "element_multiplication = torch.mul(tensor_of_ones, identity_tensor)\n",
    "print(element_multiplication)"
   ]
  },
  {
   "cell_type": "code",
   "execution_count": 30,
   "id": "8eca2647",
   "metadata": {},
   "outputs": [
    {
     "name": "stdout",
     "output_type": "stream",
     "text": [
      "tensor([[0.7080, 0.2323, 0.6620],\n",
      "        [0.1443, 0.0488, 0.7738],\n",
      "        [0.9732, 0.3495, 0.2911]])\n"
     ]
    }
   ],
   "source": [
    "random_ten = torch.rand(3, 3)\n",
    "print (random_ten)"
   ]
  },
  {
   "cell_type": "code",
   "execution_count": 31,
   "id": "d81cb605",
   "metadata": {},
   "outputs": [
    {
     "name": "stdout",
     "output_type": "stream",
     "text": [
      "Gradient of x is: tensor(5.)\n",
      "Gradient of y is: tensor(5.)\n",
      "Gradient of z is: tensor(1.)\n"
     ]
    }
   ],
   "source": [
    "# Initialize x, y and z to values 4, -3 and 5\n",
    "x = torch.tensor(4., requires_grad=True)\n",
    "y = torch.tensor(-3., requires_grad=True)\n",
    "z = torch.tensor(5., requires_grad=True)\n",
    "\n",
    "# Set q to sum of x and y, set f to product of q with z\n",
    "q = x + y\n",
    "f = q * z\n",
    "\n",
    "# Compute the derivatives\n",
    "f.backward()\n",
    "\n",
    "# Print the gradients\n",
    "print(\"Gradient of x is: \" + str(x.grad))\n",
    "print(\"Gradient of y is: \" + str(y.grad))\n",
    "print(\"Gradient of z is: \" + str(z.grad))"
   ]
  },
  {
   "cell_type": "code",
   "execution_count": 32,
   "id": "fdc20fa7",
   "metadata": {},
   "outputs": [],
   "source": [
    "# Multiply tensors x and y\n",
    "x = torch.rand(100, 100)\n",
    "y = torch.rand(100, 100)\n",
    "q = torch.matmul(x, y)\n",
    "\n",
    "# Elementwise multiply tensors z with q\n",
    "f = z * q\n",
    "\n",
    "mean_f = torch.mean(f)\n",
    "\n",
    "# Calculate the gradient\n",
    "mean_f.backward()"
   ]
  },
  {
   "cell_type": "code",
   "execution_count": 33,
   "id": "7c4fb8dd",
   "metadata": {},
   "outputs": [
    {
     "name": "stdout",
     "output_type": "stream",
     "text": [
      "tensor([[19722.3086, 20590.9883, 20290.3203, 19154.3086, 20124.9375, 19716.2461,\n",
      "         20408.6484, 21740.9844, 19879.5684, 20918.3730]])\n"
     ]
    }
   ],
   "source": [
    "# Initialize the weights of the neural network\n",
    "input_layer = torch.rand(1, 784)\n",
    "weight_1 = torch.rand(784, 200)\n",
    "weight_2 = torch.rand(200, 10)\n",
    "\n",
    "# Multiply input_layer with weight_1\n",
    "hidden_1 = torch.matmul(input_layer, weight_1)\n",
    "\n",
    "# Multiply hidden_1 with weight_2\n",
    "output_layer = torch.matmul(hidden_1, weight_2)\n",
    "print(output_layer)"
   ]
  },
  {
   "cell_type": "code",
   "execution_count": 34,
   "id": "3cfd2b76",
   "metadata": {},
   "outputs": [
    {
     "ename": "NameError",
     "evalue": "name 'nn' is not defined",
     "output_type": "error",
     "traceback": [
      "\u001b[0;31m---------------------------------------------------------------------------\u001b[0m",
      "\u001b[0;31mNameError\u001b[0m                                 Traceback (most recent call last)",
      "Cell \u001b[0;32mIn[34], line 1\u001b[0m\n\u001b[0;32m----> 1\u001b[0m \u001b[39mclass\u001b[39;00m \u001b[39mNet\u001b[39;00m(nn\u001b[39m.\u001b[39mModule):\n\u001b[1;32m      2\u001b[0m     \u001b[39mdef\u001b[39;00m \u001b[39m__init__\u001b[39m(\u001b[39mself\u001b[39m):\n\u001b[1;32m      3\u001b[0m         \u001b[39msuper\u001b[39m(Net, \u001b[39mself\u001b[39m)\u001b[39m.\u001b[39m\u001b[39m__init__\u001b[39m()\n",
      "\u001b[0;31mNameError\u001b[0m: name 'nn' is not defined"
     ]
    }
   ],
   "source": [
    "class Net(nn.Module):\n",
    "    def __init__(self):\n",
    "        super(Net, self).__init__()\n",
    "        \n",
    "        # Instantiate all 2 linear layers  \n",
    "        self.fc1 = nn.Linear(784, 200)\n",
    "        self.fc2 = nn.Linear(200, 10)\n",
    "\n",
    "    def forward(self, x):\n",
    "        # Use the instantiated layers and return x\n",
    "        x = self.fc1(x)\n",
    "        x = self.fc2(x)\n",
    "        return x"
   ]
  },
  {
   "cell_type": "code",
   "execution_count": null,
   "id": "248b2efa",
   "metadata": {},
   "outputs": [
    {
     "name": "stdout",
     "output_type": "stream",
     "text": [
      "x: tensor(3., requires_grad=True)\n",
      "y: tensor(4., requires_grad=True)\n",
      "z: tensor(81., grad_fn=<PowBackward1>)\n",
      "x.grad : tensor(108.)\n",
      "y.grad : tensor(88.9876)\n"
     ]
    }
   ],
   "source": [
    "# import torch library\n",
    "import torch\n",
    "\n",
    "# create tensors with requires_grad = true\n",
    "x = torch.tensor(3.0, requires_grad = True)\n",
    "y = torch.tensor(4.0, requires_grad = True)\n",
    "\n",
    "# print the tensors\n",
    "print(\"x:\", x)\n",
    "print(\"y:\", y)\n",
    "\n",
    "# define a function z of above created tensors\n",
    "z = x**y\n",
    "print(\"z:\", z)\n",
    "\n",
    "# call backward function for z to compute the gradients\n",
    "z.backward()\n",
    "\n",
    "# Access and print the gradients w.r.t x, and y\n",
    "dx = x.grad\n",
    "dy = y.grad\n",
    "print(\"x.grad :\", dx)\n",
    "print(\"y.grad :\", dy)"
   ]
  },
  {
   "cell_type": "code",
   "execution_count": null,
   "id": "9737dd4d",
   "metadata": {},
   "outputs": [],
   "source": []
  },
  {
   "cell_type": "markdown",
   "id": "8f752482",
   "metadata": {},
   "source": [
    "We will now compute some simple derivatives. Let's assume \n",
    "\n",
    "$a = 1 \\qquad b = 2 \\qquad  c = a^2 b  \\qquad  d = \\Big(a + \\frac{\\partial c}{\\partial a}\\Big) b$\n",
    "\n",
    "and we want $\\frac{\\partial d}{\\partial a}$ which for b=2 is 10. "
   ]
  },
  {
   "cell_type": "code",
   "execution_count": null,
   "id": "e885d567",
   "metadata": {},
   "outputs": [
    {
     "name": "stdout",
     "output_type": "stream",
     "text": [
      "c: 2.0, dc_da: 4.0, d: 10.0, dd_da: 10.0\n"
     ]
    }
   ],
   "source": [
    "import torch\n",
    "\n",
    "a = torch.tensor(1., requires_grad=True)\n",
    "b = torch.tensor(2.)\n",
    "c = a * a * b\n",
    "dc_da = torch.autograd.grad(c, a, create_graph=True)[0]\n",
    "#dc_da = torch.autograd.grad(c, a)[0]\n",
    "\n",
    "d = (a + dc_da) * b\n",
    "dd_da = torch.autograd.grad(d, a)[0]\n",
    "\n",
    "print('c: {}, dc_da: {}, d: {}, dd_da: {}'.format(c, dc_da, d, dd_da))"
   ]
  },
  {
   "cell_type": "code",
   "execution_count": null,
   "id": "6f5c83aa",
   "metadata": {},
   "outputs": [],
   "source": []
  }
 ],
 "metadata": {
  "kernelspec": {
   "display_name": "Python 3 (ipykernel)",
   "language": "python",
   "name": "python3"
  },
  "language_info": {
   "codemirror_mode": {
    "name": "ipython",
    "version": 3
   },
   "file_extension": ".py",
   "mimetype": "text/x-python",
   "name": "python",
   "nbconvert_exporter": "python",
   "pygments_lexer": "ipython3",
   "version": "3.10.9"
  }
 },
 "nbformat": 4,
 "nbformat_minor": 5
}
