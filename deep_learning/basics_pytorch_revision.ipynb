{
 "cells": [
  {
   "cell_type": "markdown",
   "id": "c8b50ad7",
   "metadata": {},
   "source": [
    "# Revision of PyTorch basics"
   ]
  },
  {
   "cell_type": "code",
   "execution_count": 1,
   "id": "d58a0bf2",
   "metadata": {},
   "outputs": [
    {
     "name": "stdout",
     "output_type": "stream",
     "text": [
      "Available Themes: \r\n",
      "   chesterish\r\n",
      "   grade3\r\n",
      "   gruvboxd\r\n",
      "   gruvboxl\r\n",
      "   monokai\r\n",
      "   oceans16\r\n",
      "   onedork\r\n",
      "   solarizedd\r\n",
      "   solarizedl\r\n"
     ]
    }
   ],
   "source": [
    "#!jt -l\n",
    "#!jt -t [theme name]"
   ]
  },
  {
   "cell_type": "code",
   "execution_count": 2,
   "id": "059016a1",
   "metadata": {},
   "outputs": [],
   "source": [
    "import torch\n",
    "import numpy as np"
   ]
  },
  {
   "cell_type": "code",
   "execution_count": 44,
   "id": "27d74307",
   "metadata": {},
   "outputs": [
    {
     "name": "stdout",
     "output_type": "stream",
     "text": [
      "2.1.0.dev20230316\n"
     ]
    }
   ],
   "source": [
    "print (torch.__version__) \n",
    "# Version 2 was released yesterday. Also see https://github.com/rasbt/pytorch-fabric-demo\n",
    "# on how to speed up some computations. "
   ]
  },
  {
   "cell_type": "code",
   "execution_count": 3,
   "id": "ee70e8a4",
   "metadata": {},
   "outputs": [],
   "source": [
    "data = [[1, 2], [3, 4]]\n",
    "x_data = torch.tensor(data)\n",
    "x_data.shape\n",
    "tensor = x_data"
   ]
  },
  {
   "cell_type": "code",
   "execution_count": 4,
   "id": "8c29eacf",
   "metadata": {},
   "outputs": [
    {
     "name": "stdout",
     "output_type": "stream",
     "text": [
      "Shape of tensor: torch.Size([2, 2])\n",
      "Datatype of tensor: torch.int64\n",
      "Device tensor is stored on: cpu\n"
     ]
    }
   ],
   "source": [
    "print(f\"Shape of tensor: {tensor.shape}\")\n",
    "print(f\"Datatype of tensor: {tensor.dtype}\")\n",
    "print(f\"Device tensor is stored on: {tensor.device}\")"
   ]
  },
  {
   "cell_type": "markdown",
   "id": "83363e11",
   "metadata": {},
   "source": [
    "From a numpy array"
   ]
  },
  {
   "cell_type": "code",
   "execution_count": 5,
   "id": "40544441",
   "metadata": {},
   "outputs": [],
   "source": [
    "np_array = np.array(data)\n",
    "x_np = torch.from_numpy(np_array)"
   ]
  },
  {
   "cell_type": "code",
   "execution_count": 6,
   "id": "ed578b51",
   "metadata": {},
   "outputs": [
    {
     "name": "stdout",
     "output_type": "stream",
     "text": [
      "Random Tensor: \n",
      " tensor([[0.2779, 0.3346],\n",
      "        [0.1300, 0.4353]]) \n",
      "\n"
     ]
    }
   ],
   "source": [
    "x_rand = torch.rand_like(x_data, dtype=torch.float)\n",
    "print(f\"Random Tensor: \\n {x_rand} \\n\")"
   ]
  },
  {
   "cell_type": "code",
   "execution_count": 7,
   "id": "d439726b",
   "metadata": {},
   "outputs": [
    {
     "name": "stdout",
     "output_type": "stream",
     "text": [
      "Ones Tensor: \n",
      " tensor([[1, 1],\n",
      "        [1, 1]]) \n",
      "\n"
     ]
    }
   ],
   "source": [
    "x_ones = torch.ones_like(x_data) \n",
    "print(f\"Ones Tensor: \\n {x_ones} \\n\") # Same shape"
   ]
  },
  {
   "cell_type": "code",
   "execution_count": 8,
   "id": "195bba95",
   "metadata": {},
   "outputs": [],
   "source": [
    "shape = (2, 3,)\n",
    "rand_tensor = torch.rand(shape)\n",
    "ones_tensor = torch.ones(shape)\n",
    "zeros_tensor = torch.zeros(shape)"
   ]
  },
  {
   "cell_type": "code",
   "execution_count": 9,
   "id": "0742436e",
   "metadata": {},
   "outputs": [],
   "source": [
    "# We move our tensor to the GPU if available\n",
    "\n",
    "if torch.cuda.is_available():\n",
    "  tensor = tensor.to('cuda')\n",
    "  print(f\"Device tensor is stored on: {tensor.device}\")"
   ]
  },
  {
   "cell_type": "markdown",
   "id": "6e7f1529",
   "metadata": {},
   "source": [
    "# Indexing "
   ]
  },
  {
   "cell_type": "code",
   "execution_count": 10,
   "id": "53401def",
   "metadata": {},
   "outputs": [
    {
     "name": "stdout",
     "output_type": "stream",
     "text": [
      "tensor([[0.0297, 0.3921, 0.7091, 0.3205],\n",
      "        [0.5766, 0.2417, 0.6700, 0.4375],\n",
      "        [0.5547, 0.3944, 0.9381, 0.0025],\n",
      "        [0.5324, 0.7091, 0.6851, 0.6813]])\n"
     ]
    }
   ],
   "source": [
    "tensor = torch.rand(4, 4)\n",
    "#tensor[:,1] = 0 # Set column 1 to 0.\n",
    "print(tensor)"
   ]
  },
  {
   "cell_type": "code",
   "execution_count": 11,
   "id": "bf52d87b",
   "metadata": {},
   "outputs": [
    {
     "name": "stdout",
     "output_type": "stream",
     "text": [
      "tensor([[0.0297, 0.3921, 0.7091, 0.3205],\n",
      "        [0.5766, 0.2417, 0.6700, 0.4375],\n",
      "        [0.5547, 0.3944, 0.9381, 0.0025],\n",
      "        [0.5324, 0.7091, 0.6851, 0.6813]])\n"
     ]
    }
   ],
   "source": [
    "print (tensor[:])"
   ]
  },
  {
   "cell_type": "code",
   "execution_count": 12,
   "id": "8301df74",
   "metadata": {},
   "outputs": [
    {
     "name": "stdout",
     "output_type": "stream",
     "text": [
      "tensor([[0.5766, 0.2417, 0.6700, 0.4375],\n",
      "        [0.5547, 0.3944, 0.9381, 0.0025]])\n"
     ]
    }
   ],
   "source": [
    "print (tensor[1:3])"
   ]
  },
  {
   "cell_type": "code",
   "execution_count": 13,
   "id": "37830cb6",
   "metadata": {},
   "outputs": [
    {
     "name": "stdout",
     "output_type": "stream",
     "text": [
      "tensor([[0.0297, 0.3921, 0.7091, 0.3205],\n",
      "        [0.5766, 0.2417, 0.6700, 0.4375]])\n"
     ]
    }
   ],
   "source": [
    "print (tensor[:2])"
   ]
  },
  {
   "cell_type": "code",
   "execution_count": 14,
   "id": "a84cd785",
   "metadata": {},
   "outputs": [
    {
     "name": "stdout",
     "output_type": "stream",
     "text": [
      "tensor([[0.0297, 0.3921, 0.7091, 0.3205],\n",
      "        [0.5766, 0.2417, 0.6700, 0.4375],\n",
      "        [0.5547, 0.3944, 0.9381, 0.0025]])\n"
     ]
    }
   ],
   "source": [
    "print (tensor[:-1])"
   ]
  },
  {
   "cell_type": "code",
   "execution_count": 15,
   "id": "eb3d0545",
   "metadata": {},
   "outputs": [
    {
     "name": "stdout",
     "output_type": "stream",
     "text": [
      "tensor([[0.5766, 0.2417, 0.6700, 0.4375],\n",
      "        [0.5324, 0.7091, 0.6851, 0.6813]])\n"
     ]
    }
   ],
   "source": [
    "print (tensor[1:4:2]) # Only 1 and 3rd rows "
   ]
  },
  {
   "cell_type": "code",
   "execution_count": 16,
   "id": "0cfdc910",
   "metadata": {},
   "outputs": [
    {
     "name": "stdout",
     "output_type": "stream",
     "text": [
      "tensor([[0.5766, 0.2417],\n",
      "        [0.5324, 0.7091]])\n"
     ]
    }
   ],
   "source": [
    "print (tensor[1:4:2, :2]) # # Only 1 and 3rd rows and first two columns "
   ]
  },
  {
   "cell_type": "code",
   "execution_count": 17,
   "id": "03f32367",
   "metadata": {},
   "outputs": [
    {
     "name": "stdout",
     "output_type": "stream",
     "text": [
      "tensor([[0.0297, 0.3921, 0.7091, 0.3205, 0.0297, 0.3921, 0.7091, 0.3205],\n",
      "        [0.5766, 0.2417, 0.6700, 0.4375, 0.5766, 0.2417, 0.6700, 0.4375],\n",
      "        [0.5547, 0.3944, 0.9381, 0.0025, 0.5547, 0.3944, 0.9381, 0.0025],\n",
      "        [0.5324, 0.7091, 0.6851, 0.6813, 0.5324, 0.7091, 0.6851, 0.6813]])\n"
     ]
    }
   ],
   "source": [
    "t1 = torch.cat([tensor, tensor], dim=1)\n",
    "print (t1)"
   ]
  },
  {
   "cell_type": "code",
   "execution_count": 18,
   "id": "ac8f70d8",
   "metadata": {},
   "outputs": [
    {
     "name": "stdout",
     "output_type": "stream",
     "text": [
      "tensor.mul(tensor) \n",
      " tensor([[8.8288e-04, 1.5376e-01, 5.0285e-01, 1.0274e-01],\n",
      "        [3.3249e-01, 5.8426e-02, 4.4883e-01, 1.9139e-01],\n",
      "        [3.0771e-01, 1.5556e-01, 8.8001e-01, 6.2521e-06],\n",
      "        [2.8350e-01, 5.0287e-01, 4.6938e-01, 4.6418e-01]]) \n",
      "\n"
     ]
    }
   ],
   "source": [
    "print(f\"tensor.mul(tensor) \\n {tensor.mul(tensor)} \\n\")"
   ]
  },
  {
   "cell_type": "code",
   "execution_count": 19,
   "id": "a2687c0c",
   "metadata": {},
   "outputs": [
    {
     "name": "stdout",
     "output_type": "stream",
     "text": [
      "tensor([[8.8288e-04, 1.5376e-01, 5.0285e-01, 1.0274e-01],\n",
      "        [3.3249e-01, 5.8426e-02, 4.4883e-01, 1.9139e-01],\n",
      "        [3.0771e-01, 1.5556e-01, 8.8001e-01, 6.2521e-06],\n",
      "        [2.8350e-01, 5.0287e-01, 4.6938e-01, 4.6418e-01]])\n"
     ]
    }
   ],
   "source": [
    "print (tensor**2)"
   ]
  },
  {
   "cell_type": "code",
   "execution_count": 20,
   "id": "504878a2",
   "metadata": {},
   "outputs": [
    {
     "name": "stdout",
     "output_type": "stream",
     "text": [
      "tensor.matmul(tensor.T) \n",
      " tensor([[0.7602, 0.7272, 0.8372, 0.9981],\n",
      "        [0.7272, 1.0311, 1.0448, 1.2355],\n",
      "        [0.8372, 1.0448, 1.3433, 1.2195],\n",
      "        [0.9981, 1.2355, 1.2195, 1.7199]]) \n",
      "\n",
      "tensor @ tensor.T \n",
      " tensor([[0.7602, 0.7272, 0.8372, 0.9981],\n",
      "        [0.7272, 1.0311, 1.0448, 1.2355],\n",
      "        [0.8372, 1.0448, 1.3433, 1.2195],\n",
      "        [0.9981, 1.2355, 1.2195, 1.7199]])\n"
     ]
    }
   ],
   "source": [
    "print(f\"tensor.matmul(tensor.T) \\n {tensor.matmul(tensor.T)} \\n\")\n",
    "# Alternative syntax:\n",
    "print(f\"tensor @ tensor.T \\n {tensor @ tensor.T}\")"
   ]
  },
  {
   "cell_type": "code",
   "execution_count": 21,
   "id": "f85b6518",
   "metadata": {},
   "outputs": [
    {
     "name": "stdout",
     "output_type": "stream",
     "text": [
      "tensor([[1.0297, 1.3921, 1.7091, 1.3205],\n",
      "        [1.5766, 1.2417, 1.6700, 1.4375],\n",
      "        [1.5547, 1.3944, 1.9381, 1.0025],\n",
      "        [1.5324, 1.7091, 1.6851, 1.6813]])\n"
     ]
    }
   ],
   "source": [
    "tensor.add_(1)\n",
    "print(tensor)"
   ]
  },
  {
   "cell_type": "code",
   "execution_count": 22,
   "id": "24834375",
   "metadata": {},
   "outputs": [
    {
     "data": {
      "text/plain": [
       "tensor(7)"
      ]
     },
     "execution_count": 22,
     "metadata": {},
     "output_type": "execute_result"
    }
   ],
   "source": [
    "# Scalar\n",
    "scalar = torch.tensor(7)\n",
    "scalar"
   ]
  },
  {
   "cell_type": "code",
   "execution_count": 23,
   "id": "df2505eb",
   "metadata": {},
   "outputs": [
    {
     "data": {
      "text/plain": [
       "0"
      ]
     },
     "execution_count": 23,
     "metadata": {},
     "output_type": "execute_result"
    }
   ],
   "source": [
    "scalar.ndim"
   ]
  },
  {
   "cell_type": "code",
   "execution_count": 24,
   "id": "b4e1ddfc",
   "metadata": {},
   "outputs": [
    {
     "data": {
      "text/plain": [
       "7"
      ]
     },
     "execution_count": 24,
     "metadata": {},
     "output_type": "execute_result"
    }
   ],
   "source": [
    "scalar.item()"
   ]
  },
  {
   "cell_type": "code",
   "execution_count": 25,
   "id": "315e4830",
   "metadata": {},
   "outputs": [
    {
     "data": {
      "text/plain": [
       "(tensor(1.9381), tensor(1.0025), tensor(1.4922), tensor(23.8750))"
      ]
     },
     "execution_count": 25,
     "metadata": {},
     "output_type": "execute_result"
    }
   ],
   "source": [
    "torch.max(tensor), torch.min(tensor), torch.mean(tensor.type(torch.float32)), torch.sum(tensor)"
   ]
  },
  {
   "cell_type": "code",
   "execution_count": 26,
   "id": "7f97323d",
   "metadata": {},
   "outputs": [
    {
     "name": "stdout",
     "output_type": "stream",
     "text": [
      "Tensor: tensor([10, 20, 30, 40, 50, 60, 70, 80, 90])\n",
      "Index where max value occurs: 8\n",
      "Index where min value occurs: 0\n"
     ]
    }
   ],
   "source": [
    "# Create a tensor\n",
    "tensor = torch.arange(10, 100, 10)\n",
    "print(f\"Tensor: {tensor}\")\n",
    "\n",
    "# Returns index of max and min values\n",
    "print(f\"Index where max value occurs: {tensor.argmax()}\")\n",
    "print(f\"Index where min value occurs: {tensor.argmin()}\")"
   ]
  },
  {
   "cell_type": "code",
   "execution_count": 27,
   "id": "b55dd4aa",
   "metadata": {},
   "outputs": [
    {
     "data": {
      "text/plain": [
       "(tensor([[[1, 2, 3],\n",
       "          [4, 5, 6],\n",
       "          [7, 8, 9]]]),\n",
       " torch.Size([1, 3, 3]))"
      ]
     },
     "execution_count": 27,
     "metadata": {},
     "output_type": "execute_result"
    }
   ],
   "source": [
    "# Create a tensor by reshaping list \n",
    "\n",
    "x = torch.arange(1, 10).reshape(1, 3, 3)\n",
    "x, x.shape"
   ]
  },
  {
   "cell_type": "markdown",
   "id": "97570a7a",
   "metadata": {},
   "source": [
    "Check http://www.learnpytorch.io/00_pytorch_fundamentals/ for more related stuff "
   ]
  },
  {
   "cell_type": "code",
   "execution_count": 28,
   "id": "e7d7eab6",
   "metadata": {},
   "outputs": [
    {
     "name": "stdout",
     "output_type": "stream",
     "text": [
      "tensor([[1., 1., 1.],\n",
      "        [1., 1., 1.],\n",
      "        [1., 1., 1.]])\n",
      "tensor([[1., 0., 0.],\n",
      "        [0., 1., 0.],\n",
      "        [0., 0., 1.]])\n"
     ]
    }
   ],
   "source": [
    "tensor_of_ones = torch.ones(3, 3)\n",
    "identity_tensor = torch.eye(3)\n",
    "matrices_multiplied = torch.matmul(tensor_of_ones, identity_tensor)\n",
    "print(matrices_multiplied)\n",
    "element_multiplication = torch.mul(tensor_of_ones, identity_tensor)\n",
    "print(element_multiplication)"
   ]
  },
  {
   "cell_type": "code",
   "execution_count": 29,
   "id": "8eca2647",
   "metadata": {},
   "outputs": [
    {
     "name": "stdout",
     "output_type": "stream",
     "text": [
      "tensor([[0.7540, 0.6371, 0.7954],\n",
      "        [0.4313, 0.6242, 0.1619],\n",
      "        [0.7664, 0.0843, 0.4115]])\n"
     ]
    }
   ],
   "source": [
    "random_ten = torch.rand(3, 3)\n",
    "print (random_ten)"
   ]
  },
  {
   "cell_type": "code",
   "execution_count": 30,
   "id": "d81cb605",
   "metadata": {},
   "outputs": [
    {
     "name": "stdout",
     "output_type": "stream",
     "text": [
      "Gradient of x is: tensor(5.)\n",
      "Gradient of y is: tensor(5.)\n",
      "Gradient of z is: tensor(1.)\n"
     ]
    }
   ],
   "source": [
    "# Initialize x, y and z to values 4, -3 and 5\n",
    "x = torch.tensor(4., requires_grad=True)\n",
    "y = torch.tensor(-3., requires_grad=True)\n",
    "z = torch.tensor(5., requires_grad=True)\n",
    "\n",
    "# Set q to sum of x and y, set f to product of q with z\n",
    "q = x + y\n",
    "f = q * z\n",
    "\n",
    "# Compute the derivatives\n",
    "f.backward()\n",
    "\n",
    "# Print the gradients\n",
    "print(\"Gradient of x is: \" + str(x.grad))\n",
    "print(\"Gradient of y is: \" + str(y.grad))\n",
    "print(\"Gradient of z is: \" + str(z.grad))"
   ]
  },
  {
   "cell_type": "code",
   "execution_count": 36,
   "id": "fdc20fa7",
   "metadata": {},
   "outputs": [
    {
     "name": "stdout",
     "output_type": "stream",
     "text": [
      "None\n"
     ]
    }
   ],
   "source": [
    "# Multiply tensors x and y\n",
    "x = torch.rand(100, 100)\n",
    "y = torch.rand(100, 100)\n",
    "q = torch.matmul(x, y)\n",
    "\n",
    "# Elementwise multiply tensors z with q\n",
    "f = z * q\n",
    "\n",
    "mean_f = torch.mean(f)\n",
    "\n",
    "# Calculate the gradient\n",
    "mean_f.backward()"
   ]
  },
  {
   "cell_type": "code",
   "execution_count": 41,
   "id": "7c4fb8dd",
   "metadata": {},
   "outputs": [
    {
     "name": "stdout",
     "output_type": "stream",
     "text": [
      "tensor([[19897.5352, 18113.7676, 19080.8125, 18622.8320, 19020.5586, 20282.0195,\n",
      "         20888.8027, 19176.2344, 19186.8438, 21343.5449]])\n"
     ]
    }
   ],
   "source": [
    "# Initialize the weights of the neural network\n",
    "input_layer = torch.rand(1, 784)\n",
    "weight_1 = torch.rand(784, 200)\n",
    "weight_2 = torch.rand(200, 10)\n",
    "\n",
    "# Multiply input_layer with weight_1\n",
    "hidden_1 = torch.matmul(input_layer, weight_1)\n",
    "\n",
    "# Multiply hidden_1 with weight_2\n",
    "output_layer = torch.matmul(hidden_1, weight_2)\n",
    "print(output_layer)"
   ]
  },
  {
   "cell_type": "code",
   "execution_count": null,
   "id": "3cfd2b76",
   "metadata": {},
   "outputs": [],
   "source": [
    "class Net(nn.Module):\n",
    "    def __init__(self):\n",
    "        super(Net, self).__init__()\n",
    "        \n",
    "        # Instantiate all 2 linear layers  \n",
    "        self.fc1 = nn.Linear(784, 200)\n",
    "        self.fc2 = nn.Linear(200, 10)\n",
    "\n",
    "    def forward(self, x):\n",
    "        # Use the instantiated layers and return x\n",
    "        x = self.fc1(x)\n",
    "        x = self.fc2(x)\n",
    "        return x"
   ]
  },
  {
   "cell_type": "code",
   "execution_count": 45,
   "id": "248b2efa",
   "metadata": {},
   "outputs": [
    {
     "name": "stdout",
     "output_type": "stream",
     "text": [
      "x: tensor(3., requires_grad=True)\n",
      "y: tensor(4., requires_grad=True)\n",
      "z: tensor(81., grad_fn=<PowBackward1>)\n",
      "x.grad : tensor(108.)\n",
      "y.grad : tensor(88.9876)\n"
     ]
    }
   ],
   "source": [
    "# import torch library\n",
    "import torch\n",
    "\n",
    "# create tensors with requires_grad = true\n",
    "x = torch.tensor(3.0, requires_grad = True)\n",
    "y = torch.tensor(4.0, requires_grad = True)\n",
    "\n",
    "# print the tensors\n",
    "print(\"x:\", x)\n",
    "print(\"y:\", y)\n",
    "\n",
    "# define a function z of above created tensors\n",
    "z = x**y\n",
    "print(\"z:\", z)\n",
    "\n",
    "# call backward function for z to compute the gradients\n",
    "z.backward()\n",
    "\n",
    "# Access and print the gradients w.r.t x, and y\n",
    "dx = x.grad\n",
    "dy = y.grad\n",
    "print(\"x.grad :\", dx)\n",
    "print(\"y.grad :\", dy)"
   ]
  },
  {
   "cell_type": "code",
   "execution_count": null,
   "id": "9737dd4d",
   "metadata": {},
   "outputs": [],
   "source": []
  },
  {
   "cell_type": "markdown",
   "id": "8f752482",
   "metadata": {},
   "source": [
    "We will now compute some simple derivatives. Let's assume \n",
    "\n",
    "$a = 1 \\qquad b = 2 \\qquad  c = a^2 b  \\qquad  d = \\Big(a + \\frac{\\partial c}{\\partial a}\\Big) b$\n",
    "\n",
    "and we want $\\frac{\\partial d}{\\partial a}$ which for b=2 is 10. "
   ]
  },
  {
   "cell_type": "code",
   "execution_count": 48,
   "id": "e885d567",
   "metadata": {},
   "outputs": [
    {
     "name": "stdout",
     "output_type": "stream",
     "text": [
      "c: 2.0, dc_da: 4.0, d: 10.0, dd_da: 10.0\n"
     ]
    }
   ],
   "source": [
    "import torch\n",
    "\n",
    "a = torch.tensor(1., requires_grad=True)\n",
    "b = torch.tensor(2.)\n",
    "c = a * a * b\n",
    "dc_da = torch.autograd.grad(c, a, create_graph=True)[0]\n",
    "#dc_da = torch.autograd.grad(c, a)[0]\n",
    "\n",
    "d = (a + dc_da) * b\n",
    "dd_da = torch.autograd.grad(d, a)[0]\n",
    "\n",
    "print('c: {}, dc_da: {}, d: {}, dd_da: {}'.format(c, dc_da, d, dd_da))"
   ]
  },
  {
   "cell_type": "code",
   "execution_count": null,
   "id": "6f5c83aa",
   "metadata": {},
   "outputs": [],
   "source": []
  }
 ],
 "metadata": {
  "kernelspec": {
   "display_name": "Python 3 (ipykernel)",
   "language": "python",
   "name": "python3"
  },
  "language_info": {
   "codemirror_mode": {
    "name": "ipython",
    "version": 3
   },
   "file_extension": ".py",
   "mimetype": "text/x-python",
   "name": "python",
   "nbconvert_exporter": "python",
   "pygments_lexer": "ipython3",
   "version": "3.9.13"
  }
 },
 "nbformat": 4,
 "nbformat_minor": 5
}
