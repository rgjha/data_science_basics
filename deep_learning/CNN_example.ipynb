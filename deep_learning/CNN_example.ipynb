{
  "cells": [
    {
      "cell_type": "markdown",
      "id": "c5ab0e05",
      "metadata": {
        "id": "c5ab0e05"
      },
      "source": [
        "We will now learn about Convolutional Neural Network (CNN or ConvNet). CNN's are known for their capabilities to find patterns in visual data. And since we dealt with Fashion data in earlier notebook, let's see if using a CNN model can improve deal with number images. \n",
        "\n",
        "It follows the typical structure of a convolutional neural network:\n",
        "Input layer --> [Convolutional layer -> activation layer -> pooling layer] -> Output layer\n",
        "where the layers in [] can be repeated multiple times! \n",
        "\n",
        "Today, CNN’s are used in many computer vision applications such as facial recognition, image search, and editing, augmented reality, and more. \n",
        "\n",
        "When to use CNN and when to use ANN:\n",
        "\n",
        "CNNs work best when the data can be represented in a spatial manner, say an image in M $\\times$ N pixels. If you data is just as useful after shuffling any of your columns with each other then you cannot use CNN.\n",
        "\n",
        "Suppose we are looking for a house dataset with area and price (two columns as features). Swapping changes nothing. In those case, ANNs are preferred! However, if we swap the columns (which are essentially pixel arrays) in my image, I am surely going to mess up my actual image. Hence, we use CNN here! "
      ]
    },
    {
      "cell_type": "code",
      "execution_count": 1,
      "id": "7ec8558a",
      "metadata": {
        "id": "7ec8558a"
      },
      "outputs": [],
      "source": [
        "import numpy as np\n",
        "np.random.seed(123)"
      ]
    },
    {
      "cell_type": "code",
      "execution_count": 2,
      "id": "ddec9934",
      "metadata": {
        "id": "ddec9934"
      },
      "outputs": [],
      "source": [
        "from keras.models import Sequential\n",
        "from keras.layers import Dense, Dropout, Activation, Flatten\n",
        "from keras.layers import Convolution2D, MaxPooling2D\n",
        "from keras.utils import np_utils"
      ]
    },
    {
      "cell_type": "code",
      "execution_count": 3,
      "id": "59e25da3",
      "metadata": {
        "colab": {
          "base_uri": "https://localhost:8080/"
        },
        "id": "59e25da3",
        "outputId": "06557fe7-f240-40ea-b450-59696950d4d1"
      },
      "outputs": [
        {
          "name": "stdout",
          "output_type": "stream",
          "text": [
            "Downloading data from https://storage.googleapis.com/tensorflow/tf-keras-datasets/mnist.npz\n",
            "11490434/11490434 [==============================] - 0s 0us/step\n"
          ]
        }
      ],
      "source": [
        "from keras.datasets import mnist\n",
        " \n",
        "# Load pre-shuffled MNIST data into train and test sets\n",
        "(X_train, y_train), (X_test, y_test) = mnist.load_data()"
      ]
    },
    {
      "cell_type": "code",
      "execution_count": 4,
      "id": "WLO1tPbo4J1K",
      "metadata": {
        "colab": {
          "base_uri": "https://localhost:8080/"
        },
        "id": "WLO1tPbo4J1K",
        "outputId": "24e96a92-2ab5-4f20-a4a8-9acac00f47d4"
      },
      "outputs": [
        {
          "name": "stdout",
          "output_type": "stream",
          "text": [
            "(60000, 28, 28)\n"
          ]
        }
      ],
      "source": [
        "print( X_train.shape)"
      ]
    },
    {
      "cell_type": "markdown",
      "id": "Y1Y8rzFc4OhZ",
      "metadata": {
        "id": "Y1Y8rzFc4OhZ"
      },
      "source": [
        "60,000 samples in our training set, and the images are 28 pixels x 28 pixels each. We can confirm this by plotting the first sample in matplotlib:"
      ]
    },
    {
      "cell_type": "code",
      "execution_count": 5,
      "id": "WK-6mIkb4PH4",
      "metadata": {
        "colab": {
          "base_uri": "https://localhost:8080/",
          "height": 282
        },
        "id": "WK-6mIkb4PH4",
        "outputId": "1c22dbd7-7719-4ce2-c68c-e1c68061bf7d"
      },
      "outputs": [
        {
          "data": {
            "text/plain": [
              "<matplotlib.image.AxesImage at 0x28d11ce20>"
            ]
          },
          "execution_count": 5,
          "metadata": {},
          "output_type": "execute_result"
        },
        {
          "data": {
            "image/png": "[encoded data removed]",
            "text/plain": [
              "<Figure size 640x480 with 1 Axes>"
            ]
          },
          "metadata": {},
          "output_type": "display_data"
        }
      ],
      "source": [
        "from matplotlib import pyplot as plt\n",
        "plt.imshow(X_train[0])"
      ]
    },
    {
      "cell_type": "code",
      "execution_count": 6,
      "id": "BvIpl4t34duW",
      "metadata": {
        "colab": {
          "base_uri": "https://localhost:8080/"
        },
        "id": "BvIpl4t34duW",
        "outputId": "78fa838f-bfa8-423f-a1de-cd275967be3d"
      },
      "outputs": [
        {
          "name": "stdout",
          "output_type": "stream",
          "text": [
            "(60000, 28, 28, 1)\n"
          ]
        }
      ],
      "source": [
        "X_train = X_train.reshape(X_train.shape[0], 28, 28, 1)\n",
        "X_test = X_test.reshape(X_test.shape[0], 28, 28, 1)\n",
        "print( X_train.shape )"
      ]
    },
    {
      "cell_type": "markdown",
      "id": "QGXASI2Z4rnW",
      "metadata": {
        "id": "QGXASI2Z4rnW"
      },
      "source": [
        "The final preprocessing step for the input data is to convert our data type to float32 and normalize our data values to the range [0, 1]."
      ]
    },
    {
      "cell_type": "code",
      "execution_count": 7,
      "id": "owwMdVnr4sFS",
      "metadata": {
        "id": "owwMdVnr4sFS"
      },
      "outputs": [],
      "source": [
        "X_train = X_train.astype('float32')\n",
        "X_test = X_test.astype('float32')\n",
        "X_train /= 255\n",
        "X_test /= 255"
      ]
    },
    {
      "cell_type": "code",
      "execution_count": 8,
      "id": "O5PK2WTv4y8s",
      "metadata": {
        "colab": {
          "base_uri": "https://localhost:8080/"
        },
        "id": "O5PK2WTv4y8s",
        "outputId": "85c3dff7-fc6e-4859-dfaf-585c5b28c947"
      },
      "outputs": [
        {
          "name": "stdout",
          "output_type": "stream",
          "text": [
            "(60000,)\n"
          ]
        }
      ],
      "source": [
        "print(y_train.shape)"
      ]
    },
    {
      "cell_type": "code",
      "execution_count": 9,
      "id": "5Zbkh10S4-Ru",
      "metadata": {
        "colab": {
          "base_uri": "https://localhost:8080/"
        },
        "id": "5Zbkh10S4-Ru",
        "outputId": "5df71808-247f-4ce7-89e1-0120d2e1dfdf"
      },
      "outputs": [
        {
          "name": "stdout",
          "output_type": "stream",
          "text": [
            "(60000, 10)\n"
          ]
        }
      ],
      "source": [
        "Y_train = np_utils.to_categorical(y_train, 10)\n",
        "Y_test = np_utils.to_categorical(y_test, 10)\n",
        "print(Y_train.shape)"
      ]
    },
    {
      "cell_type": "code",
      "execution_count": 10,
      "id": "zpppMXji5Omb",
      "metadata": {
        "colab": {
          "base_uri": "https://localhost:8080/"
        },
        "id": "zpppMXji5Omb",
        "outputId": "7ee54bbb-b7c1-42e2-fac1-c8ec197fd10e"
      },
      "outputs": [
        {
          "name": "stdout",
          "output_type": "stream",
          "text": [
            "[[0. 0. 0. 0. 0. 1. 0. 0. 0. 0.]\n",
            " [1. 0. 0. 0. 0. 0. 0. 0. 0. 0.]\n",
            " [0. 0. 0. 0. 1. 0. 0. 0. 0. 0.]\n",
            " [0. 1. 0. 0. 0. 0. 0. 0. 0. 0.]\n",
            " [0. 0. 0. 0. 0. 0. 0. 0. 0. 1.]]\n"
          ]
        }
      ],
      "source": [
        "print(Y_train[:5,:10])"
      ]
    },
    {
      "cell_type": "code",
      "execution_count": 11,
      "id": "e55HMvxJ5SP5",
      "metadata": {
        "id": "e55HMvxJ5SP5"
      },
      "outputs": [],
      "source": [
        "model = Sequential()\n",
        "model.add(Convolution2D(32, (3,3), activation='relu', input_shape=(28,28,1), padding = 'same'))\n",
        "# In 1d for ex.: model.add(Convolution1D(64, 3, border_mode='same', input_shape=(10, 32)))\n",
        "#print(model.output_shape)\n",
        "model.add(Convolution2D(32, (3,3), activation='relu'))\n",
        "model.add(MaxPooling2D(pool_size=(2,2)))\n",
        "model.add(Dropout(0.25))\n",
        "model.add(Flatten())\n",
        "model.add(Dense(128, activation='relu'))\n",
        "model.add(Dropout(0.5))\n",
        "model.add(Dense(10, activation='softmax'))"
      ]
    },
    {
      "cell_type": "markdown",
      "id": "nzEXS7NAMNn4",
      "metadata": {
        "id": "nzEXS7NAMNn4"
      },
      "source": [
        "The choice of 32 above is arbitrary! A kernel is a small grid of numbers and you pass it over your whole image i.e. all the pixels in your input image, and transforming it based on what those numbers are. By using different numbers in the kernels, you can perform different types of image preprocessing (during image recognition) such as contrast, blur, sharpen, or edge detection. Generally speaking, the kernel is smaller than the image, and 3x3 is a pretty common choice. \n",
        "\n",
        "Check this for more explanation: https://towardsdatascience.com/beginners-guide-to-building-convolutional-neural-networks-using-tensorflow-s-keras-api-in-python-6e8035e28238\n",
        "\n"
      ]
    },
    {
      "cell_type": "markdown",
      "id": "rrmtmUJq5mT8",
      "metadata": {
        "id": "rrmtmUJq5mT8"
      },
      "source": []
    },
    {
      "cell_type": "code",
      "execution_count": 12,
      "id": "-GxcuDh85j53",
      "metadata": {
        "id": "-GxcuDh85j53"
      },
      "outputs": [],
      "source": [
        "model.compile(loss='categorical_crossentropy',\n",
        "              optimizer='adam',\n",
        "              metrics=['accuracy'])"
      ]
    },
    {
      "cell_type": "code",
      "execution_count": 13,
      "id": "i6gTq0ye68co",
      "metadata": {
        "colab": {
          "base_uri": "https://localhost:8080/"
        },
        "id": "i6gTq0ye68co",
        "outputId": "d6b59994-fdac-4fa1-a3c0-facb6d377b12"
      },
      "outputs": [
        {
          "name": "stdout",
          "output_type": "stream",
          "text": [
            "Epoch 1/10\n"
          ]
        },
        {
          "name": "stderr",
          "output_type": "stream",
          "text": [
            "2023-04-07 00:29:16.899486: W tensorflow/tsl/platform/profile_utils/cpu_utils.cc:128] Failed to get CPU frequency: 0 Hz\n"
          ]
        },
        {
          "name": "stdout",
          "output_type": "stream",
          "text": [
            "1875/1875 [==============================] - 22s 11ms/step - loss: 0.2031 - accuracy: 0.9374\n",
            "Epoch 2/10\n",
            "1875/1875 [==============================] - 21s 11ms/step - loss: 0.0888 - accuracy: 0.9738\n",
            "Epoch 3/10\n",
            "1875/1875 [==============================] - 24s 13ms/step - loss: 0.0703 - accuracy: 0.9788\n",
            "Epoch 4/10\n",
            "1875/1875 [==============================] - 22s 12ms/step - loss: 0.0585 - accuracy: 0.9822\n",
            "Epoch 5/10\n",
            "1875/1875 [==============================] - 20s 11ms/step - loss: 0.0497 - accuracy: 0.9845\n",
            "Epoch 6/10\n",
            "1875/1875 [==============================] - 20s 11ms/step - loss: 0.0439 - accuracy: 0.9866\n",
            "Epoch 7/10\n",
            "1875/1875 [==============================] - 23s 12ms/step - loss: 0.0384 - accuracy: 0.9882\n",
            "Epoch 8/10\n",
            "1875/1875 [==============================] - 21s 11ms/step - loss: 0.0378 - accuracy: 0.9886\n",
            "Epoch 9/10\n",
            "1875/1875 [==============================] - 21s 11ms/step - loss: 0.0341 - accuracy: 0.9890\n",
            "Epoch 10/10\n",
            "1875/1875 [==============================] - 20s 11ms/step - loss: 0.0304 - accuracy: 0.9902\n"
          ]
        },
        {
          "data": {
            "text/plain": [
              "<keras.callbacks.History at 0x2992a3b50>"
            ]
          },
          "execution_count": 13,
          "metadata": {},
          "output_type": "execute_result"
        }
      ],
      "source": [
        "model.fit(X_train, Y_train, batch_size=32, epochs=10, verbose=1)"
      ]
    },
    {
      "cell_type": "code",
      "execution_count": 14,
      "id": "crpsZtqrIo5g",
      "metadata": {
        "id": "crpsZtqrIo5g"
      },
      "outputs": [],
      "source": [
        "score = model.evaluate(X_test, Y_test, verbose=0) # loss and accuracy"
      ]
    },
    {
      "cell_type": "code",
      "execution_count": 15,
      "id": "gWn_i3vQJKEg",
      "metadata": {
        "colab": {
          "base_uri": "https://localhost:8080/"
        },
        "id": "gWn_i3vQJKEg",
        "outputId": "eb17dc6f-689e-4c82-e15a-9f510bd9a49a"
      },
      "outputs": [
        {
          "name": "stdout",
          "output_type": "stream",
          "text": [
            "accuracy: 99.10%\n"
          ]
        }
      ],
      "source": [
        "scores = []\n",
        "print(\"%s: %.2f%%\" % (model.metrics_names[1], score[1]*100))\n",
        "scores.append(score[1] * 100)\n",
        "#print(\"%.2f%% (+/- %.2f%%)\" % (np.mean(scores), np.std(scores)))"
      ]
    }
  ],
  "metadata": {
    "colab": {
      "provenance": []
    },
    "kernelspec": {
      "display_name": "Python 3 (ipykernel)",
      "language": "python",
      "name": "python3"
    },
    "language_info": {
      "codemirror_mode": {
        "name": "ipython",
        "version": 3
      },
      "file_extension": ".py",
      "mimetype": "text/x-python",
      "name": "python",
      "nbconvert_exporter": "python",
      "pygments_lexer": "ipython3",
      "version": "3.10.9"
    }
  },
  "nbformat": 4,
  "nbformat_minor": 5
}
