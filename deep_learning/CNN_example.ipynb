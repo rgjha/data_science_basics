{
 "cells": [
  {
   "cell_type": "markdown",
   "id": "c5ab0e05",
   "metadata": {},
   "source": [
    "We will now learn about Convolutional Neural Network (CNN or ConvNet). CNN's are known for their capabilities to find patterns in visual data. And since we dealt with Fashion data in earlier notebook, let's see if using a CNN model can improve upon our baseline.\n",
    "\n",
    "The CNN model we're going to be using is known as TinyVGG from very interesting\n",
    "website: https://poloclub.github.io/cnn-explainer/\n",
    "\n",
    "It follows the typical structure of a convolutional neural network:\n",
    "Input layer --> [Convolutional layer -> activation layer -> pooling layer] -> Output layer\n",
    "where the layers in [] can be repeated multiple times! "
   ]
  },
  {
   "cell_type": "code",
   "execution_count": null,
   "id": "7ec8558a",
   "metadata": {},
   "outputs": [],
   "source": []
  }
 ],
 "metadata": {
  "kernelspec": {
   "display_name": "Python 3 (ipykernel)",
   "language": "python",
   "name": "python3"
  },
  "language_info": {
   "codemirror_mode": {
    "name": "ipython",
    "version": 3
   },
   "file_extension": ".py",
   "mimetype": "text/x-python",
   "name": "python",
   "nbconvert_exporter": "python",
   "pygments_lexer": "ipython3",
   "version": "3.9.13"
  }
 },
 "nbformat": 4,
 "nbformat_minor": 5
}
