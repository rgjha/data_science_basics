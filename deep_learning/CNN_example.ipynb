{
  "cells": [
    {
      "cell_type": "markdown",
      "id": "c5ab0e05",
      "metadata": {
        "id": "c5ab0e05"
      },
      "source": [
        "We will now learn about Convolutional Neural Network (CNN or ConvNet). CNN's are known for their capabilities to find patterns in visual data. And since we dealt with Fashion data in earlier notebook, let's see if using a CNN model can improve deal with number images. \n",
        "\n",
        "It follows the typical structure of a convolutional neural network:\n",
        "Input layer --> [Convolutional layer -> activation layer -> pooling layer] -> Output layer\n",
        "where the layers in [] can be repeated multiple times! \n",
        "\n",
        "Today, CNN’s are used in many computer vision applications such as facial recognition, image search, and editing, augmented reality, and more. \n",
        "\n",
        "When to use CNN and when to use ANN:\n",
        "\n",
        "CNNs work best when the data can be represented in a spatial manner, say an image in M $\\times$ N pixels. If you data is just as useful after shuffling any of your columns with each other then you cannot use CNN.\n",
        "\n",
        "Suppose we are looking for a house dataset with area and price (two columns as features). Swapping changes nothing. In those case, ANNs are preferred! However, if we swap the columns (which are essentially pixel arrays) in my image, I am surely going to mess up my actual image. Hence, we use CNN here! "
      ]
    },
    {
      "cell_type": "code",
      "execution_count": 2,
      "id": "7ec8558a",
      "metadata": {
        "id": "7ec8558a"
      },
      "outputs": [],
      "source": [
        "import numpy as np\n",
        "np.random.seed(123)"
      ]
    },
    {
      "cell_type": "code",
      "execution_count": 3,
      "id": "ddec9934",
      "metadata": {
        "id": "ddec9934"
      },
      "outputs": [],
      "source": [
        "from keras.models import Sequential\n",
        "from keras.layers import Dense, Dropout, Activation, Flatten\n",
        "from keras.layers import Convolution2D, MaxPooling2D\n",
        "from keras.utils import np_utils"
      ]
    },
    {
      "cell_type": "code",
      "execution_count": 4,
      "id": "59e25da3",
      "metadata": {
        "colab": {
          "base_uri": "https://localhost:8080/"
        },
        "id": "59e25da3",
        "outputId": "06557fe7-f240-40ea-b450-59696950d4d1"
      },
      "outputs": [
        {
          "output_type": "stream",
          "name": "stdout",
          "text": [
            "Downloading data from https://storage.googleapis.com/tensorflow/tf-keras-datasets/mnist.npz\n",
            "11490434/11490434 [==============================] - 0s 0us/step\n"
          ]
        }
      ],
      "source": [
        "from keras.datasets import mnist\n",
        " \n",
        "# Load pre-shuffled MNIST data into train and test sets\n",
        "(X_train, y_train), (X_test, y_test) = mnist.load_data()"
      ]
    },
    {
      "cell_type": "code",
      "source": [
        "print( X_train.shape)"
      ],
      "metadata": {
        "colab": {
          "base_uri": "https://localhost:8080/"
        },
        "id": "WLO1tPbo4J1K",
        "outputId": "24e96a92-2ab5-4f20-a4a8-9acac00f47d4"
      },
      "id": "WLO1tPbo4J1K",
      "execution_count": 5,
      "outputs": [
        {
          "output_type": "stream",
          "name": "stdout",
          "text": [
            "(60000, 28, 28)\n"
          ]
        }
      ]
    },
    {
      "cell_type": "markdown",
      "source": [
        "60,000 samples in our training set, and the images are 28 pixels x 28 pixels each. We can confirm this by plotting the first sample in matplotlib:"
      ],
      "metadata": {
        "id": "Y1Y8rzFc4OhZ"
      },
      "id": "Y1Y8rzFc4OhZ"
    },
    {
      "cell_type": "code",
      "source": [
        "from matplotlib import pyplot as plt\n",
        "plt.imshow(X_train[0])"
      ],
      "metadata": {
        "colab": {
          "base_uri": "https://localhost:8080/",
          "height": 282
        },
        "id": "WK-6mIkb4PH4",
        "outputId": "1c22dbd7-7719-4ce2-c68c-e1c68061bf7d"
      },
      "id": "WK-6mIkb4PH4",
      "execution_count": 7,
      "outputs": [
        {
          "output_type": "execute_result",
          "data": {
            "text/plain": [
              "<matplotlib.image.AxesImage at 0x7fd4e70ee910>"
            ]
          },
          "metadata": {},
          "execution_count": 7
        },
        {
          "output_type": "display_data",
          "data": {
            "text/plain": [
              "<Figure size 432x288 with 1 Axes>"
            ],
            "image/png": "[encoded data removed]"
          },
          "metadata": {
            "needs_background": "light"
          }
        }
      ]
    },
    {
      "cell_type": "code",
      "source": [
        "X_train = X_train.reshape(X_train.shape[0], 28, 28, 1)\n",
        "X_test = X_test.reshape(X_test.shape[0], 28, 28, 1)\n",
        "print( X_train.shape )"
      ],
      "metadata": {
        "colab": {
          "base_uri": "https://localhost:8080/"
        },
        "id": "BvIpl4t34duW",
        "outputId": "78fa838f-bfa8-423f-a1de-cd275967be3d"
      },
      "id": "BvIpl4t34duW",
      "execution_count": 9,
      "outputs": [
        {
          "output_type": "stream",
          "name": "stdout",
          "text": [
            "(60000, 28, 28, 1)\n"
          ]
        }
      ]
    },
    {
      "cell_type": "markdown",
      "source": [
        "The final preprocessing step for the input data is to convert our data type to float32 and normalize our data values to the range [0, 1]."
      ],
      "metadata": {
        "id": "QGXASI2Z4rnW"
      },
      "id": "QGXASI2Z4rnW"
    },
    {
      "cell_type": "code",
      "source": [
        "X_train = X_train.astype('float32')\n",
        "X_test = X_test.astype('float32')\n",
        "X_train /= 255\n",
        "X_test /= 255"
      ],
      "metadata": {
        "id": "owwMdVnr4sFS"
      },
      "id": "owwMdVnr4sFS",
      "execution_count": 10,
      "outputs": []
    },
    {
      "cell_type": "code",
      "source": [
        "print(y_train.shape)"
      ],
      "metadata": {
        "colab": {
          "base_uri": "https://localhost:8080/"
        },
        "id": "O5PK2WTv4y8s",
        "outputId": "85c3dff7-fc6e-4859-dfaf-585c5b28c947"
      },
      "id": "O5PK2WTv4y8s",
      "execution_count": 11,
      "outputs": [
        {
          "output_type": "stream",
          "name": "stdout",
          "text": [
            "(60000,)\n"
          ]
        }
      ]
    },
    {
      "cell_type": "code",
      "source": [
        "Y_train = np_utils.to_categorical(y_train, 10)\n",
        "Y_test = np_utils.to_categorical(y_test, 10)\n",
        "print(Y_train.shape)"
      ],
      "metadata": {
        "colab": {
          "base_uri": "https://localhost:8080/"
        },
        "id": "5Zbkh10S4-Ru",
        "outputId": "5df71808-247f-4ce7-89e1-0120d2e1dfdf"
      },
      "id": "5Zbkh10S4-Ru",
      "execution_count": 15,
      "outputs": [
        {
          "output_type": "stream",
          "name": "stdout",
          "text": [
            "(60000, 10)\n"
          ]
        }
      ]
    },
    {
      "cell_type": "code",
      "source": [
        "print(Y_train[:5,:10])"
      ],
      "metadata": {
        "colab": {
          "base_uri": "https://localhost:8080/"
        },
        "id": "zpppMXji5Omb",
        "outputId": "7ee54bbb-b7c1-42e2-fac1-c8ec197fd10e"
      },
      "id": "zpppMXji5Omb",
      "execution_count": 16,
      "outputs": [
        {
          "output_type": "stream",
          "name": "stdout",
          "text": [
            "[[0. 0. 0. 0. 0. 1. 0. 0. 0. 0.]\n",
            " [1. 0. 0. 0. 0. 0. 0. 0. 0. 0.]\n",
            " [0. 0. 0. 0. 1. 0. 0. 0. 0. 0.]\n",
            " [0. 1. 0. 0. 0. 0. 0. 0. 0. 0.]\n",
            " [0. 0. 0. 0. 0. 0. 0. 0. 0. 1.]]\n"
          ]
        }
      ]
    },
    {
      "cell_type": "code",
      "source": [
        "model = Sequential()\n",
        "model.add(Convolution2D(32, (3,3), activation='relu', input_shape=(28,28,1), padding = 'same'))\n",
        "# In 1d for ex.: model.add(Convolution1D(64, 3, border_mode='same', input_shape=(10, 32)))\n",
        "#print(model.output_shape)\n",
        "model.add(Convolution2D(32, (3,3), activation='relu'))\n",
        "model.add(MaxPooling2D(pool_size=(2,2)))\n",
        "model.add(Dropout(0.25))\n",
        "model.add(Flatten())\n",
        "model.add(Dense(128, activation='relu'))\n",
        "model.add(Dropout(0.5))\n",
        "model.add(Dense(10, activation='softmax'))"
      ],
      "metadata": {
        "id": "e55HMvxJ5SP5"
      },
      "id": "e55HMvxJ5SP5",
      "execution_count": 26,
      "outputs": []
    },
    {
      "cell_type": "markdown",
      "source": [
        "The choice of 32 above is arbitrary! A kernel is a small grid of numbers and you pass it over your whole image i.e. all the pixels in your input image, and transforming it based on what those numbers are. By using different numbers in the kernels, you can perform different types of image preprocessing (during image recognition) such as contrast, blur, sharpen, or edge detection. Generally speaking, the kernel is smaller than the image, and 3x3 is a pretty common choice. \n",
        "\n",
        "Check this for more explanation: https://towardsdatascience.com/beginners-guide-to-building-convolutional-neural-networks-using-tensorflow-s-keras-api-in-python-6e8035e28238\n",
        "\n"
      ],
      "metadata": {
        "id": "nzEXS7NAMNn4"
      },
      "id": "nzEXS7NAMNn4"
    },
    {
      "cell_type": "markdown",
      "source": [],
      "metadata": {
        "id": "rrmtmUJq5mT8"
      },
      "id": "rrmtmUJq5mT8"
    },
    {
      "cell_type": "code",
      "source": [
        "model.compile(loss='categorical_crossentropy',\n",
        "              optimizer='adam',\n",
        "              metrics=['accuracy'])"
      ],
      "metadata": {
        "id": "-GxcuDh85j53"
      },
      "id": "-GxcuDh85j53",
      "execution_count": 27,
      "outputs": []
    },
    {
      "cell_type": "code",
      "source": [
        "model.fit(X_train, Y_train, batch_size=32, epochs=10, verbose=1)"
      ],
      "metadata": {
        "colab": {
          "base_uri": "https://localhost:8080/"
        },
        "id": "i6gTq0ye68co",
        "outputId": "d6b59994-fdac-4fa1-a3c0-facb6d377b12"
      },
      "id": "i6gTq0ye68co",
      "execution_count": 28,
      "outputs": [
        {
          "output_type": "stream",
          "name": "stdout",
          "text": [
            "Epoch 1/10\n",
            "1875/1875 [==============================] - 144s 74ms/step - loss: 0.2059 - accuracy: 0.9395\n",
            "Epoch 2/10\n",
            "1875/1875 [==============================] - 140s 75ms/step - loss: 0.0861 - accuracy: 0.9748\n",
            "Epoch 3/10\n",
            "1875/1875 [==============================] - 145s 78ms/step - loss: 0.0662 - accuracy: 0.9799\n",
            "Epoch 4/10\n",
            "1875/1875 [==============================] - 142s 76ms/step - loss: 0.0554 - accuracy: 0.9833\n",
            "Epoch 5/10\n",
            "1875/1875 [==============================] - 139s 74ms/step - loss: 0.0457 - accuracy: 0.9858\n",
            "Epoch 6/10\n",
            "1875/1875 [==============================] - 140s 74ms/step - loss: 0.0424 - accuracy: 0.9863\n",
            "Epoch 7/10\n",
            "1875/1875 [==============================] - 137s 73ms/step - loss: 0.0365 - accuracy: 0.9885\n",
            "Epoch 8/10\n",
            "1875/1875 [==============================] - 161s 86ms/step - loss: 0.0325 - accuracy: 0.9897\n",
            "Epoch 9/10\n",
            "1875/1875 [==============================] - 139s 74ms/step - loss: 0.0303 - accuracy: 0.9905\n",
            "Epoch 10/10\n",
            "1875/1875 [==============================] - 140s 74ms/step - loss: 0.0290 - accuracy: 0.9907\n"
          ]
        },
        {
          "output_type": "execute_result",
          "data": {
            "text/plain": [
              "<keras.callbacks.History at 0x7fd4ea82e760>"
            ]
          },
          "metadata": {},
          "execution_count": 28
        }
      ]
    },
    {
      "cell_type": "code",
      "source": [
        "score = model.evaluate(X_test, Y_test, verbose=0) # loss and accuracy"
      ],
      "metadata": {
        "id": "crpsZtqrIo5g"
      },
      "id": "crpsZtqrIo5g",
      "execution_count": 29,
      "outputs": []
    },
    {
      "cell_type": "code",
      "source": [
        "scores = []\n",
        "print(\"%s: %.2f%%\" % (model.metrics_names[1], score[1]*100))\n",
        "scores.append(score[1] * 100)\n",
        "#print(\"%.2f%% (+/- %.2f%%)\" % (np.mean(scores), np.std(scores)))"
      ],
      "metadata": {
        "colab": {
          "base_uri": "https://localhost:8080/"
        },
        "id": "gWn_i3vQJKEg",
        "outputId": "eb17dc6f-689e-4c82-e15a-9f510bd9a49a"
      },
      "id": "gWn_i3vQJKEg",
      "execution_count": 36,
      "outputs": [
        {
          "output_type": "stream",
          "name": "stdout",
          "text": [
            "accuracy: 99.14%\n",
            "99.14% (+/- 0.00%)\n"
          ]
        }
      ]
    }
  ],
  "metadata": {
    "kernelspec": {
      "display_name": "Python 3 (ipykernel)",
      "language": "python",
      "name": "python3"
    },
    "language_info": {
      "codemirror_mode": {
        "name": "ipython",
        "version": 3
      },
      "file_extension": ".py",
      "mimetype": "text/x-python",
      "name": "python",
      "nbconvert_exporter": "python",
      "pygments_lexer": "ipython3",
      "version": "3.9.13"
    },
    "colab": {
      "provenance": []
    }
  },
  "nbformat": 4,
  "nbformat_minor": 5
}