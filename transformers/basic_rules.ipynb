{
 "cells": [
  {
   "attachments": {},
   "cell_type": "markdown",
   "id": "2e10852c",
   "metadata": {},
   "source": [
    "#### We will write out some basic stuff relaled to Self-Attention which is one of the ingredients of Transformers \n",
    "\n",
    "Some references:\n",
    "- https://arxiv.org/abs/2207.09238\n",
    "- https://arxiv.org/pdf/2105.09121.pdf\n",
    "- https://johnthickstun.com/docs/transformers.pdf\n",
    "- https://peterbloem.nl/blog/transformers\n",
    "- https://github.com/mlvu/worksheets/blob/master/Worksheet%205%2C%20Pytorch.ipynb\n",
    "- https://github.com/pbloem/former/issues/4\n",
    "- https://towardsdatascience.com/illustrated-guide-to-transformers-step-by-step-explanation-f74876522bc0\n",
    "- \n",
    "\n",
    "\n",
    "A statistical model is autoregressive if it predicts future values based on past values. \n",
    "Except for inputs, cross-attention calculation is the same as self-attention.\n",
    "\n",
    "\n",
    "Cross-attention combines asymmetrically two separate (KV) embedding sequences of same dimension, \n",
    "in contrast self-attention input is a single embedding sequence.\n",
    "\n",
    "Read up:\n",
    "\n",
    "- https://doordash.engineering/2022/09/08/evolving-doordashs-substitution-recommendations-algorithm/\n",
    "- https://arxiv.org/pdf/2205.11728.pdf\n",
    "- https://arxiv.org/pdf/2102.06156.pdf"
   ]
  },
  {
   "cell_type": "code",
   "execution_count": 4,
   "id": "53aff8de",
   "metadata": {},
   "outputs": [
    {
     "data": {
      "text/plain": [
       "(torch.Size([10, 20, 20]), torch.Size([10, 30, 20]))"
      ]
     },
     "execution_count": 4,
     "metadata": {},
     "output_type": "execute_result"
    }
   ],
   "source": [
    "# Seattle, 3 Apr 2023\n",
    "# 3.10.9 Conda \n",
    "\n",
    "import torch\n",
    "from torch import nn\n",
    "import torch.nn.functional as F\n",
    "from pytorch_transformers import *\n",
    "\n",
    "\n",
    "\n",
    "b, t, k = 10, 20, 30 \n",
    "# We’ll represent the input, a sequence of \n",
    "# t vectors of dimension k as a t by k matrix 𝐗. \n",
    "# Including a minibatch dimension b, gives us \n",
    "# an input tensor of size (b,t,k).\n",
    "\n",
    "# t is max.length of sentence, k is dim. of inputs\n",
    "\n",
    "# Masking plays an important role in the transformer. It serves two purposes:\n",
    "# In the encoder and decoder: To zero attention outputs wherever there is just padding in the input sentences.\n",
    "# In the decoder: To prevent the decoder ‘peaking’ ahead at the rest of the translated \n",
    "# sentence when predicting the next word.# \n",
    "\n",
    "\n",
    "\n",
    "# assume we have some tensor x with size (b, t, k)\n",
    "x = torch.rand(b,t,k)\n",
    "\n",
    "raw_weights = torch.bmm(x, x.transpose(1, 2))\n",
    "#raw_weights = torch.einsum('xyz,xzy', x, x)\n",
    "weights = F.softmax(raw_weights, dim=2)\n",
    "raw_weights.shape, x.transpose(1, 2).shape\n",
    "\n",
    "\n"
   ]
  },
  {
   "cell_type": "code",
   "execution_count": 6,
   "id": "cd359817",
   "metadata": {},
   "outputs": [],
   "source": [
    "class SelfAttention(nn.Module):\n",
    "\n",
    "    def __init__(self, k, heads=4, mask=False):\n",
    "      \n",
    "        super().__init__()\n",
    "    \n",
    "        assert k % heads == 0\n",
    "        # the embedding dimension needs to be divisible by the number of heads.\n",
    "\n",
    "        # heads > 1 is multi-head self attention \n",
    "\n",
    "        self.k, self.heads = k, heads\n",
    "\n",
    "        # These compute the queries, keys and values for all\n",
    "        # heads\n",
    "        self.tokeys    = nn.Linear(k, k, bias=False)\n",
    "        self.toqueries = nn.Linear(k, k, bias=False)\n",
    "        self.tovalues  = nn.Linear(k, k, bias=False)\n",
    "\n",
    "\t    # This will be applied after the multi-head self-attention operation.\n",
    "        self.unifyheads = nn.Linear(k, k)\n",
    "\n",
    "    def forward(self, x):\n",
    "\n",
    "        b, t, k = x.size()\n",
    "        h = self.heads\n",
    "\n",
    "        queries = self.toqueries(x)\n",
    "        keys    = self.tokeys(x)   \n",
    "        values  = self.tovalues(x)\n",
    "\n",
    "        s = k // h\n",
    "\n",
    "        keys    = keys.view(b, t, h, s)\n",
    "        queries = queries.view(b, t, h, s)\n",
    "        values  = values.view(b, t, h, s)\n",
    "\n",
    "        # - fold heads into the batch dimension\n",
    "        keys = keys.transpose(1, 2).contiguous().view(b * h, t, s)\n",
    "        queries = queries.transpose(1, 2).contiguous().view(b * h, t, s)\n",
    "        values = values.transpose(1, 2).contiguous().view(b * h, t, s)\n",
    "\n",
    "        # Option 1 \n",
    "        queries = queries \n",
    "        keys    = keys\n",
    "\n",
    "        # Get dot product of queries and keys, and scale\n",
    "        dot = torch.bmm(queries, keys.transpose(1, 2))\n",
    "        # -- dot has size (b*h, t, t) containing raw weights\n",
    "        \n",
    "        # q and k gives weight \n",
    "\n",
    "        # scale the dot product\n",
    "        dot = dot / (k ** (1/2))\n",
    "\t\n",
    "        # normalize \n",
    "        dot = F.softmax(dot, dim=2)\n",
    "        # - dot now contains row-wise normalized weights\n",
    "\n",
    "        # apply the self attention to the values\n",
    "        out = torch.bmm(dot, values).view(b, h, t, s)\n",
    "\n",
    "        # swap h, t back, unify heads\n",
    "        out = out.transpose(1, 2).contiguous().view(b, t, s * h)\n",
    "\n",
    "\n",
    "        # Option 2 (will make it faster!) \n",
    "\n",
    "        #dot = torch.einsum('bthe,bihe->bhti', queries, keys) / (k ** (1/2))\n",
    "        #dot = F.softmax(dot, dim=-1)\n",
    "        #out = torch.einsum('bhtd,bdhe->bthe', dot, values)\n",
    "        #out = torch.einsum('bthe,khe->btk', out, self.unifyheads.weight.view(e,h,e)) \n",
    "        #return out + self.unifyheads.bias\n",
    "    \n",
    "        return self.unifyheads(out)\n",
    "\n"
   ]
  },
  {
   "cell_type": "code",
   "execution_count": 20,
   "id": "39e7c8a6",
   "metadata": {},
   "outputs": [
    {
     "name": "stderr",
     "output_type": "stream",
     "text": [
      "100%|██████████| 232k/232k [00:00<00:00, 1.17MB/s]\n"
     ]
    },
    {
     "data": {
      "text/plain": [
       "['this', 'is', 'a', 'short', 'sequence', '.']"
      ]
     },
     "execution_count": 20,
     "metadata": {},
     "output_type": "execute_result"
    }
   ],
   "source": [
    "from torchtext.transforms import BERTTokenizer\n",
    "VOCAB_FILE = \"https://huggingface.co/bert-base-uncased/resolve/main/vocab.txt\"\n",
    "tokenizer = BertTokenizer.from_pretrained(\"bert-base-cased\")\n",
    "sequence_a = \"This is a short sequence.\"\n",
    "sequence_b = \"This is a rather long sequence. It is at least longer than the sequence A.\"\n",
    "tokenizer = BERTTokenizer(vocab_path=VOCAB_FILE, do_lower_case=True, return_tokens=True)\n",
    "encoded_sequence_a = tokenizer(sequence_a)\n",
    "len(encoded_sequence_a)\n",
    "encoded_sequence_a"
   ]
  }
 ],
 "metadata": {
  "kernelspec": {
   "display_name": "Python 3 (ipykernel)",
   "language": "python",
   "name": "python3"
  },
  "language_info": {
   "codemirror_mode": {
    "name": "ipython",
    "version": 3
   },
   "file_extension": ".py",
   "mimetype": "text/x-python",
   "name": "python",
   "nbconvert_exporter": "python",
   "pygments_lexer": "ipython3",
   "version": "3.10.9"
  }
 },
 "nbformat": 4,
 "nbformat_minor": 5
}
