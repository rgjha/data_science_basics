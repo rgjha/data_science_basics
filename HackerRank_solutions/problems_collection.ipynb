{
 "cells": [
  {
   "cell_type": "code",
   "execution_count": 68,
   "id": "f3cf6c9c",
   "metadata": {},
   "outputs": [],
   "source": [
    "class Solution:\n",
    "# Iterative Approach \n",
    "    def factorial(self, N):\n",
    "        if N < 0: return -1\n",
    "        ans = 1\n",
    "        for i in range(2, N+1):\n",
    "            ans *= i\n",
    "        return ans\n",
    "\n",
    "\n",
    "class Solution1:\n",
    "# Recursive Approach\n",
    "    def factorial(self, N):\n",
    "        if N < 0: return -1\n",
    "        def fac(n):\n",
    "            if n == 1:\n",
    "                return 1\n",
    "            return n*fac(n-1)\n",
    "        return fac(N)"
   ]
  },
  {
   "cell_type": "code",
   "execution_count": 69,
   "id": "d51da9ea",
   "metadata": {},
   "outputs": [
    {
     "data": {
      "text/plain": [
       "120"
      ]
     },
     "execution_count": 69,
     "metadata": {},
     "output_type": "execute_result"
    }
   ],
   "source": [
    "a = Solution().factorial(5)\n",
    "a"
   ]
  },
  {
   "cell_type": "code",
   "execution_count": 70,
   "id": "cdc288e4",
   "metadata": {},
   "outputs": [],
   "source": [
    "def getMedian(C, n):\n",
    "\n",
    "    if n % 2 == 0:\n",
    "        return 0.50 * (C[n//2 - 1] + C[n // 2])\n",
    "    else:\n",
    "        return C[n//2]"
   ]
  },
  {
   "cell_type": "code",
   "execution_count": 91,
   "id": "5f42ccd0",
   "metadata": {},
   "outputs": [],
   "source": [
    "def findMedianSortedArrays(nums1, nums2):\n",
    "\n",
    "\n",
    "        if len(nums1) > len(nums2):\n",
    "            nums1, nums2 = nums2, nums1\n",
    "        \n",
    "        m, n = len(nums1), len(nums2)\n",
    "        imin, imax, half_len = 0, m, (m + n + 1) // 2\n",
    "        \n",
    "        while imin <= imax:\n",
    "            \n",
    "            i = (imin + imax) // 2\n",
    "            j = half_len - i\n",
    "            \n",
    "            if i < m and nums2[j-1] > nums1[i]: imin = i + 1\n",
    "            elif i > 0 and nums1[i-1] > nums2[j]: imax = i - 1\n",
    "            else:\n",
    "                if i == 0: max_left = nums2[j-1]\n",
    "                elif j == 0: max_left = nums1[i-1]\n",
    "                else: max_left = max(nums1[i-1], nums2[j-1])\n",
    "                \n",
    "                \n",
    "                if (m + n) % 2 == 1: return float(max_left)\n",
    "                \n",
    "                if i == m: min_right = nums2[j]\n",
    "                elif j == n: min_right = nums1[i]\n",
    "                else: min_right = min(nums1[i], nums2[j])      \n",
    "                \n",
    "                return (max_left + min_right) / 2.0"
   ]
  },
  {
   "cell_type": "code",
   "execution_count": 92,
   "id": "0c32bedc",
   "metadata": {},
   "outputs": [
    {
     "data": {
      "text/plain": [
       "13.0"
      ]
     },
     "execution_count": 92,
     "metadata": {},
     "output_type": "execute_result"
    }
   ],
   "source": [
    "#A = [1,1,1,2,3,4,5,6,7,8,9,10]\n",
    "#B = [1,2,3,4]\n",
    "#A = [1,2]\n",
    "#B = [3,4] \n",
    "A = [1,3,8,9,15,36] \n",
    "B = [7,11,18,19,21,25] \n",
    "\n",
    "findMedianSortedArrays(A,B)"
   ]
  }
 ],
 "metadata": {
  "kernelspec": {
   "display_name": "Python 3 (ipykernel)",
   "language": "python",
   "name": "python3"
  },
  "language_info": {
   "codemirror_mode": {
    "name": "ipython",
    "version": 3
   },
   "file_extension": ".py",
   "mimetype": "text/x-python",
   "name": "python",
   "nbconvert_exporter": "python",
   "pygments_lexer": "ipython3",
   "version": "3.9.13"
  }
 },
 "nbformat": 4,
 "nbformat_minor": 5
}
